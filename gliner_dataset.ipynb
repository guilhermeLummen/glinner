{
 "cells": [
  {
   "cell_type": "markdown",
   "metadata": {
    "id": "puP4M-mkyX1b"
   },
   "source": [
    "## Import Libs"
   ]
  },
  {
   "cell_type": "code",
   "execution_count": 6,
   "metadata": {
    "id": "VJZzJgwWcUOK"
   },
   "outputs": [],
   "source": [
    "import pandas as pd\n",
    "import ast\n",
    "from collections import Counter\n",
    "import json\n",
    "from langdetect import detect"
   ]
  },
  {
   "cell_type": "markdown",
   "metadata": {
    "id": "Fo2JXz3Wyapo"
   },
   "source": [
    "## Carregando Dataset"
   ]
  },
  {
   "cell_type": "code",
   "execution_count": 7,
   "metadata": {
    "id": "4n89fGLLcXVS"
   },
   "outputs": [],
   "source": [
    "df = pd.read_json(\"../gliner.json\")\n",
    "pd.reset_option('display.max_colwidth')"
   ]
  },
  {
   "cell_type": "code",
   "execution_count": 8,
   "metadata": {
    "colab": {
     "base_uri": "https://localhost:8080/",
     "height": 206
    },
    "id": "DGuf3Z6eceWX",
    "outputId": "a4116f85-5b9e-4ad4-b219-097364882b1f"
   },
   "outputs": [
    {
     "data": {
      "text/html": [
       "<div>\n",
       "<style scoped>\n",
       "    .dataframe tbody tr th:only-of-type {\n",
       "        vertical-align: middle;\n",
       "    }\n",
       "\n",
       "    .dataframe tbody tr th {\n",
       "        vertical-align: top;\n",
       "    }\n",
       "\n",
       "    .dataframe thead th {\n",
       "        text-align: right;\n",
       "    }\n",
       "</style>\n",
       "<table border=\"1\" class=\"dataframe\">\n",
       "  <thead>\n",
       "    <tr style=\"text-align: right;\">\n",
       "      <th></th>\n",
       "      <th>tokenized_text</th>\n",
       "      <th>ner</th>\n",
       "    </tr>\n",
       "  </thead>\n",
       "  <tbody>\n",
       "    <tr>\n",
       "      <th>0</th>\n",
       "      <td>[Mamadou, Diop, ,, a, resident, of, Dakar, ,, ...</td>\n",
       "      <td>[[0, 1, person], [14, 15, nightclub], [45, 45,...</td>\n",
       "    </tr>\n",
       "    <tr>\n",
       "      <th>1</th>\n",
       "      <td>[A, Cônsul, Britânico, em, Brasília, ,, Sir, W...</td>\n",
       "      <td>[[6, 8, person], [17, 19, person], [36, 41, CP...</td>\n",
       "    </tr>\n",
       "    <tr>\n",
       "      <th>2</th>\n",
       "      <td>[Il, pompiere, Saif, Al, Khaili, ,, di, nazion...</td>\n",
       "      <td>[[2, 4, person], [68, 70, date], [76, 82, addr...</td>\n",
       "    </tr>\n",
       "    <tr>\n",
       "      <th>3</th>\n",
       "      <td>[Aquela, queria, ser, imam, em, uma, mesquita,...</td>\n",
       "      <td>[[25, 26, person], [24, 26, name], [31, 31, pa...</td>\n",
       "    </tr>\n",
       "    <tr>\n",
       "      <th>4</th>\n",
       "      <td>[Le, dossier, médical, de, Mme, Kabila, Nzanzu...</td>\n",
       "      <td>[[4, 6, person], [10, 12, birth date], [73, 80...</td>\n",
       "    </tr>\n",
       "  </tbody>\n",
       "</table>\n",
       "</div>"
      ],
      "text/plain": [
       "                                      tokenized_text  \\\n",
       "0  [Mamadou, Diop, ,, a, resident, of, Dakar, ,, ...   \n",
       "1  [A, Cônsul, Britânico, em, Brasília, ,, Sir, W...   \n",
       "2  [Il, pompiere, Saif, Al, Khaili, ,, di, nazion...   \n",
       "3  [Aquela, queria, ser, imam, em, uma, mesquita,...   \n",
       "4  [Le, dossier, médical, de, Mme, Kabila, Nzanzu...   \n",
       "\n",
       "                                                 ner  \n",
       "0  [[0, 1, person], [14, 15, nightclub], [45, 45,...  \n",
       "1  [[6, 8, person], [17, 19, person], [36, 41, CP...  \n",
       "2  [[2, 4, person], [68, 70, date], [76, 82, addr...  \n",
       "3  [[25, 26, person], [24, 26, name], [31, 31, pa...  \n",
       "4  [[4, 6, person], [10, 12, birth date], [73, 80...  "
      ]
     },
     "execution_count": 8,
     "metadata": {},
     "output_type": "execute_result"
    }
   ],
   "source": [
    "df.head()"
   ]
  },
  {
   "cell_type": "markdown",
   "metadata": {
    "id": "j4g_1B6X1_NG"
   },
   "source": [
    "Percebemos que ele foi treinado com diversos idiomas, então no Dataset tem ingles, portugues, espanhol, etc"
   ]
  },
  {
   "cell_type": "markdown",
   "metadata": {
    "id": "7oQATvqLyowY"
   },
   "source": [
    "Ambas colunas são listas e podemos \"explodir\" para ter entender melhor"
   ]
  },
  {
   "cell_type": "code",
   "execution_count": 9,
   "metadata": {
    "colab": {
     "base_uri": "https://localhost:8080/"
    },
    "id": "5JusXR_DcmII",
    "outputId": "506b5f3b-4f41-4557-8d7a-f5c72de37225"
   },
   "outputs": [
    {
     "data": {
      "text/plain": [
       "(19635, 2)"
      ]
     },
     "execution_count": 9,
     "metadata": {},
     "output_type": "execute_result"
    }
   ],
   "source": [
    "df.shape"
   ]
  },
  {
   "cell_type": "code",
   "execution_count": 10,
   "metadata": {
    "colab": {
     "base_uri": "https://localhost:8080/"
    },
    "id": "ePQCF2bwcqAv",
    "outputId": "c4ac2139-c860-4309-8314-dd04debedb30"
   },
   "outputs": [
    {
     "data": {
      "text/plain": [
       "Index(['tokenized_text', 'ner'], dtype='object')"
      ]
     },
     "execution_count": 10,
     "metadata": {},
     "output_type": "execute_result"
    }
   ],
   "source": [
    "df.columns"
   ]
  },
  {
   "cell_type": "code",
   "execution_count": 11,
   "metadata": {
    "colab": {
     "base_uri": "https://localhost:8080/"
    },
    "id": "I6RHYSIjcr_7",
    "outputId": "c7e4e724-506f-4e7f-e249-906e15b0398c"
   },
   "outputs": [
    {
     "name": "stdout",
     "output_type": "stream",
     "text": [
      "<class 'pandas.core.frame.DataFrame'>\n",
      "RangeIndex: 19635 entries, 0 to 19634\n",
      "Data columns (total 2 columns):\n",
      " #   Column          Non-Null Count  Dtype \n",
      "---  ------          --------------  ----- \n",
      " 0   tokenized_text  19635 non-null  object\n",
      " 1   ner             19635 non-null  object\n",
      "dtypes: object(2)\n",
      "memory usage: 306.9+ KB\n"
     ]
    }
   ],
   "source": [
    "df.info()"
   ]
  },
  {
   "cell_type": "markdown",
   "metadata": {
    "id": "HzoFGC9-yl1c"
   },
   "source": [
    "## Data Preparation"
   ]
  },
  {
   "cell_type": "markdown",
   "metadata": {
    "id": "Q8EFRHX_y-mF"
   },
   "source": [
    "### Deixando cada valor da lista como uma nova linha"
   ]
  },
  {
   "cell_type": "code",
   "execution_count": 12,
   "metadata": {
    "id": "C6pOOsescwVT"
   },
   "outputs": [],
   "source": [
    "def safe_literal_eval(x):\n",
    "    try:\n",
    "        return ast.literal_eval(x)\n",
    "    except (ValueError, SyntaxError):\n",
    "        return x\n",
    "\n",
    "df['tokenized_text'] = df['tokenized_text'].apply(safe_literal_eval)\n",
    "df['ner'] = df['ner'].apply(safe_literal_eval)"
   ]
  },
  {
   "cell_type": "code",
   "execution_count": 13,
   "metadata": {
    "id": "DDD4BYRafRqm"
   },
   "outputs": [],
   "source": [
    "def map_tokens_with_entities(row):\n",
    "    tokens = row['tokenized_text']\n",
    "    entities = row['ner']\n",
    "\n",
    "    mapped_tokens = []\n",
    "\n",
    "    for idx, token in enumerate(tokens):\n",
    "        token_entity = None\n",
    "        for start, end, entity_type in entities:\n",
    "            if start <= idx < end:\n",
    "                token_entity = entity_type\n",
    "                break\n",
    "\n",
    "        mapped_tokens.append((token, token_entity))\n",
    "\n",
    "    return mapped_tokens\n",
    "\n",
    "df['mapped_tokens'] = df.apply(map_tokens_with_entities, axis=1)"
   ]
  },
  {
   "cell_type": "code",
   "execution_count": 14,
   "metadata": {
    "id": "mw0sQN0HfWaA"
   },
   "outputs": [],
   "source": [
    "exploded_df = df.explode('mapped_tokens', ignore_index=True)\n",
    "exploded_df[['token', 'entity_type']] = pd.DataFrame(exploded_df['mapped_tokens'].tolist(), index=exploded_df.index)\n",
    "exploded_df = exploded_df.drop(columns=['mapped_tokens'])"
   ]
  },
  {
   "cell_type": "code",
   "execution_count": 15,
   "metadata": {
    "colab": {
     "base_uri": "https://localhost:8080/",
     "height": 424
    },
    "id": "PFmTX6U5faqa",
    "outputId": "e8b63031-aaf5-4f62-ab8e-bc2118cad1a1"
   },
   "outputs": [
    {
     "data": {
      "text/html": [
       "<div>\n",
       "<style scoped>\n",
       "    .dataframe tbody tr th:only-of-type {\n",
       "        vertical-align: middle;\n",
       "    }\n",
       "\n",
       "    .dataframe tbody tr th {\n",
       "        vertical-align: top;\n",
       "    }\n",
       "\n",
       "    .dataframe thead th {\n",
       "        text-align: right;\n",
       "    }\n",
       "</style>\n",
       "<table border=\"1\" class=\"dataframe\">\n",
       "  <thead>\n",
       "    <tr style=\"text-align: right;\">\n",
       "      <th></th>\n",
       "      <th>tokenized_text</th>\n",
       "      <th>ner</th>\n",
       "      <th>token</th>\n",
       "      <th>entity_type</th>\n",
       "    </tr>\n",
       "  </thead>\n",
       "  <tbody>\n",
       "    <tr>\n",
       "      <th>0</th>\n",
       "      <td>[Mamadou, Diop, ,, a, resident, of, Dakar, ,, ...</td>\n",
       "      <td>[[0, 1, person], [14, 15, nightclub], [45, 45,...</td>\n",
       "      <td>Mamadou</td>\n",
       "      <td>person</td>\n",
       "    </tr>\n",
       "    <tr>\n",
       "      <th>1</th>\n",
       "      <td>[Mamadou, Diop, ,, a, resident, of, Dakar, ,, ...</td>\n",
       "      <td>[[0, 1, person], [14, 15, nightclub], [45, 45,...</td>\n",
       "      <td>Diop</td>\n",
       "      <td>None</td>\n",
       "    </tr>\n",
       "    <tr>\n",
       "      <th>2</th>\n",
       "      <td>[Mamadou, Diop, ,, a, resident, of, Dakar, ,, ...</td>\n",
       "      <td>[[0, 1, person], [14, 15, nightclub], [45, 45,...</td>\n",
       "      <td>,</td>\n",
       "      <td>None</td>\n",
       "    </tr>\n",
       "    <tr>\n",
       "      <th>3</th>\n",
       "      <td>[Mamadou, Diop, ,, a, resident, of, Dakar, ,, ...</td>\n",
       "      <td>[[0, 1, person], [14, 15, nightclub], [45, 45,...</td>\n",
       "      <td>a</td>\n",
       "      <td>None</td>\n",
       "    </tr>\n",
       "    <tr>\n",
       "      <th>4</th>\n",
       "      <td>[Mamadou, Diop, ,, a, resident, of, Dakar, ,, ...</td>\n",
       "      <td>[[0, 1, person], [14, 15, nightclub], [45, 45,...</td>\n",
       "      <td>resident</td>\n",
       "      <td>None</td>\n",
       "    </tr>\n",
       "    <tr>\n",
       "      <th>...</th>\n",
       "      <td>...</td>\n",
       "      <td>...</td>\n",
       "      <td>...</td>\n",
       "      <td>...</td>\n",
       "    </tr>\n",
       "    <tr>\n",
       "      <th>2100247</th>\n",
       "      <td>[A, hospedagem, ', Riad, Alhambra, ', ,, local...</td>\n",
       "      <td>[[3, 4, organization], [26, 27, person], [42, ...</td>\n",
       "      <td>cobrir</td>\n",
       "      <td>None</td>\n",
       "    </tr>\n",
       "    <tr>\n",
       "      <th>2100248</th>\n",
       "      <td>[A, hospedagem, ', Riad, Alhambra, ', ,, local...</td>\n",
       "      <td>[[3, 4, organization], [26, 27, person], [42, ...</td>\n",
       "      <td>eventuais</td>\n",
       "      <td>None</td>\n",
       "    </tr>\n",
       "    <tr>\n",
       "      <th>2100249</th>\n",
       "      <td>[A, hospedagem, ', Riad, Alhambra, ', ,, local...</td>\n",
       "      <td>[[3, 4, organization], [26, 27, person], [42, ...</td>\n",
       "      <td>despesas</td>\n",
       "      <td>None</td>\n",
       "    </tr>\n",
       "    <tr>\n",
       "      <th>2100250</th>\n",
       "      <td>[A, hospedagem, ', Riad, Alhambra, ', ,, local...</td>\n",
       "      <td>[[3, 4, organization], [26, 27, person], [42, ...</td>\n",
       "      <td>médicas</td>\n",
       "      <td>None</td>\n",
       "    </tr>\n",
       "    <tr>\n",
       "      <th>2100251</th>\n",
       "      <td>[A, hospedagem, ', Riad, Alhambra, ', ,, local...</td>\n",
       "      <td>[[3, 4, organization], [26, 27, person], [42, ...</td>\n",
       "      <td>.</td>\n",
       "      <td>None</td>\n",
       "    </tr>\n",
       "  </tbody>\n",
       "</table>\n",
       "<p>2100252 rows × 4 columns</p>\n",
       "</div>"
      ],
      "text/plain": [
       "                                            tokenized_text  \\\n",
       "0        [Mamadou, Diop, ,, a, resident, of, Dakar, ,, ...   \n",
       "1        [Mamadou, Diop, ,, a, resident, of, Dakar, ,, ...   \n",
       "2        [Mamadou, Diop, ,, a, resident, of, Dakar, ,, ...   \n",
       "3        [Mamadou, Diop, ,, a, resident, of, Dakar, ,, ...   \n",
       "4        [Mamadou, Diop, ,, a, resident, of, Dakar, ,, ...   \n",
       "...                                                    ...   \n",
       "2100247  [A, hospedagem, ', Riad, Alhambra, ', ,, local...   \n",
       "2100248  [A, hospedagem, ', Riad, Alhambra, ', ,, local...   \n",
       "2100249  [A, hospedagem, ', Riad, Alhambra, ', ,, local...   \n",
       "2100250  [A, hospedagem, ', Riad, Alhambra, ', ,, local...   \n",
       "2100251  [A, hospedagem, ', Riad, Alhambra, ', ,, local...   \n",
       "\n",
       "                                                       ner      token  \\\n",
       "0        [[0, 1, person], [14, 15, nightclub], [45, 45,...    Mamadou   \n",
       "1        [[0, 1, person], [14, 15, nightclub], [45, 45,...       Diop   \n",
       "2        [[0, 1, person], [14, 15, nightclub], [45, 45,...          ,   \n",
       "3        [[0, 1, person], [14, 15, nightclub], [45, 45,...          a   \n",
       "4        [[0, 1, person], [14, 15, nightclub], [45, 45,...   resident   \n",
       "...                                                    ...        ...   \n",
       "2100247  [[3, 4, organization], [26, 27, person], [42, ...     cobrir   \n",
       "2100248  [[3, 4, organization], [26, 27, person], [42, ...  eventuais   \n",
       "2100249  [[3, 4, organization], [26, 27, person], [42, ...   despesas   \n",
       "2100250  [[3, 4, organization], [26, 27, person], [42, ...    médicas   \n",
       "2100251  [[3, 4, organization], [26, 27, person], [42, ...          .   \n",
       "\n",
       "        entity_type  \n",
       "0            person  \n",
       "1              None  \n",
       "2              None  \n",
       "3              None  \n",
       "4              None  \n",
       "...             ...  \n",
       "2100247        None  \n",
       "2100248        None  \n",
       "2100249        None  \n",
       "2100250        None  \n",
       "2100251        None  \n",
       "\n",
       "[2100252 rows x 4 columns]"
      ]
     },
     "execution_count": 15,
     "metadata": {},
     "output_type": "execute_result"
    }
   ],
   "source": [
    "exploded_df"
   ]
  },
  {
   "cell_type": "code",
   "execution_count": 16,
   "metadata": {
    "colab": {
     "base_uri": "https://localhost:8080/"
    },
    "id": "VYQsON9zx3Jq",
    "outputId": "74f97f71-d7c6-42f0-cc95-9596b2085d1b"
   },
   "outputs": [
    {
     "data": {
      "text/plain": [
       "2100252"
      ]
     },
     "execution_count": 16,
     "metadata": {},
     "output_type": "execute_result"
    }
   ],
   "source": [
    "exploded_df.shape[0]"
   ]
  },
  {
   "cell_type": "code",
   "execution_count": 17,
   "metadata": {
    "colab": {
     "base_uri": "https://localhost:8080/"
    },
    "id": "5KmV9njvf_Sl",
    "outputId": "40a1db7d-efd4-49d5-e10b-a3629df31f04"
   },
   "outputs": [
    {
     "data": {
      "text/plain": [
       "np.int64(1751395)"
      ]
     },
     "execution_count": 17,
     "metadata": {},
     "output_type": "execute_result"
    }
   ],
   "source": [
    "exploded_df['entity_type'].isnull().sum()"
   ]
  },
  {
   "cell_type": "markdown",
   "metadata": {
    "id": "XXOk34xqzE6a"
   },
   "source": [
    "Palavras que não foram identificadas como PII viraram uma linha None, filtrar essas linhas"
   ]
  },
  {
   "cell_type": "code",
   "execution_count": 18,
   "metadata": {
    "id": "Rvrm6PjXgE1m"
   },
   "outputs": [],
   "source": [
    "df = exploded_df.dropna(subset=['entity_type'])"
   ]
  },
  {
   "cell_type": "code",
   "execution_count": 19,
   "metadata": {
    "colab": {
     "base_uri": "https://localhost:8080/"
    },
    "id": "bH8PAItJx6MW",
    "outputId": "95dfaf03-9852-4ca8-8a66-14391b08402f"
   },
   "outputs": [
    {
     "data": {
      "text/plain": [
       "348857"
      ]
     },
     "execution_count": 19,
     "metadata": {},
     "output_type": "execute_result"
    }
   ],
   "source": [
    "df.shape[0]"
   ]
  },
  {
   "cell_type": "code",
   "execution_count": 20,
   "metadata": {
    "colab": {
     "base_uri": "https://localhost:8080/",
     "height": 490
    },
    "id": "PvmYkJobzULv",
    "outputId": "f1dbbf90-25b4-49bd-ddb4-7da759db05b4"
   },
   "outputs": [
    {
     "data": {
      "text/plain": [
       "entity_type\n",
       "person                    48872\n",
       "address                   48216\n",
       "email                     37452\n",
       "phone number              33302\n",
       "organization              25253\n",
       "                          ...  \n",
       "dose of insulin               1\n",
       "nationality ID number         1\n",
       "passport series number        1\n",
       "account name                  1\n",
       "health issue                  1\n",
       "Name: count, Length: 2896, dtype: int64"
      ]
     },
     "execution_count": 20,
     "metadata": {},
     "output_type": "execute_result"
    }
   ],
   "source": [
    "df['entity_type'].value_counts()"
   ]
  },
  {
   "cell_type": "markdown",
   "metadata": {
    "id": "eEod3lhWzVJ4"
   },
   "source": [
    "Existem entidades que não fazem parte da lista de labels de PII -> Filtrando o df com apenas as labels de PII"
   ]
  },
  {
   "cell_type": "code",
   "execution_count": 21,
   "metadata": {
    "id": "fPoYE6mZxxrT"
   },
   "outputs": [],
   "source": [
    "all_labels = [\"person\",\"organization\",\"phone number\",\"address\",\"passport number\",\"email\",\"credit card number\",\"social security number\",\"health insurance id number\",\"date of birth\",\"mobile phone number\",\"bank account number\",\"medication\",\"cpf\",\"driver's license number\",\"tax identification number\",\"medical condition\",\"identity card number\",\"national id number\",\"ip address\",\"email address\",\"iban\",\"credit card expiration date\",\"username\",\"health insurance number\",\"registration number\",\"student id number\",\"insurance number\",\"flight number\",\"landline phone number\",\"blood type\",\"cvv\",\"reservation number\",\"digital signature\",\"social media handle\",\"license plate number\",\"cnpj\",\"postal code\",\"passport_number\",\"serial number\",\"vehicle registration number\",\"credit card brand\",\"fax number\",\"visa number\",\"insurance company\",\"identity document number\",\"transaction number\",\"national health insurance number\",\"cvc\",\"birth certificate number\",\"train ticket number\",\"passport expiration date\",\"social_security_number\"]"
   ]
  },
  {
   "cell_type": "code",
   "execution_count": 22,
   "metadata": {
    "id": "f--KIRhqxuK6"
   },
   "outputs": [],
   "source": [
    "df = df[df['entity_type'].isin(all_labels)]"
   ]
  },
  {
   "cell_type": "code",
   "execution_count": 23,
   "metadata": {
    "colab": {
     "base_uri": "https://localhost:8080/"
    },
    "id": "VYWIHEy_x7Uo",
    "outputId": "bc79db27-f506-4d00-c5c8-a6e3f7a86130"
   },
   "outputs": [
    {
     "data": {
      "text/plain": [
       "241486"
      ]
     },
     "execution_count": 23,
     "metadata": {},
     "output_type": "execute_result"
    }
   ],
   "source": [
    "df.shape[0]"
   ]
  },
  {
   "cell_type": "code",
   "execution_count": 24,
   "metadata": {
    "colab": {
     "base_uri": "https://localhost:8080/",
     "height": 206
    },
    "id": "IMZdzjjsgTxS",
    "outputId": "83551c4b-ff79-42d9-d82a-1dc8e02429e3"
   },
   "outputs": [
    {
     "data": {
      "text/html": [
       "<div>\n",
       "<style scoped>\n",
       "    .dataframe tbody tr th:only-of-type {\n",
       "        vertical-align: middle;\n",
       "    }\n",
       "\n",
       "    .dataframe tbody tr th {\n",
       "        vertical-align: top;\n",
       "    }\n",
       "\n",
       "    .dataframe thead th {\n",
       "        text-align: right;\n",
       "    }\n",
       "</style>\n",
       "<table border=\"1\" class=\"dataframe\">\n",
       "  <thead>\n",
       "    <tr style=\"text-align: right;\">\n",
       "      <th></th>\n",
       "      <th>tokenized_text</th>\n",
       "      <th>ner</th>\n",
       "      <th>token</th>\n",
       "      <th>entity_type</th>\n",
       "    </tr>\n",
       "  </thead>\n",
       "  <tbody>\n",
       "    <tr>\n",
       "      <th>0</th>\n",
       "      <td>[Mamadou, Diop, ,, a, resident, of, Dakar, ,, ...</td>\n",
       "      <td>[[0, 1, person], [14, 15, nightclub], [45, 45,...</td>\n",
       "      <td>Mamadou</td>\n",
       "      <td>person</td>\n",
       "    </tr>\n",
       "    <tr>\n",
       "      <th>66</th>\n",
       "      <td>[A, Cônsul, Britânico, em, Brasília, ,, Sir, W...</td>\n",
       "      <td>[[6, 8, person], [17, 19, person], [36, 41, CP...</td>\n",
       "      <td>Sir</td>\n",
       "      <td>person</td>\n",
       "    </tr>\n",
       "    <tr>\n",
       "      <th>67</th>\n",
       "      <td>[A, Cônsul, Britânico, em, Brasília, ,, Sir, W...</td>\n",
       "      <td>[[6, 8, person], [17, 19, person], [36, 41, CP...</td>\n",
       "      <td>William</td>\n",
       "      <td>person</td>\n",
       "    </tr>\n",
       "    <tr>\n",
       "      <th>77</th>\n",
       "      <td>[A, Cônsul, Britânico, em, Brasília, ,, Sir, W...</td>\n",
       "      <td>[[6, 8, person], [17, 19, person], [36, 41, CP...</td>\n",
       "      <td>Sir</td>\n",
       "      <td>person</td>\n",
       "    </tr>\n",
       "    <tr>\n",
       "      <th>78</th>\n",
       "      <td>[A, Cônsul, Britânico, em, Brasília, ,, Sir, W...</td>\n",
       "      <td>[[6, 8, person], [17, 19, person], [36, 41, CP...</td>\n",
       "      <td>John</td>\n",
       "      <td>person</td>\n",
       "    </tr>\n",
       "  </tbody>\n",
       "</table>\n",
       "</div>"
      ],
      "text/plain": [
       "                                       tokenized_text  \\\n",
       "0   [Mamadou, Diop, ,, a, resident, of, Dakar, ,, ...   \n",
       "66  [A, Cônsul, Britânico, em, Brasília, ,, Sir, W...   \n",
       "67  [A, Cônsul, Britânico, em, Brasília, ,, Sir, W...   \n",
       "77  [A, Cônsul, Britânico, em, Brasília, ,, Sir, W...   \n",
       "78  [A, Cônsul, Britânico, em, Brasília, ,, Sir, W...   \n",
       "\n",
       "                                                  ner    token entity_type  \n",
       "0   [[0, 1, person], [14, 15, nightclub], [45, 45,...  Mamadou      person  \n",
       "66  [[6, 8, person], [17, 19, person], [36, 41, CP...      Sir      person  \n",
       "67  [[6, 8, person], [17, 19, person], [36, 41, CP...  William      person  \n",
       "77  [[6, 8, person], [17, 19, person], [36, 41, CP...      Sir      person  \n",
       "78  [[6, 8, person], [17, 19, person], [36, 41, CP...     John      person  "
      ]
     },
     "execution_count": 24,
     "metadata": {},
     "output_type": "execute_result"
    }
   ],
   "source": [
    "df.head()"
   ]
  },
  {
   "cell_type": "markdown",
   "metadata": {
    "id": "nhk2Cd4S2nbh"
   },
   "source": [
    "## Análise"
   ]
  },
  {
   "cell_type": "code",
   "execution_count": 25,
   "metadata": {
    "colab": {
     "base_uri": "https://localhost:8080/",
     "height": 1000
    },
    "id": "pFYmpBBsgUnw",
    "outputId": "58ba3ee8-a044-43bb-8183-8ed881b7709a"
   },
   "outputs": [
    {
     "data": {
      "text/plain": [
       "entity_type\n",
       "person                              48872\n",
       "address                             48216\n",
       "email                               37452\n",
       "phone number                        33302\n",
       "organization                        25253\n",
       "credit card number                  13097\n",
       "date of birth                       10169\n",
       "mobile phone number                  7587\n",
       "social security number               3649\n",
       "email address                        2358\n",
       "medication                           1840\n",
       "passport number                      1582\n",
       "bank account number                  1049\n",
       "medical condition                    1009\n",
       "credit card expiration date           764\n",
       "ip address                            681\n",
       "tax identification number             598\n",
       "health insurance number               577\n",
       "health insurance id number            482\n",
       "identity card number                  464\n",
       "driver's license number               460\n",
       "landline phone number                 408\n",
       "fax number                            244\n",
       "passport expiration date              196\n",
       "blood type                            127\n",
       "username                              124\n",
       "social media handle                   104\n",
       "insurance company                     102\n",
       "digital signature                      95\n",
       "iban                                   84\n",
       "national health insurance number       55\n",
       "flight number                          52\n",
       "registration number                    51\n",
       "license plate number                   49\n",
       "national id number                     45\n",
       "postal code                            44\n",
       "vehicle registration number            40\n",
       "social_security_number                 35\n",
       "passport_number                        33\n",
       "insurance number                       31\n",
       "birth certificate number               28\n",
       "identity document number               23\n",
       "visa number                            22\n",
       "reservation number                     10\n",
       "cpf                                     8\n",
       "serial number                           6\n",
       "credit card brand                       2\n",
       "cvc                                     2\n",
       "train ticket number                     2\n",
       "cvv                                     2\n",
       "transaction number                      1\n",
       "Name: count, dtype: int64"
      ]
     },
     "execution_count": 25,
     "metadata": {},
     "output_type": "execute_result"
    }
   ],
   "source": [
    "df['entity_type'].value_counts()"
   ]
  },
  {
   "cell_type": "markdown",
   "metadata": {
    "id": "QT5B9_ZNzl9M"
   },
   "source": [
    "Existe uma discrepância de treinamento entre alguns PII's, por exemplo 'cpf' foi treinado com 8 exemplos, enquanto 'person' com 48872"
   ]
  },
  {
   "cell_type": "code",
   "execution_count": 26,
   "metadata": {
    "colab": {
     "base_uri": "https://localhost:8080/",
     "height": 490
    },
    "id": "WwytHdlL0h4J",
    "outputId": "3ab79dc2-d498-4de4-a3ec-3df8a7b404ef"
   },
   "outputs": [
    {
     "data": {
      "text/plain": [
       "token\n",
       "Metformin     97\n",
       "mg            79\n",
       ",             76\n",
       "/             64\n",
       "500           53\n",
       "              ..\n",
       "omeprazolo     1\n",
       "pillola        1\n",
       "Cimetidin      1\n",
       "Telfast        1\n",
       "IU             1\n",
       "Name: count, Length: 452, dtype: int64"
      ]
     },
     "execution_count": 26,
     "metadata": {},
     "output_type": "execute_result"
    }
   ],
   "source": [
    "df[df['entity_type'] == 'medication']['token'].value_counts()"
   ]
  },
  {
   "cell_type": "markdown",
   "metadata": {
    "id": "v5yXpzYU1xO9"
   },
   "source": [
    "OBS: Parece que como ele separa em tokens, quando uma palavra é composta, ele separa ela e treina cada palavra. Por exemplo: 'Metformin 500.9mg', ele separa e cada parte é treinada, então 'Metformin' é considerado medicamento e está correto, porém '500', ',' e 'mg' também é treinado como medicamento."
   ]
  },
  {
   "cell_type": "code",
   "execution_count": 27,
   "metadata": {
    "colab": {
     "base_uri": "https://localhost:8080/",
     "height": 711
    },
    "id": "a72lJZdlwKZN",
    "outputId": "d6561a9e-955b-4f7b-f2c7-2f5df92899ef"
   },
   "outputs": [
    {
     "data": {
      "text/plain": [
       "token\n",
       ".            5\n",
       "Security     3\n",
       "de           3\n",
       "2211         3\n",
       "Social       3\n",
       "sécurité     2\n",
       "numéro       2\n",
       "456          2\n",
       "123          2\n",
       "SW           1\n",
       "342516789    1\n",
       "INS          1\n",
       "202          1\n",
       "881          1\n",
       "12           1\n",
       "345          1\n",
       "sociale      1\n",
       "número       1\n",
       "seguro       1\n",
       "Name: count, dtype: int64"
      ]
     },
     "execution_count": 27,
     "metadata": {},
     "output_type": "execute_result"
    }
   ],
   "source": [
    "df[df['entity_type'] == 'social_security_number']['token'].value_counts()"
   ]
  },
  {
   "cell_type": "code",
   "execution_count": 28,
   "metadata": {
    "colab": {
     "base_uri": "https://localhost:8080/",
     "height": 490
    },
    "id": "uMLWMngUxLEF",
    "outputId": "3fbff26a-a07f-46f9-d7b0-53d7c9aa1a97"
   },
   "outputs": [
    {
     "data": {
      "text/plain": [
       "token\n",
       ".       1141\n",
       "123      336\n",
       "456      285\n",
       "de       108\n",
       "111       63\n",
       "        ... \n",
       "1112       1\n",
       "5512       1\n",
       "Li         1\n",
       "578        1\n",
       "KZ         1\n",
       "Name: count, Length: 412, dtype: int64"
      ]
     },
     "execution_count": 28,
     "metadata": {},
     "output_type": "execute_result"
    }
   ],
   "source": [
    "df[df['entity_type'] == 'social security number']['token'].value_counts()"
   ]
  },
  {
   "cell_type": "code",
   "execution_count": 29,
   "metadata": {
    "colab": {
     "base_uri": "https://localhost:8080/",
     "height": 490
    },
    "id": "lbZMc6kTgjpC",
    "outputId": "e0fdcccf-e694-496c-915d-0d0f88c3c5cf"
   },
   "outputs": [
    {
     "data": {
      "text/plain": [
       "token\n",
       ".                 12307\n",
       "@                  6341\n",
       "gmail              2151\n",
       "hotmail             295\n",
       "schmidt             233\n",
       "                  ...  \n",
       "mangala               1\n",
       "porto                 1\n",
       "kigali                1\n",
       "musoni                1\n",
       "kpomassiekodjo        1\n",
       "Name: count, Length: 6178, dtype: int64"
      ]
     },
     "execution_count": 29,
     "metadata": {},
     "output_type": "execute_result"
    }
   ],
   "source": [
    "df[df['entity_type'] == 'email']['token'].value_counts()"
   ]
  },
  {
   "cell_type": "code",
   "execution_count": 30,
   "metadata": {
    "colab": {
     "base_uri": "https://localhost:8080/",
     "height": 490
    },
    "id": "2pbxXP4Sg0vL",
    "outputId": "072a9b12-c9f4-41eb-9542-12d633c641d1"
   },
   "outputs": [
    {
     "data": {
      "text/plain": [
       "token\n",
       ".                  767\n",
       "@                  403\n",
       "gmail              234\n",
       "hotmail             39\n",
       "email               27\n",
       "                  ... \n",
       "family               1\n",
       "libyagovernment      1\n",
       "jordi                1\n",
       "abdulla              1\n",
       "marti                1\n",
       "Name: count, Length: 567, dtype: int64"
      ]
     },
     "execution_count": 30,
     "metadata": {},
     "output_type": "execute_result"
    }
   ],
   "source": [
    "df[df['entity_type'] == 'email address']['token'].value_counts()"
   ]
  },
  {
   "cell_type": "markdown",
   "metadata": {
    "id": "eeh8o_le2tI0"
   },
   "source": [
    "## Visualizar os textos de treino com as entidades encontradas"
   ]
  },
  {
   "cell_type": "markdown",
   "metadata": {
    "id": "wcy5e55k25D2"
   },
   "source": [
    "### Preparando"
   ]
  },
  {
   "cell_type": "code",
   "execution_count": 31,
   "metadata": {
    "colab": {
     "base_uri": "https://localhost:8080/"
    },
    "id": "MXmcCa9fkKXV",
    "outputId": "e1b904fa-67a6-4f19-89fa-26f578bd4dc3"
   },
   "outputs": [
    {
     "name": "stdout",
     "output_type": "stream",
     "text": [
      "Counter({'person': 455801, 'organization': 167503, 'phone number': 152462, 'address': 150913, 'email': 120848, 'passport number': 101135, 'credit card number': 71308, 'social security number': 70630, 'location': 61149, 'date': 51223, 'date of birth': 50815, 'birth date': 49692, 'health insurance ID number': 40826, 'city': 28195, 'mobile phone number': 27319, 'bank account number': 23428, 'medication': 22953, 'CPF': 19101, 'company registration number': 16951, 'birthdate': 13716, \"driver's license number\": 13604, 'tax identification number': 12848, 'health insurance number': 11139, 'health insurance id number': 10922, 'medical condition': 10000, 'currency': 7930, 'identity card number': 7451, 'age': 7436, 'personal identification number': 6603, 'email address': 6560, 'country': 6107, 'tax ID number': 5860, 'national ID number': 5172, 'date_of_birth': 5151, 'credit card expiration date': 5057, 'IBAN': 4970, 'product': 4537, 'tax ID': 4418, 'bank': 4333, 'condition': 4119, 'credit card security code': 4018, 'quantity': 4009, 'RG': 3919, 'weight': 3888, 'IP address': 3801, 'national insurance number': 3775, 'national identification number': 3720, 'password': 3648, 'monetary value': 3576, 'expiration date': 3560, 'time': 3551, 'security code': 3533, 'registration number': 3512, 'name': 3495, 'account number': 3454, 'book': 3452, 'allergy': 3412, 'ID number': 3370, 'price': 3159, 'identification number': 3115, 'educational institution': 3051, 'health insurance ID': 3043, 'artwork': 3026, 'animal': 2920, 'mobile number': 2858, 'username': 2844, 'diagnosis': 2831, 'nationality': 2806, 'cell phone number': 2518, 'gender': 2427, 'hospital': 2415, 'biometric identifier': 2402, 'height': 2374, 'student ID': 2371, 'landline phone number': 2320, 'event': 2249, 'disease': 2212, 'document': 2056, 'ip address': 2049, 'title': 2048, 'occupation': 2032, 'medical record number': 1954, 'medical record': 1946, 'CPF number': 1889, 'project': 1861, 'BIC': 1861, 'passport': 1808, 'CNPJ': 1760, 'insurance number': 1751, 'blood type': 1742, 'website': 1712, 'student ID number': 1710, 'job title': 1690, 'school': 1690, 'DNI': 1688, 'author': 1676, 'national identity card number': 1672, 'fax number': 1665, 'vehicle': 1629, 'invoice number': 1629, 'family': 1613, 'course': 1545, 'year': 1538, 'health insurance': 1507, 'historical site': 1496, 'room number': 1495, 'business registration number': 1492, 'monetary amount': 1452, 'digital signature': 1445, 'prescription number': 1439, 'blood pressure': 1403, 'insurance policy number': 1402, 'last name': 1402, 'national identity number': 1368, 'personal ID number': 1361, 'amount': 1354, 'book title': 1341, 'CVV': 1323, 'vessel': 1315, 'pin': 1301, 'flight number': 1300, 'postal code': 1300, 'membership number': 1300, 'PIN': 1290, 'venue': 1273, 'ticket number': 1253, 'reservation number': 1244, 'surname': 1192, 'CVV code': 1179, 'hotel': 1177, 'identification card number': 1171, 'salary': 1150, 'number': 1150, 'neighborhood': 1148, 'grade': 1098, 'area': 1076, 'shopping mall': 1053, 'social media handle': 1023, 'currency amount': 1007, 'educational_institution': 991, 'building': 978, 'attraction': 972, 'ID card number': 951, 'license plate number': 948, 'geolocation information': 933, 'medical procedure': 933, 'library card number': 927, 'subject': 920, 'health insurance card number': 918, 'character': 901, 'hashtag': 889, 'login ID': 887, 'online game': 883, 'degree': 873, 'identity document number': 872, 'insurance company': 860, 'airport': 848, 'lab result': 841, 'credit card brand': 841, 'yacht': 841, 'geolocation': 838, 'NIF': 837, 'nightclub': 836, 'visa number': 831, 'family_name': 824, 'campground': 823, 'group': 809, 'subway station': 794, 'national health insurance number': 789, 'serial number': 777, 'employee ID': 774, 'passport expiration date': 774, 'health insurance policy number': 770, 'amusement park': 755, 'travel insurance number': 752, 'birth place': 745, 'ski resort': 744, 'credit card': 741, 'department': 736, 'healthcare facility': 733, 'nationality number': 732, 'tax number': 729, 'passport_number': 727, 'food': 725, 'birth certificate number': 723, 'RG number': 720, 'vehicle registration number': 715, 'street': 712, 'transaction number': 710, 'VAT number': 708, 'duration': 701, 'zip code': 678, 'item': 676, 'bank code': 667, 'procedure': 666, 'money': 666, 'health condition': 660, 'construction permit number': 657, 'taxpayer identification number': 656, 'major': 651, 'boat registration number': 629, 'national id number': 629, 'stadium': 628, 'credit card CVC': 619, 'contract number': 616, 'license number': 604, 'credit card security number': 599, 'project number': 595, 'given name': 593, 'order number': 585, 'student number': 585, 'health insurance id': 574, 'family name': 572, 'phone_number': 550, 'cvv': 550, 'health card number': 542, 'mailing address': 538, 'ship': 527, 'cvc': 523, 'national ID': 523, 'play': 520, 'ISBN': 512, 'place of birth': 500, 'birth_date': 497, 'full name': 496, 'seat number': 494, 'cvc code': 494, 'non-profit organization': 492, 'exhibition': 486, 'vessel registration number': 485, 'electricity account number': 483, 'dimensions': 482, 'association registration number': 480, 'medical diagnosis': 480, 'bank agency number': 477, 'percentage': 476, 'size': 474, 'medical records': 473, 'medical test': 473, 'dosage': 471, 'train ticket number': 469, 'property registration number': 468, 'payment method': 467, 'social_security_number': 466, 'home address': 466, 'restaurant': 463, 'car registration number': 454, 'agricultural registration number': 454, 'student registration number': 453, 'routing number': 451, 'deceased person': 450, 'credit card CVV': 449, 'business': 448, 'tax id number': 446, 'identification document': 445, 'residential address': 442, 'CPF (Cadastro de Pessoas Físicas)': 439, 'identity card': 438, 'group number': 438, 'construction project': 431, 'train station': 426, 'job_title': 426, 'company ID': 421, 'CNH': 420, 'street address': 420, 'brand': 409, 'description': 409, 'bank name': 409, 'IBAN number': 405, 'drug': 405, 'publisher': 405, 'medical prescription': 404, 'postal address': 402, 'loyalty card number': 397, 'date range': 392, 'GPA': 387, 'length': 387, 'permit number': 384, 'construction site': 381, 'matriculation number': 381, 'company type': 380, 'community center': 379, 'prescription': 379, 'bus ticket number': 378, 'credit_card_number': 376, 'inventory number': 376, 'mosque': 374, 'social insurance number': 372, 'reference number': 372, 'card expiration date': 371, 'court case number': 370, 'livestock': 370, 'bar': 364, 'cvv code': 362, 'first name': 356, 'expiry date': 355, 'medical_condition': 354, 'tracking number': 353, 'museum': 349, 'heart rate': 349, 'debit card number': 348, 'personal number': 344, 'policy number': 340, 'cardholder name': 337, 'bank account': 331, 'checking account number': 328, 'geolocation data': 328, 'receipt number': 327, 'membership card number': 327, 'life insurance number': 325, 'production': 324, 'surface area': 323, 'treatment': 322, 'account holder': 318, 'alias': 316, 'emergency contact number': 315, 'case number': 315, 'catalog number': 315, 'ship registration number': 314, 'boat': 313, 'birth certificate': 313, 'phone number (mobile)': 313, 'employment start date': 313, 'tax registration number': 312, 'retailer': 310, 'hospital number': 309, 'identity document': 308, 'health insurance provider': 306, 'health clinic': 306, 'topic': 302, 'fiscal code': 301, 'artifact': 301, 'measure': 301, 'iban': 300, 'charity registration number': 299, 'member card number': 297, 'residence permit number': 296, 'healthcare_facility': 296, 'member number': 294, 'store': 293, 'admission date': 292, 'medical treatment': 290, 'billing address': 289, 'vehicle identification number': 289, 'article number': 289, 'court': 287, 'frequency': 283, 'park': 282, 'volume': 282, 'twitter handle': 281, 'electricity consumption': 279, 'access code': 278, 'security number': 278, 'seat': 276, 'symptom': 275, 'Italian fiscal code': 273, 'health insurance company': 273, 'port': 273, 'home phone number': 271, 'camping site number': 263, 'mastercard number': 262, 'government agency': 261, 'emergency phone number': 261, 'biometric data': 258, 'medication dosage': 258, 'publication': 256, 'land area': 255, 'team': 254, 'check number': 254, 'media': 254, 'object': 254, 'customer account number': 253, 'credit card expiry date': 253, 'injury': 253, 'birthplace': 250, 'temperature': 249, 'project registration number': 248, 'organization registration number': 247, 'bank card number': 246, 'claim number': 245, 'CVC': 245, 'phone number (landline)': 245, 'savings account number': 244, 'blood group': 243, 'building permit number': 242, 'visa card number': 242, 'airline': 241, 'twitter_handle': 240, 'government organization': 240, 'customer number': 239, 'trade register number': 238, 'government_organization': 233, 'room': 233, 'swift code': 231, 'theater production': 230, 'university': 230, 'prescription medication': 230, 'power consumption': 230, 'health_insurance_number': 228, 'student identification number': 228, 'license plate': 224, 'day': 224, 'departure date': 223, 'marital status': 223, 'game': 222, 'last_name': 221, 'painting': 221, 'telephone number': 221, 'class': 219, 'relationship': 219, 'DNI number': 218, 'health insurance group number': 217, 'student_id': 216, 'country code': 216, 'energy consumption': 213, 'transaction amount': 212, 'start date': 212, 'birth year': 212, 'commercial registration number': 211, 'cost': 210, 'document number': 210, 'coordinates': 210, 'founder': 210, 'identification card': 208, 'old passport number': 208, 'marina': 207, 'embassy': 206, 'animal identification number': 206, 'artist': 204, 'text': 204, 'RNE': 204, 'arrival date': 203, 'state': 203, 'personal data': 203, 'access card number': 202, 'BIC code': 202, 'insurance provider': 200, 'SSI number': 200, 'telework number': 200, 'customer ID': 199, 'company': 197, 'insurance claim number': 196, 'credit card cvv': 193, 'login id': 192, 'activity': 191, 'RG (Registro Geral)': 191, 'signature': 190, 'church membership number': 190, 'financial institution': 189, 'performance': 189, 'allergen': 188, 'concert hall': 188, 'medical license number': 188, 'end date': 187, 'hotel reservation number': 186, 'microchip number': 185, 'cholesterol level': 185, 'government_agency': 184, 'food item': 184, 'card security code': 183, 'post office box number': 182, 'ip_address': 181, 'authorization number': 180, 'cattle ID number': 180, 'access card': 180, 'url': 179, 'animal registration number': 179, 'education': 179, 'datetime': 178, 'credit card type': 178, 'church registration number': 177, 'gym membership number': 176, 'subscriber ID': 176, 'date and time': 176, 'pin code': 176, 'number_of_employees': 176, 'donation amount': 175, 'sensitive data': 175, 'list': 175, 'social media platform': 174, 'car plate number': 174, 'hire date': 174, 'sector': 172, 'car insurance number': 171, 'color': 171, 'temple': 171, 'employment ID': 171, 'passport issue date': 171, 'fax': 170, 'VAT ID': 169, 'jersey number': 169, 'farm registration number': 168, 'flight': 168, 'pharmacy': 168, 'medical specialty': 166, 'dietary restriction': 166, 'phone number (fixed)': 165, 'real estate': 165, 'baptism registration number': 165, 'insurance card number': 164, 'hospital registration number': 164, 'person_name': 162, 'employee number': 162, 'budget': 162, 'national identity card': 160, 'bank_account_number': 159, 'blood glucose level': 158, 'medical registration number': 158, 'postal_code': 157, 'award': 157, 'CVC code': 156, 'marriage certificate number': 155, 'healthcare provider': 155, 'doctor': 155, 'tax id': 155, 'tax_identification_number': 154, 'CURP': 154, 'hospital admission number': 154, 'municipal registration number': 154, 'medication prescription': 154, 'property identification number': 153, 'attribute': 153, 'credit card CVV code': 153, 'issue date': 152, 'bank branch number': 152, 'service': 152, 'dish': 152, 'camping site': 152, 'yacht registration number': 151, 'CVV number': 151, 'educational program': 150, 'ID card': 150, 'article': 150, 'previous sector': 150, 'school number': 149, 'vaccine': 149, 'tissue donor number': 148, 'mobile_number': 148, 'tax code': 147, 'confidential data': 147, 'landline number': 147, 'document of identity': 147, 'action': 146, 'parish registration number': 146, 'number of employees': 146, 'check-in date': 145, 'business license number': 145, 'campground registration number': 145, 'diagnosis code': 145, 'credit limit': 144, 'emergency number': 144, 'allergies': 144, 'water body': 144, 'theater': 144, 'lab test result': 144, 'RUT': 143, 'contact information': 143, 'health_insurance_id_number': 142, 'person identification number': 141, 'electricity bill number': 141, 'unit': 141, 'agricultural plot size': 141, 'crop type': 141, 'verification code': 140, 'grape variety': 140, 'image': 140, 'employer identification number': 140, 'music composition': 140, 'due date': 139, 'specialty': 139, 'request number': 139, 'payment card': 139, 'work_of_art': 139, 'real estate property': 139, 'machine serial number': 139, 'bank account key': 139, 'SWIFT code': 138, 'appointment date': 138, 'movie': 138, 'SIREN number': 138, 'house number': 137, 'date_time': 137, 'insurance ID number': 136, 'booking number': 135, 'Thai pass number': 135, 'amount of money': 134, 'land registration number': 134, 'clothing': 134, 'business address': 134, 'statement': 133, 'specialization': 133, 'berth number': 133, 'CUIT': 132, 'locality': 132, 'confirmation code': 131, 'person name': 131, 'material': 130, 'death date': 130, 'barcode': 130, 'emergency contact': 130, 'lab value': 130, 'crime': 129, 'non-profit_organization': 129, 'body part': 129, 'technology': 128, 'medical insurance number': 128, 'agricultural product': 127, 'medical_record': 127, 'accession number': 127, 'eye color': 126, 'post office': 126, 'church': 126, \"doctor's contact\": 126, 'measurement': 125, 'respiratory rate': 125, 'bus station': 125, 'ISBN number': 125, 'person, CPF': 124, 'hospital ID number': 124, 'application number': 124, 'student matriculation number': 124, 'health care card number': 124, 'sponsor number': 124, 'registry of birth, death, and marriage number': 124, 'security card number': 123, 'medical insurance ID number': 123, 'ride': 123, 'company tax ID': 123, 'patient': 122, 'bic': 122, 'surgery': 122, 'certificate of birth number': 122, 'registration date': 122, 'media organization': 121, 'check-out date': 121, 'subway ticket number': 121, 'member ID': 121, 'vineyard registration number': 121, 'fingerprint': 120, 'cholesterol': 120, 'academic journal': 120, 'previous passport number': 119, 'film': 118, 'protocol number': 117, 'date of issue': 117, 'yacht number': 117, 'social security number (Spain)': 116, 'HbA1c': 116, 'baggage tracking number': 116, 'surface': 115, 'ski card number': 115, 'employee identification number': 114, 'fire truck': 114, 'user ID': 114, 'biometric identifiers': 114, 'Tanzanian ID number': 114, 'hospital identification number': 113, 'codice fiscale': 112, 'train': 111, 'RFC': 111, 'auto insurance number': 111, 'accommodation': 111, 'social media': 110, 'patient ID number': 110, 'transaction ID': 110, 'game character': 110, 'life insurance ID number': 110, 'social security card number': 110, 'work permit number': 110, 'national registration identity card number': 110, 'educational_program': 109, 'article title': 109, 'credit card verification code': 109, 'train number': 109, 'cellphone number': 109, 'national health service number': 109, 'property title number': 108, 'decedent': 108, 'labor result': 108, 'member registration number': 108, 'insurance group number': 107, 'identity number': 107, 'vehicle insurance number': 107, 'company identification number': 107, 'Italian tax identification number': 107, 'billing number': 106, 'transaction date': 106, 'profession': 106, 'glucose': 106, 'construction license number': 106, 'date of registration': 106, 'field_of_study': 105, 'medication number': 105, 'power capacity': 105, 'value': 105, 'contractor ID': 105, 'place': 104, 'average grade': 104, 'medical conditions': 104, 'prescription reference number': 104, 'glucose level': 103, 'transaction authorization number': 103, 'thesis title': 103, 'national security number': 103, 'electronic ID number': 102, 'tax identification number (Codice Fiscale)': 102, 'doctor number': 102, 'vineyard': 102, 'casino': 101, 'region': 101, 'driving license number': 101, 'device': 100, \"driver's license\": 100, 'handle': 100, 'personal account number': 100, 'baptism date': 100, 'business ID': 100, 'address geolocation': 100, 'property': 99, 'residence address': 99, 'greeting': 99, 'name on card': 99, 'diet': 99, 'CRM': 99, 'academic grade': 99, 'total': 99, 'parents': 98, 'health insurance card': 98, 'legal case number': 98, 'literary_work': 98, 'customer card number': 97, 'transport card number': 97, 'medical_procedure': 97, 'medical device': 97, 'hotel room number': 97, 'CPF (Brazilian Social Security Number)': 97, 'personal ID': 96, 'factory number': 96, 'medium': 96, 'blood sugar level': 96, 'camping permit number': 96, 'capital': 96, 'discharge date': 96, 'medical insurance policy number': 95, 'student_number': 95, 'score': 95, 'customer identification number': 95, 'medication frequency': 95, 'medical prescription number': 95, 'national_insurance_number': 94, 'school registration number': 94, 'given_name': 94, 'annual salary': 94, 'tractor serial number': 94, 'NRIC number': 94, 'monthly salary': 94, 'identification number (Venezuelan Cédula de Identidad)': 94, 'agricultural exploitation identification number': 94, 'personal credit card number': 93, 'camping registration number': 93, 'apartment number': 93, 'security identification number': 93, 'medication dose': 93, 'linkedin profile': 93, 'library membership number': 92, 'table number': 92, 'student card number': 92, 'CNPJ number': 92, 'electric account number': 92, 'new passport number': 92, 'Rwandan ID number': 92, 'Rwandan social security number': 92, 'Rwandan tax ID': 92, 'Tanzanian tax ID': 92, 'identification document number': 91, 'card number': 91, 'registration_number': 91, 'insurance contract number': 91, 'aircraft': 91, 'hospital file number': 91, 'employees': 91, 'marriage registration number': 91, 'media outlet': 91, 'medication name': 91, 'employment contract number': 90, 'facility': 90, 'account holder name': 90, 'state_province': 90, 'domain': 90, 'bank routing number': 90, 'package tracking number': 90, 'infrastructure': 90, 'capacity': 90, 'German pass number': 90, 'creatinine level': 89, 'healthcare_provider': 89, 'mobile_phone_number': 89, 'flight ticket number': 88, 'education degree': 88, 'relation': 88, 'travel document number': 88, 'port of registration': 88, 'application': 88, 'hair color': 87, 'SWIFT-BIC': 87, 'URL': 87, 'test': 87, 'loyalty program': 87, 'Moroccan national identity number': 87, 'grant number': 86, 'NIT': 86, 'medical ID number': 86, 'dni': 86, 'NIS': 86, 'annual revenue': 85, 'legal document': 85, 'national registration number': 85, 'tax identification number/codice fiscale': 84, 'category': 84, 'account name': 84, 'ticket': 84, 'total price': 84, 'mass': 84, 'Italian tax code': 84, 'national_id': 83, 'unique identifier': 83, 'national_id_number': 83, 'geolocation ID': 83, 'road': 82, 'hospital record number': 82, 'bank account name': 82, 'romanian id number': 82, 'social security number security code': 82, 'prescribed medication': 81, 'transaction id': 81, 'ingredient': 81, 'personal_identification_number': 80, 'membership ID': 80, 'first_name': 80, 'blood glucose': 80, 'employer': 80, 'national health insurance id number': 80, 'number_of_chicken': 80, 'religious identification number': 80, 'artwork registration number': 79, 'facebook profile': 79, 'mexican social security number': 79, 'community registration number': 79, 'destination': 78, 'album': 78, 'recipient': 78, 'marriage date': 78, 'identification_number': 78, 'hemoglobin A1c': 78, 'agricultural permit number': 78, 'hospital room number': 78, 'class_standing': 78, 'institutional IRB number': 78, 'HbA1c level': 77, 'RSA key': 77, 'non-profit registration number': 76, 'restaurant license number': 76, 'pin number': 76, 'construction site registration number': 76, 'medical file number': 76, 'factory registration number': 76, 'payroll ID': 76, 'company social security number': 75, 'departure time': 75, 'medical identification number': 75, 'literary work': 75, 'identity_card_number': 75, 'seller': 75, 'ship matriculation number': 75, 'health_insurance_id': 74, 'ethnicity': 74, 'membership type': 74, 'financial aid': 74, 'elephant': 74, 'manuscript': 74, 'person plural': 74, 'tax identification number/Codice Fiscale': 73, 'consultation date': 73, 'financial_institution': 73, 'room type': 73, 'fiscal registration number': 73, 'NHS number': 73, 'work phone number': 73, 'birth number': 73, 'personal tax identification number': 73, 'professional registration number': 73, 'social security numbers': 73, 'sports team': 73, 'post number': 73, 'electricity bill ID': 72, 'date of death': 72, 'medical bill number': 72, 'name of account holder': 72, 'museum card number': 72, 'heir': 72, 'credit card expiration year': 72, 'national health insurance id': 72, 'academic media': 72, 'study_direction': 72, 'patient record number': 71, 'triglycerides': 71, 'medical history': 71, 'relative': 71, 'marine insurance number': 71, 'citizen ID number': 71, 'cell phone': 71, 'employee ID number': 71, 'discount code': 71, 'pulse': 70, 'airport code': 70, 'beach': 70, 'personal identification number (PIN)': 70, 'retail store': 70, 'personal phone number': 70, 'campsite number': 70, 'symptoms': 70, 'grant duration': 70, 'sender': 69, 'lot number': 69, 'italian fiscal code': 69, 'contact number': 69, 'sales invoice number': 69, 'auto insurance ID number': 69, 'address number': 69, 'medical document': 69, 'drivers license number': 69, 'community_center': 69, 'package number': 69, 'subway card number': 68, 'blood_type': 68, 'personal bank account number': 68, 'effective date': 68, 'bank blz': 68, 'tax ID/social security number': 68, 'bank account holder': 68, 'vital sign': 68, 'national insurance number (UK)': 68, 'authorization code': 67, 'credit card expiration month': 67, 'province': 67, 'medical certificate number': 67, 'purchase order number': 67, 'camera serial number': 67, 'personal tax number': 67, 'expiration_date': 66, 'library': 66, 'MyKad number': 66, 'beneficiary name': 66, 'platform': 66, 'executor': 66, 'farm': 66, 'DNI (National Identity Document Number)': 66, 'cpf': 66, 'credit card company': 66, 'personal information': 66, 'height_weight': 66, 'liquid waste': 65, 'village': 65, 'child': 65, 'bar association membership number': 65, 'bankleitzahl': 65, 'character name': 65, 'business bank account number': 65, 'business phone number': 65, 'proof of address': 65, 'firmen-id': 65, 'court order number': 65, 'bank code number': 65, 'visa credit card number': 64, 'PIN code': 64, 'newspaper': 64, 'establishment': 64, 'identifier': 64, 'passport series number': 64, 'passport identification number': 64, 'theater performance': 64, 'medications': 64, 'metro station': 64, 'blood pressure reading': 64, 'shipment number': 64, 'bank connection number': 64, 'sensitive information': 64, 'graduation year': 63, 'infrastructure project': 63, 'South African ID number': 63, 'national health ID number': 63, 'train class': 63, 'pet': 63, 'hemoglobin': 63, 'delivery address': 63, 'tax ID number/Codice Fiscale': 63, 'tissue sample number': 63, 'cattle identification number': 63, 'firmennummer': 63, 'business_form': 63, 'resident permit number': 62, 'hospitalization number': 62, 'photo ID': 62, 'digital ID': 62, 'instagram account': 62, 'hospital patient number': 62, 'file number': 62, 'German social security number': 62, 'employer social security number': 62, 'fiscal receipt number': 62, 'health record number': 62, 'pesticide': 61, 'blood_pressure': 61, 'regulation': 61, 'return date': 61, 'document of identity number': 61, 'river': 61, 'CIF number': 61, 'bus number': 61, 'ATC code': 61, 'Italian tax ID': 61, 'administrative_area': 61, 'competition': 61, 'body of water': 60, 'tax identification number (codice fiscale)': 60, 'goods': 60, 'fixed phone number': 60, 'car license plate number': 60, 'industrial registration number': 60, 'national_identity_number': 60, 'tax declaration number': 60, 'birth weight': 60, 'religious institution': 60, 'QR code': 60, 'winery registration number': 60, 'district': 60, 'food ingredient': 60, 'art collection': 60, 'author name': 60, 'environmental permit number': 60, 'client ID': 60, 'graduation_year': 60, 'baptismal certificate number': 60, 'NDC code': 60, 'visa': 59, 'grade level': 59, 'delivery date': 59, 'month': 59, 'utility bill': 59, 'landline': 59, 'land': 59, 'program': 59, 'floor': 59, 'CRM number': 59, 'systolic blood pressure': 59, 'diastolic blood pressure': 59, 'commodity': 59, 'credit card number (Visa)': 58, 'Swiss ID number': 58, 'species': 58, 'credit card limit': 58, 'SIRET number': 58, 'property address': 58, 'health insurance member ID': 57, 'payment amount': 57, 'company founder ID': 57, 'movie title': 57, 'medical appointment': 57, 'artwork series': 57, 'mobile phone': 57, 'property ID': 57, 'hunting zone': 57, 'driver_license_number': 57, 'Hong Kong ID number': 57, 'drug identification number': 57, 'non-profit_charity': 56, 'tissue number': 56, 'registered mail number': 56, 'RUT (Régimen Único de Contribuyentes)': 56, 'RIF (Registro Único de Identificación Fiscal)': 56, 'matricel number': 56, 'gaming card number': 56, 'project budget': 56, 'insurance coverage effective date': 56, 'travel insurance policy number': 56, 'order_detail': 56, 'physician': 56, 'fine': 55, 'frequent flyer number': 55, 'artistic work': 55, 'social security number (US)': 55, 'healthcare professional': 55, 'pension number': 55, 'items': 55, 'booking reference number': 55, 'farm ID': 55, 'isbn': 55, 'annual income': 55, 'incident number': 55, 'health license number': 55, 'civil registration number': 54, 'police report number': 54, 'beverage': 54, 'legislation': 54, 'ski pass number': 54, 'permit': 54, 'unique identification number': 54, 'passport validity date': 54, 'Carteira de Identidade': 54, 'lawyer ID': 54, 'consumer account number': 54, 'health plan number': 54, 'instagram_account': 54, 'SWIFT': 54, 'street_address': 53, 'proof of residence': 53, 'signatory': 53, 'hectares': 53, 'geolocation coordinates': 53, 'player ID': 53, 'student ID card number': 53, 'health record': 53, 'residency permit number': 53, 'race number': 53, 'camping plot number': 53, 'costs': 52, 'subscription number': 52, 'Saudi ID number': 52, 'Marriott Rewards membership number': 52, 'monthly income': 52, 'hull identification number': 52, 'account type': 52, 'digital signature ID': 52, 'note': 52, 'building number': 52, 'lab test': 52, 'fiscal number': 52, 'nickname': 52, 'library account number': 52, 'chemical': 52, 'microchip ID': 52, 'marriage certificate': 52, 'card type': 52, 'religion': 52, 'sensitive medical information': 52, 'insurance id number': 52, 'organization address': 52, 'badge number': 52, 'political position': 52, 'permit request number': 51, 'contact phone number': 51, 'hba1c': 51, 'art gallery': 51, 'French ID number': 51, 'artwork_collection': 51, 'campaign': 51, 'annual pass number': 51, 'Italian ID number': 51, 'industry': 51, 'sport': 51, 'temple membership number': 51, 'health insurance contract number': 51, 'grant': 51, 'invoice date': 51, 'bank BIC': 50, 'music group': 50, 'time range': 50, 'date_range': 50, 'parking space number': 50, 'machinery': 50, 'letter': 50, 'deductible': 50, 'confirmation date': 50, 'previous job title': 50, 'date of hire': 50, 'date of termination': 50, 'restaurant registration number': 49, 'current passport number': 49, 'ALT': 49, 'distance': 49, 'manufacturing identification number': 49, 'list of employees': 49, 'bank branch code': 49, 'race bib number': 49, 'PIN number': 49, 'instruction': 49, 'animal insurance number': 49, 'electronic signature': 49, 'russian social security number': 49, 'land parcel number': 49, 'CTPS': 49, 'social media username': 49, 'insurance': 48, 'trade registration number': 48, 'French social security number': 48, 'recipe number': 48, 'health insurance membership number': 48, 'Spanish social security number': 48, 'dimension': 48, 'criminal register number': 48, 'grades': 48, 'blood type number': 48, 'security badge ID number': 48, 'business form': 48, 'sperrzahl': 48, 'medication_component': 48, 'Argentine social security number': 47, 'farm size': 47, 'number_of_people': 47, 'prescription date': 47, 'national identity document': 47, 'health maintenance organization number': 47, 'Italian social security number': 47, 'width': 47, 'mailbox number': 47, 'personal identification number (ID)': 47, 'fingerprint ID': 47, 'French health insurance ID number': 47, 'membership': 47, 'courses': 47, 'time period': 47, 'Brazilian Social Security Number': 47, 'social security number (Germany)': 46, 'amount due': 46, 'FISC (Fisco Italiano)': 46, 'pre-existing condition': 46, 'patient file number': 46, 'government': 46, 'currency_amount': 46, 'health data': 46, 'Dutch ID number': 46, 'team registration number': 46, 'group policy number': 46, 'personal health insurance number': 46, 'date of accident': 46, 'health maintenance organization ID number': 46, 'personal identification code': 46, 'biometric id': 46, 'passport numbers': 46, 'BLZ': 46, 'CNI': 46, 'game card number': 45, 'Swiss social security number': 45, 'VAT registration number': 45, 'grape_variety': 45, 'monetary_value': 45, 'fiscal identification number': 45, 'full_name': 45, 'patient identification number': 45, 'date of departure': 45, 'maritime insurance number': 45, 'admission number': 45, 'healthcare organization': 45, 'tax_ID': 45, 'cafe': 45, 'company account number': 45, 'sentence': 45, 'artwork_title': 45, 'number of social security': 45, 'date of baptism': 45, 'cellular phone number': 45, 'employment ID number': 45, 'artefact': 45, 'digital fingerprint': 45, 'income tax number': 45, 'food safety certification number': 45, 'food handler certification number': 45, 'Siret number': 45, 'bank key number': 45, 'Instagram handle': 44, 'medical insurance provider': 44, 'temple registration number': 44, 'body temperature': 44, 'total amount': 44, 'national tax number': 44, 'community': 44, 'tourist registration number': 44, 'mortgage agreement number': 44, 'data': 44, 'health care number': 44, 'imo number': 44, 'SUS number': 44, 'study subject': 44, 'baptism record number': 44, 'nombre de pila': 44, 'CRN': 44, 'parent': 44, 'Facebook ID': 44, 'active ingredient': 44, 'animal count': 44, 'firm ID': 44, 'carteira de identidade number': 44, 'personal identification number (Ausweisnummer)': 44, 'thesis': 44, 'coffee variety': 44, 'fire truck number': 44, 'ambulance number': 44, 'electricity usage': 44, 'national ID type': 44, 'grocery store': 43, 'refills': 43, 'tax file number': 43, 'health insurance plan number': 43, 'confirmation number': 43, 'metro ticket number': 43, 'barcode code': 43, 'trademark registration number': 43, 'alien registration number': 43, 'role': 43, 'phone number (cellular)': 43, 'lab reference number': 43, 'credit card numbers': 43, 'bank account RIB': 43, 'family ID number': 43, 'university registration number': 43, 'room_number': 43, 'maestro card number': 43, 'rib': 43, 'fire station': 43, 'medical data': 43, 'parcel ID': 43, 'livestock registration number': 43, 'personal identification card number': 42, 'donor identification number': 42, 'operation number': 42, 'medical insurance ID': 42, 'procedure code': 42, 'equipment': 42, 'landmark': 42, 'pass number': 42, 'medical center': 42, 'crops': 42, 'gross salary': 42, 'net salary': 42, 'transaction code': 42, 'French Social Security Number': 42, 'square meter': 42, 'shipping tracking number': 42, 'villa': 42, 'game identification number': 42, 'GGT': 42, 'play_character': 42, 'electronic device': 42, 'visa photos': 42, 'domain name': 42, 'business identification number': 42, 'certificate of health number': 42, 'camping car number': 42, 'sensortag-id': 41, 'healthcare registration number': 41, 'continent': 41, 'media_organization': 41, 'spender_id_number': 41, 'firm registration number': 41, 'blood sample': 41, 'waist': 41, 'health care ID number': 41, 'position': 41, 'agency number': 41, 'home town': 41, 'private health insurance number': 41, 'game number': 41, 'field of study': 41, 'health registration number': 41, 'health ID number': 41, 'vat id number': 41, 'swift': 41, 'tax_number': 41, 'frequent flyer code': 41, 'number_of_cattle': 41, 'loyalty account number': 41, 'Austrian social security number': 41, 'family member ID': 40, 'wine': 40, 'likes': 40, 'total assets': 40, 'total equity': 40, 'library card': 40, 'wristband registration number': 40, 'deity': 40, 'personal code fiscal': 40, 'mail tracking number': 40, 'BIC-Code': 40, 'new identity card number': 40, 'billing account number': 40, 'blood donor number': 40, 'social security card': 40, 'ticket code': 40, 'site number': 40, 'ASL code': 40, 'Spanish Social Security Number': 40, 'artist pass number': 40, 'tribe': 40, 'school ID number': 40, 'personal identification number (NIP)': 40, 'Instagram password': 40, 'general student number': 40, \"parents' contact number\": 40, \"parents' contact person ID\": 40, 'number_of_rooms': 39, 'insurance_number': 39, 'ID': 39, 'electronic access card number': 39, 'employment number': 39, 'agricultural insurance number': 39, 'german passport number': 39, 'tax_id_number': 39, 'park registration number': 39, 'payment processor': 39, 'health and safety ID number': 39, 'clinic ID number': 39, 'German ID number': 39, 'national ID number (Malawi)': 39, 'document ID': 39, 'South African Identity Number': 39, 'noise permit number': 39, 'liquor license number': 39, 'computer': 39, 'Italian passport number': 39, 'Argentine Social Security Number': 39, 'Italian health insurance number': 39, 'major GPA': 39, 'minor GPA': 39, 'german identity card number': 39, 'theater_production': 39, 'cocktail': 39, 'Brazilian CPF': 39, 'agricultural_land': 39, 'imei number': 38, 'kitchen': 38, 'arrival time': 38, 'SIREN': 38, 'Polish ID number': 38, 'NIE': 38, 'spanish social security number': 38, 'dose': 38, 'geolocation-id': 38, 'taxpayer ID': 38, 'LDL cholesterol': 38, 'ambulance': 38, 'helmet': 38, 'protective suit': 38, 'gas mask': 38, 'first aid kit': 38, 'defibrillator': 38, 'cardiac resuscitation kit': 38, 'oxygen tank': 38, 'hospitalization date': 38, 'control number': 38, 'number_of_buildings': 38, 'surgery date': 38, 'instagram_username': 38, 'subway line': 38, 'appointment date and time': 38, 'professional license number': 38, 'TV show': 38, 'agreement number': 38, 'electronic invoice number': 38, 'unit price': 38, 'security code (credit card)': 38, 'CGPA': 38, 'personal fiscal code': 38, 'mastercard credit card number': 37, 'administrative division': 37, 'coordinates GPS': 37, 'bib number': 37, 'electronic signature number': 37, 'damages': 37, 'microchip ID number': 37, 'level': 37, 'payment card brand': 37, 'blood test results': 37, 'insurance company phone number': 37, 'email domain': 37, 'visitor ID': 37, 'bank RIB': 37, 'healthcare provider ID number': 37, 'patient ID': 37, 'product registration number': 37, 'route': 37, 'national ID card number': 37, 'liability insurance number': 37, 'maritime license number': 37, 'american express number': 37, 'land grant number': 37, 'chronic disease': 37, 'Apple ID': 37, 'Health Insurance ID Number': 37, 'matrikel number': 36, 'vaccination record number': 36, 'service registration number': 36, 'digital access number': 36, 'name of birth': 36, 'business account number': 36, 'confirmation of account number': 36, 'state identification number': 36, 'shipment tracking number': 36, 'power': 36, 'travel document': 36, 'holder': 36, 'student id': 36, 'utility account number': 36, 'land parcel identification number': 36, 'passport ID': 36, 'geographical coordinates': 36, 'national_identification_number': 36, 'hotel registration number': 36, 'livestock number': 36, 'National Health Service number': 36, 'tax ID company': 36, 'customer service office': 36, 'research topic': 36, 'VAT ID number': 36, 'branch': 36, 'member id': 36, 'biometric identifier code': 36, 'menu item': 36, 'passport number (German)': 36, 'passport number (US American)': 36, 'termination date': 35, 'PII': 35, 'encryption key': 35, 'company registration ID': 35, 'social media profile': 35, 'bank PIN': 35, 'start number': 35, 'instagram username': 35, 'reason': 35, 'número de seguro de saúde': 35, 'exhibition registration number': 35, 'trademark': 35, 'boarding pass number': 35, 'pii_type': 35, 'payment ID': 35, 'service number': 35, 'hong kong id number': 35, 'semester': 35, 'exam': 35, 'triglyceride level': 35, 'useful area': 35, 'revenue': 35, 'camping membership number': 35, 'date of graduation': 35, 'federal ID': 35, 'foreign ID number': 35, 'document_number': 35, 'national identity document number': 35, 'city, country': 35, 'access password': 35, 'grant application number': 35, 'project title': 35, 'project description': 35, 'Brazilian registry number': 35, 'cafe registration number': 34, 'patient number': 34, 'medical insurance card number': 34, 'passport serial number': 34, 'prescription expiration date': 34, 'VAT identification number': 34, 'document type': 34, 'roulette number': 34, 'professional ID': 34, 'Argentine ID number': 34, 'laboratory': 34, 'number_of_baggages': 34, 'bank account access code': 34, 'employee count': 34, 'rural property registration number': 34, 'job code': 34, 'bank_agency_number': 34, 'identity card expiration date': 34, 'subdivision': 34, 'italian ID number': 34, 'school records folder number': 34, 'FIDAL card number': 34, 'charity organization': 34, 'total cholesterol level': 34, 'national social security number': 34, 'patient id': 34, 'herd_numbers': 34, 'veterinary_records': 34, 'bank account key number': 34, 'lawsuit number': 34, 'birth dates': 34, 'flight reservation number': 34, 'animal ID number': 34, 'Russian identity card number': 34, 'U-Bahn line': 34, 'company tax ID number': 34, 'taxes': 34, 'nationality ID': 34, 'theater pass number': 34, 'electronic health record number': 33, 'payroll number': 33, 'bank transfer number': 33, 'recipient account number': 33, 'government office': 33, 'residence registration number': 33, 'hotel identification number': 33, 'medical information': 33, 'gym registration number': 33, 'time duration': 33, 'number of participants': 33, 'admission_date': 33, 'ICD-10 code': 33, 'wine identification number': 33, 'aircraft registration number': 33, 'health identification number': 33, 'project identification number': 33, 'letter of intent': 33, 'area_in_square_meters': 33, 'floor_number': 33, 'passport number series': 33, 'grade point average': 33, 'shipping address': 33, 'song': 33, 'international phone number': 33, 'contract type': 33, 'square meters': 33, 'bank key': 33, 'incident report number': 33, 'social security disability insurance number': 33, 'crop': 33, 'medical insurance id number': 33, 'origin station': 33, 'bicycle serial number': 33, 'employment date': 33, 'comment': 33, 'notary registration number': 32, 'personal insurance number': 32, 'personal tax code': 32, 'password-id': 32, 'database': 32, 'employee': 32, 'amusement ride': 32, 'organic production certification': 32, 'CNH number': 32, 'electronic ticket number': 32, 'consumer invoice number': 32, 'work email': 32, 'register number': 32, 'transaction reference number': 32, 'bank address': 32, 'corporate bank account number': 32, 'sales receipt number': 32, 'spender registration number': 32, 'Hong Kong ID card number': 32, 'death certificate number': 32, 'suite number': 32, 'student id number': 32, 'Canadian passport number': 32, 'guild': 32, 'drug code': 32, 'Fantasialand ID number': 32, 'subway_station': 32, 'social security number, passport number, health insurance ID number': 32, 'monastic registration number': 32, 'biometric ID': 32, 'CUIL': 32, 'number_of_sheep': 32, 'expected graduation date': 32, 'non-profit': 32, 'playground': 32, 'vaccination date': 32, 'tax ID/code fiscale': 32, 'cardholder': 32, 'temple access code': 32, 'colombian ID number': 31, 'procedure date': 31, 'credit card number (Mastercard)': 31, 'employer ID number': 31, 'loan number': 31, 'portuguese ID number': 31, 'health insurance name': 31, 'drug dosage': 31, 'business name': 31, 'GOT level': 31, 'transaction type': 31, 'education program': 31, 'street number': 31, 'boat identification number': 31, 'digital ticket number': 31, 'casino membership card number': 31, 'SUS (Brazilian Health System Identification Number)': 31, 'bank statement': 31, 'number of seguro social': 31, 'request': 31, 'geolocation id': 31, 'home phone': 31, 'check-in ticket number': 31, 'bank sort code': 31, 'number_of_followers': 31, 'swimming pool': 31, 'environmental registration number': 31, 'shop': 31, 'family registration number': 31, 'cartão de saúde': 31, 'moroccan ID': 31, 'person/group': 30, 'educational_level': 30, 'number_of_members': 30, 'donation_account_number': 30, 'health department registration number': 30, 'batch number': 30, 'meal': 30, 'credit card PIN': 30, 'transport': 30, 'residency permit': 30, 'comments': 30, 'hospital account number': 30, 'rental number': 30, 'total cholesterol': 30, 'deadline': 30, 'hematocrit': 30, 'national id': 30, 'work of art': 30, 'biological tissue number': 30, 'model': 30, 'emergency contact phone number': 30, 'camping number': 30, 'bank account password': 30, 'registration card number': 30, 'company capacity': 30, 'health insurance expiration date': 30, 'person (historical figure)': 30, 'music event': 30, 'metrocard number': 30, 'barcode number': 30, 'identification number (Cape Verde)': 30, 'religious event': 30, 'bank_account': 30, 'gaming account number': 30, 'library PIN number': 30, 'SAPEC number': 30, 'scientific field': 30, 'MAC address': 30, 'father': 30, 'mother': 30, 'ABN': 30, 'ID_card': 30, 'enrollment date': 29, 'water account number': 29, 'mailbox': 29, 'security ID number': 29, 'instagram_handle': 29, 'Libyan ID number': 29, 'club registration number': 29, 'legal': 29, 'substance': 29, 'machine': 29, 'personal number (Libanon)': 29, 'geolocation (Balamand)': 29, 'geolocation (Heidelberg)': 29, 'personal number (Germany)': 29, 'report number': 29, 'travel date': 29, 'access number': 29, 'digital access code': 29, 'enrollment year': 29, 'average': 29, 'public transportation card number': 29, 'RUT number': 29, 'specialist': 29, 'residence certificate number': 29, 'property id number': 29, 'tax identification number (Italy)': 29, 'medical dosage': 29, 'Kuwaiti ID number': 29, 'ABA number': 29, 'person (title)': 29, 'medical card number': 29, 'Croatian ID card number': 29, 'mobile ticket QR code': 29, 'organization name': 29, 'home registration number': 29, 'National Identity Card number': 29, 'CEP': 29, 'treatment plan': 29, 'financing contract number': 29, 'vessel identification number': 28, 'agriculture': 28, 'number_of_bathrooms': 28, 'date of consultation': 28, 'AST': 28, 'sports league': 28, 'date of arrival': 28, 'research project': 28, 'health maintenance organization': 28, 'agricultural identification number': 28, 'account ID': 28, 'school fee account number': 28, 'pension ID number': 28, 'bus line': 28, 'municipality': 28, 'university ID number': 28, 'synagogue': 28, 'amount_of_money': 28, 'company registration number for agrochemicals handling': 28, 'park ticket number': 28, 'postal tracking number': 28, 'business hours': 28, 'school ID': 28, 'lunch account number': 28, 'Maestro card number': 28, 'church social security number': 28, 'RFC number': 28, 'chemical formula': 28, 'train_station': 28, 'poultry': 28, 'health issue': 28, 'food allergen': 28, 'number of people': 28, 'bank_account_details': 28, 'letter number': 28, 'SSN': 28, 'agricultural ID number': 28, 'treatment end date': 28, 'SIM card number': 28, 'bank password': 28, 'digital wallet ID': 28, 'board members': 28, 'personal health insurance ID number': 28, 'tonnes': 28, 'trees': 28, 'mastercard card number': 28, 'personal public service number': 28, 'maternity insurance ID number': 28, 'clabe': 28, 'personal number Chile': 28, 'gallery ID': 28, 'biomarker': 28, 'primary care physician': 28, 'appointment time': 27, 'Fasting Plasma Glucose': 27, 'animal farm registration number': 27, 'spouse': 27, 'industrial license number': 27, 'emergency service': 27, 'ski hut': 27, 'language': 27, 'transportation': 27, 'personal ID card number': 27, 'performance rating': 27, 'boat registration': 27, 'ship name': 27, 'maritime identification number': 27, 'captain identification number': 27, 'marriage license number': 27, 'parcel tracking number': 27, 'subscription card number': 27, 'vehicle model': 27, 'biological sample number': 27, 'registry card number': 27, 'shipping company': 27, 'legal term': 27, 'electronic ID card': 27, 'health insurance group': 27, 'contract_number': 27, 'foundation number': 27, 'average monthly bill': 27, 'bank location number': 27, 'pension amount': 27, 'biometric id (facial recognition)': 27, 'appliance': 27, 'device serial number': 27, 'vehicle plate number': 27, 'exhibit': 27, 'national identification number (Carlos)': 27, 'national identification number (Ana)': 27, 'dependant tax ID number': 27, 'education end date': 27, 'court costs': 27, 'date of passport issuance': 27, 'date of passport validity': 27, 'post office box': 27, 'German passport number': 27, 'car number': 27, 'meter identifier': 27, 'meter reading': 27, 'artist identification number': 26, 'digital_signature': 26, 'lottery ticket number': 26, 'roof': 26, 'yard': 26, 'contract registration number': 26, 'quay number': 26, 'art exhibition': 26, 'bookstore': 26, 'hips': 26, 'ankle': 26, 'police registration number': 26, 'year of medical event': 26, 'internal control number': 26, 'phone numbers': 26, 'train reservation number': 26, 'number_of_goats': 26, 'real estate transaction number': 26, 'transportation line': 26, 'biometric identifier count': 26, 'credit card number count': 26, 'university student number': 26, 'marriage number': 26, 'IE': 26, 'resident identity card number': 26, 'medication duration': 26, 'bank card': 26, 'meter ID': 26, 'gift list': 26, 'tax identification number type': 26, 'airport terminal': 26, 'digital social security number': 26, 'visit date': 26, 'number_of_seasonal_workers': 26, 'ear length': 26, \"doctor's number\": 26, 'pension insurance': 26, 'mobile_phone': 26, 'people': 26, 'health certificate number': 26, 'construction time': 26, 'sublocation': 26, 'sale number': 26, 'medical reference number': 26, 'gallery identification code': 26, 'certificate of birth': 26, 'reason for termination': 26, 'complete national health insurance id number': 26, 'credit card number - partial': 26, 'real estate property description': 26, 'internal identification number': 26, 'identity_document_number': 26, 'heavy machinery operator certification number': 26, 'company health insurance ID': 26, 'theatrical production': 26, 'resident ID number': 26, 'doctor license number': 26, 'construction registration number': 26, 'confidentiality agreement': 26, 'will execution date': 26, 'probate date': 26, 'company health insurance number': 26, 'university ID': 25, 'minor': 25, 'enrollment status': 25, 'SAT score': 25, 'ACT score': 25, 'TOEFL score': 25, 'health clinic registration number': 25, 'individual taxpayer registry number': 25, 'policy effective date': 25, 'forwarding order number': 25, 'reservation ID': 25, 'damage': 25, 'previous address': 25, 'bank agency': 25, 'airline security number': 25, 'addresses': 25, 'hire_date': 25, 'Aadhaar number': 25, 'animal species': 25, 'interest': 25, 'date of admission': 25, 'soil type': 25, 'tractor': 25, 'seeder': 25, 'sprayer': 25, 'harvester': 25, 'object identifier': 25, 'electricity bill': 25, 'work number': 25, 'farmer': 25, 'National Identity Document number': 25, 'health information': 25, 'certificate number': 25, 'client identification number': 25, 'civic number': 25, 'football_league': 25, 'locker number': 25, 'infraction number': 25, 'religious_organization': 25, 'bank account PIN': 25, 'IFSC code': 25, 'landline_phone': 25, 'healthcare identification number': 25, 'diplomatic ID number': 25, 'bank BLZ': 25, 'vaccination record': 25, 'RUC number': 25, 'land registry number': 25, 'payment authorization code': 25, 'personal access card number': 25, 'work hours': 25, 'number_of_pigs': 25, 'fire insurance number': 25, 'diploma date': 25, \"dependent's CPF\": 25, 'passport photo': 25, 'financial information': 25, 'spanish ID number': 25, 'algerian passport number': 25, 'algerian social security number': 25, 'school address': 25, 'class level': 25, 'mailing address identification number': 25, 'person number': 24, 'software': 24, 'car make and model': 24, 'dietary requirement': 24, 'ID number (Moroccan)': 24, 'personal yacht': 24, 'medication_dose': 24, 'farm id': 24, 'previous injury': 24, 'production process': 24, 'bank CPF number': 24, 'hospital ID': 24, 'fertilizer': 24, 'prison': 24, 'social program': 24, 'SWIFT/BIC': 24, 'terminal number': 24, 'bank SWIFT code': 24, 'parking permit number': 24, 'drink': 24, 'highway': 24, 'group reservation code': 24, \"business owner's personal identification number\": 24, 'foreigner status': 24, 'app': 24, 'bank account agency': 24, 'clinic': 24, 'label': 24, 'time of registration': 24, 'intended start date': 24, 'intended address': 24, 'client registration number': 24, 'building structure': 24, 'cost estimate': 24, 'theatrical_production': 24, 'health care provider registration number': 24, 'health care provider social security number': 24, 'EU social security number': 24, 'BIC-number': 24, 'pension insurance ID number': 24, 'social security number registration': 24, 'stromzähler-nummer': 24, 'invoice': 24, 'visa application number': 24, 'gamertag': 24, 'steam id': 24, 'xbox live id': 24, 'vehicle brand': 24, 'rating': 24, 'sensitive_data': 24, 'voter ID number': 24, 'insurance contract expiration date': 24, 'date of passport expiration': 24, 'GPS identifier': 24, 'AIS identifier': 24, 'business checking account': 24, 'business savings account': 24, 'business credit card number': 24, 'church community number': 24, 'blood group ID': 24, 'Swiss health insurance ID number': 24, 'steam account': 24, 'xbox account': 24, 'playstation account': 24, 'personal identification number (Germany)': 24, 'net profit': 24, 'personal code': 24, 'practice registration number': 24, 'average_grade_point': 24, 'synagogue registration number': 24, 'bar registration number': 24, 'date of expiration': 24, 'lab test registration number': 24, 'digital copy': 24, 'corporate account number': 24, 'athlete': 24, 'DNI (DNI is the Spanish equivalent of Social Security Number)': 24, 'NIF (NIF is the Spanish equivalent of Tax Identification Number)': 24, 'pre-existing conditions': 24, 'contact address': 24, 'product name': 24, 'cedula de identidad': 24, 'seating preference': 23, 'visitor card number': 23, 'insurance ID': 23, 'agent identification number': 23, 'boolean': 23, 'validity period': 23, 'gallery': 23, 'RUT clave': 23, 'passport number(s)': 23, 'mobile phone number(s)': 23, 'mailing address(es)': 23, 'loan amount': 23, 'educational degree': 23, 'account': 23, 'tax identification number for family': 23, 'medical term': 23, 'travel data': 23, 'national identification number (Portuguese)': 23, 'national identification number (Maldivian)': 23, 'CVC number': 23, 'age number': 23, 'date of surgery': 23, 'mosque registration number': 23, 'agricultural expenses': 23, 'registration ID': 23, 'postal application number': 23, 'passports': 23, 'pass': 23, 'employment identification number': 23, 'insurance provider group number': 23, 'previous account number': 23, 'number_of_works': 23, 'nie_number': 23, 'vehicle serial number': 23, 'marina registration number': 23, 'access key': 23, 'saudi id number': 23, 'vietnamese id number': 23, 'ordination date': 23, 'historical_site': 23, 'intersection': 23, 'Banco de Dados de Títulos (Bank of Titles)': 23, 'laptop serial number': 23, 'digital signature PIN': 23, 'licence number': 23, 'RUT (Revista Unica Tributaria)': 23, 'corporate credit card number': 23, 'football team': 23, 'Visa Electron card number': 23, 'new identification personal DNI number': 23, 'old identification personal DNI number': 23, 'DNI (national identity card number)': 23, 'notary public record ID': 23, 'facial recognition ID': 23, 'magnetic card number': 23, 'blood test result': 23, 'study program': 23, 'resident permit': 23, 'loyalty program membership number': 23, 'number_of_posts': 23, 'health insurance group ID': 23, 'divorce case number': 23, 'location of birth': 23, 'bus ticket date': 23, 'law enforcement': 23, 'alarm number': 23, 'license expiration date': 23, 'administrative registration number': 23, 'hearing aid ID number': 23, 'number_of_subcontractors': 23, 'residence permit': 23, 'consultation_date': 22, 'transaction_date': 22, 'initial balance': 22, 'health insurance program ID number': 22, 'physical address': 22, 'factory': 22, 'IP address registration number': 22, 'social security number last four digits': 22, 'medical_records': 22, 'research grant': 22, 'electronic travel authorization number': 22, 'last four digits of social security number': 22, 'thing': 22, 'declaração de renda anual': 22, 'digital passport number': 22, 'process number': 22, 'type of vessel': 22, 'tonnage': 22, 'contract end date': 22, 'clinic identification number': 22, 'razón social': 22, 'fecha de nacimiento': 22, 'pasaporte number': 22, 'facebook page': 22, 'security chip number': 22, 'foreign id number': 22, 'tax': 22, 'monthly gross salary': 22, 'last medical visit date': 22, 'natural feature': 22, 'rural property number': 22, 'security clearance number': 22, 'Hungarian ID number': 22, 'insurance_provider': 22, 'personal identification number (Hungarian ID)': 22, 'programming_language': 22, 'RIB': 22, 'bank account agency number': 22, 'chip card PIN': 22, 'hair_color': 22, 'passport application reference number': 22, 'geolocation code': 22, 'personal tax ID': 22, 'attention number': 22, 'Australian social security number': 22, 'rank': 22, 'troponin level': 22, 'laboratory test results': 22, 'registration ID number': 22, 'spa': 22, 'company code': 22, 'student_id_number': 22, 'employment termination date': 22, 'non-profit organization registration number': 22, 'garden': 22, \"doctor's visit date\": 22, 'credit line number': 22, 'home insurance policy number': 22, 'access card identification number': 22, 'authorization request number': 22, 'creditworthiness number': 22, 'medical record date': 22, 'employment registration number': 22, 'cemetery': 22, 'autornumber': 22, 'divorce file number': 22, 'Malawian National ID Number': 22, 'pharmacy ID number': 22, 'pharmacy address': 22, 'fair ride ticket number': 22, 'death year': 22, 'german tax ID': 22, 'system identification number': 22, 'French National Social Security Number': 22, 'tour company': 22, 'internal registration number': 22, 'variety registration number': 21, 'farmer identification number': 21, 'number_of_spindles': 21, 'number_of_webstools': 21, 'permission_number': 21, 'sender account number': 21, 'FISC code': 21, 'health_record': 21, 'agricultural ID card number': 21, 'service contract': 21, 'parcel': 21, 'HDL cholesterol': 21, 'medicine': 21, 'social security number (Spanish)': 21, 'caption': 21, 'social security number (CPF)': 21, 'group id': 21, 'artwork title': 21, 'clinical record number': 21, 'hospital social security number': 21, 'season ticket number': 21, 'system': 21, 'prize': 21, 'exhibition title': 21, 'judicial registration number': 21, 'VAT id': 21, 'terrain': 21, 'sports card number': 21, 'building project number': 21, 'personal registration number': 21, 'bank location code': 21, 'company license number': 21, 'biogas anlage registration number': 21, 'construction material supplier': 21, 'object id': 21, 'LDH': 21, 'G-Glutamat level': 21, 'Alk. Phosphatase': 21, 'total proteins': 21, 'albumin': 21, 'globulins': 21, 'blood cell size': 21, 'medical professional registration number': 21, 'SUS card number': 21, 'zoo identification card number': 21, 'medical certificate issue date': 21, 'tax_id': 21, 'apartment': 21, 'healthcare billing number': 21, 'hourly wage': 21, 'site registration number': 21, 'biometric file number': 21, 'facebook account': 21, 'left middle fingerprint': 21, 'right middle fingerprint': 21, 'digital signature certificate number': 21, 'medical record reference': 21, 'children': 21, 'builder id': 21, 'work permit': 21, 'Total Cholesterol': 21, 'Triglycerides': 21, 'geographical location': 21, 'credit card expiration month and year': 21, 'train car number': 21, 'subway zone': 21, 'subvention application number': 21, 'lithuanian social security number': 21, 'FIDC code': 21, 'entry ticket number': 21, 'jetty': 21, 'Australian passport number': 21, 'philhealth number': 21, 'art_collection': 21, 'date of injury': 21, 'italian tax ID': 21, 'carte de visite number': 21, 'code of bars': 21, 'deposit amount': 21, 'bank_name': 21, 'sports identification number': 21, 'fishing permit number': 21, 'permit application ID': 21, 'FIS number': 21, 'programming language': 21, 'degree subject': 21, 'graduation distinction': 21, 'land lease number': 21, 'flight booking reference number': 21, 'electronic mail address': 21, 'canadian tax file number': 21, 'agricultural_product': 21, 'date of birth of child': 21, 'sample': 21, 'real estate registration number': 21, 'CIF': 20, 'child passport number': 20, 'player card number': 20, 'government service': 20, 'medical_record_number': 20, 'real estate license number': 20, 'VAT ID number (Codice Fiscale)': 20, 'code fiscal': 20, 'bottle number': 20, 'hospital access control number': 20, 'travel itinerary reference number': 20, 'merchant': 20, 'GST number': 20, 'respiration rate': 20, 'media program': 20, 'credit card name': 20, 'drug dose': 20, 'drug dose per minute': 20, 'prescription duration': 20, 'license application number': 20, 'electricity meter number': 20, 'company registration certificate number': 20, 'travel insurance ID number': 20, 'cvv number': 20, 'ski pass': 20, 'organ donor number': 20, 'geolocation information and IP addresses': 20, 'date of hospital admission': 20, 'medical appointment number': 20, 'support': 20, 'Iranian ID number': 20, 'previous identity card number': 20, 'new address': 20, 'fee': 20, 'monthly fee': 20, 'zone': 20, 'quarter': 20, 'church identification number': 20, 'thai ID number': 20, 'NISP': 20, 'security question answer': 20, 'credit card information': 20, 'credit card pin': 20, 'resident_registration_number': 20, 'law': 20, 'RG (Brazilian Registration Number)': 20, 'CRM (Medical Council Registration Number)': 20, 'land size': 20, 'rural registration number': 20, 'physical description': 20, 'business description': 20, 'camera model': 20, 'virtual entity': 20, 'gaming community': 20, 'exhibition name': 20, 'property number': 20, 'performance review': 20, 'exhibition card number': 20, 'musical': 20, 'DNI (número de identidad español)': 20, 'digital identifier': 20, 'payment date': 20, 'casino account number': 20, 'RIF': 20, 'payment authorization number': 20, 'National Health Insurance Card Number': 20, 'internet connection': 20, 'weingut registration number': 20, 'property transaction number': 20, 'religious leader': 20, 'health ID': 20, 'record ID': 20, 'social security number mexicano': 20, 'disability pension ID number': 20, 'russian taxpayer identification number': 20, 'russian health insurance ID number': 20, 'income': 20, 'product_attribute': 20, 'baptismal_certificate_number': 20, 'PersonalDataBase ID': 20, 'digital signature password': 20, 'maritime captain license number': 20, 'product number': 20, 'phone number (business)': 20, 'german id number': 20, 'company name': 20, 'date of first surgery': 20, 'professional qualifications': 20, 'old train ticket number': 20, 'healthcare record number': 20, 'handelsregisternummer': 20, 'comune number': 20, 'community license number': 20, 'owner': 20, 'hectare': 20, 'creatinina': 20, 'artist registration number': 20, 'Brazilian health card number': 20, 'current Bulgarian passport number': 20, 'alien ID': 20, 'credit card number CVC': 20, 'cvc number': 20, 'media production': 20, 'religious_building': 20, 'alcohol level': 20, 'bank check number': 20, 'secondary school number': 20, 'year of start': 20, 'year of finish': 20, 'medication code': 20, 'clinic record number': 20, 'magnetic ID': 20, 'construction project registration number': 20, 'document series number': 20, 'invoice account number': 20, 'baptism_date': 20, 'community service hours': 19, 'number_of_units': 19, 'magazine': 19, 'número de segurança social': 19, 'número de conta corrente': 19, 'special identification number': 19, 'land parcel': 19, 'banana trees': 19, 'cocoa trees': 19, 'coffee trees': 19, 'medical record id': 19, 'organ': 19, 'camera': 19, 'croatian passport number': 19, 'seal number': 19, 'geolocation tracking ID': 19, 'foreign identification number': 19, 'medical invoice number': 19, 'hemoglobin level': 19, 'personal tax ID number': 19, 'Italian health insurance ID number': 19, 'person_group': 19, 'contract start date': 19, 'real estate project': 19, 'number_of_floors': 19, 'number_of_apartments_per_building': 19, 'CPF (Cadastro de Pessoas Físicas) number': 19, 'employment end date': 19, 'floor number': 19, 'Clabe number': 19, 'person group': 19, 'construction_project': 19, 'electronic prescription number': 19, 'medical certificate': 19, 'country of issuance': 19, 'travel voucher number': 19, 'deutsche Heftnummer': 19, 'enrollment_date': 19, 'WKN': 19, 'container number': 19, 'rental agreement number': 19, 'book_series': 19, 'image title': 19, 'civil registry number': 19, 'secret key': 19, 'magnetic strip number': 19, 'ISTAT code': 19, 'postal registration number': 19, 'weinbauregisterungsnummer': 19, 'passnummer': 19, 'extra bed': 19, 'health_insurance': 19, 'tissue reference number': 19, 'supplemental health insurance number': 19, 'game level': 19, 'tax ID number/social security number/health insurance ID number': 19, 'credit cards': 19, 'PEC': 19, 'post office number': 19, 'biopsy sample number': 19, 'Singaporean social security number': 19, 'DBS bank account number': 19, 'price per unit': 19, 'book_title': 19, 'tax exemption number': 19, 'document number (DNI)': 19, 'supplementary health insurance ID number': 19, 'identity card serial number': 19, 'purchase record number': 19, 'emirates id': 19, 'HDL': 19, 'LDL': 19, 'Italian fiscal number': 19, 'health records': 19, 'permanent CPF': 19, 'spendenkasse number': 19, 'number of beds': 19, 'construction project address': 19, 'construction start date': 19, 'construction end date': 19, 'product code': 19, 'equipment store': 19, 'RCS number': 19, 'NIE (Número de Identidad de Extranjeros)': 19, 'health insurance id numbers': 19, 'religious affiliations': 19, 'trademark number': 19, 'insurance subscriber ID': 19, 'trainers': 19, 'purchase number': 19, 'meldebehörde number': 19, 'bank account branch number': 19, 'camping fee': 19, 'agricultural production': 19, 'next of kin phone number': 19, 'bus ticket series number': 19, 'tax ID of organization': 19, 'IBAN account number': 19, 'IBAN deposit account number': 19, 'number_of_caravan_spaces': 19, 'number_of_tent_spaces': 19, 'mailbox key': 19, 'trainers license number': 19, 'statistical code': 19, 'tax representative identification number': 19, 'Latvian identity card number': 19, 'degree date': 19, 'land identification code': 19, 'company registration number number': 19, 'NIP': 19, 'business identifier': 19, 'medication pass number': 19, 'tax ID (for banking purposes)': 19, 'firma ID': 19, 'date of signing': 19, 'Italian health insurance ID': 19, 'Dutch health insurance ID': 19, 'zoo registration number': 19, 'address_part': 18, 'professional insurance id number': 18, 'age group': 18, 'animal_number': 18, 'DNI (DNI de identidad nacional)': 18, 'austrian identity number': 18, 'medical_specialty': 18, 'recreational land number': 18, 'subscription tariff': 18, 'arrest warrant number': 18, 'guardianship number': 18, 'rental period': 18, 'character number': 18, 'cellular ID number': 18, 'student control number': 18, 'series': 18, 'future date': 18, 'ketubah id number': 18, 'id number': 18, 'court date': 18, 'social security number (ES)': 18, 'student': 18, 'biometric pin': 18, 'taxi license number': 18, 'fasting glucose': 18, 'sedimentation basin': 18, 'evaporator': 18, 'wine label identification number': 18, 'ID card serial number': 18, 'dna pattern': 18, 'time_period': 18, 'grant ID': 18, 'campground registration date': 18, 'cafe id': 18, 'property tax invoice number': 18, 'bank solvency certificate number': 18, 'museum membership number': 18, 'Valid-ID-Nr.': 18, 'gym membership ID': 18, 'dates': 18, 'deed number': 18, 'industry sector': 18, 'business email address': 18, 'rice variety': 18, 'Bulgarian ID number': 18, 'access ticket number': 18, \"doctor's phone number\": 18, 'property tax ID number': 18, 'employment position': 18, 'city of birth': 18, 'gun license number': 18, 'charge': 18, 'land_parcel': 18, 'bic_code': 18, 'rabbi registration number': 18, 'maritime registration number': 18, 'Turkish ID number': 18, 'chemotherapy drug': 18, 'campsite': 18, 'company founding date': 18, 'mac address': 18, 'german company registration number': 18, 'iban number': 18, 'bic number': 18, 'number_of_registered_families': 18, 'ride ticket number': 18, 'house registration number': 18, 'discoverer': 18, 'employer ID': 18, 'health care service': 18, 'identity registration number': 18, 'security token': 18, 'german personal identification number': 18, 'alcohol license number': 18, 'sponsor tax ID number': 18, 'child dependant tax ID number': 18, 'spouse dependant tax ID number': 18, 'refugee ID number': 18, 'residence permit ID number': 18, 'work permit ID number': 18, 'deutsche Rentenversicherungsnummer': 18, 'production_line': 18, 'gym': 18, 'agricultural equipment': 18, 'pass card number': 18, 'name of bank account': 18, 'historical entity': 18, 'ethnic group': 18, 'meldestelle number': 18, 'contract date': 18, 'religious registration number': 18, 'web_link': 18, 'certificate of deceased date': 18, 'theater account': 18, 'food insurance number': 18, 'employment contract signature': 18, 'novel': 18, 'documento nacional de identidade': 18, 'shipping label number': 18, 'business plan': 18, 'state registration number': 18, 'zoovet identification number': 18, 'hospital_file_number': 18, 'liquid': 18, 'flight booking reference': 18, 'whatsapp number': 18, 'health insurance plan': 18, 'shoe number': 18, \"father's CPF\": 18, \"mother's CPF\": 18, 'emergency code': 18, 'customer name': 18, 'Mexican Health Insurance ID Number': 18, 'IPF': 18, 'company tax registration number': 18, 'building registration number': 18, 'persönliche Nummer': 18, 'identification_card_number': 18, 'amex number': 18, 'travel request': 18, 'tax year': 18, 'Malagasy ID card number': 18, 'employee social security number': 18, 'alternative phone number': 18, 'bank_code_bic': 18, 'bank_verification_code': 18, 'bank_card_number': 18, 'bank_card_cvv': 18, 'medicare card number': 18, 'vineyard identification code': 18, 'property deed registration number': 18, 'social security number professional': 18, 'social security number (México)': 18, 'tax ID (Romania)': 18, 'social security number for contributions (Romania)': 18, 'theater performances': 18, 'diagnosis card number': 18, 'payment terms': 18, 'winzerregistrierungsnummer': 18, 'flight_line_number': 17, 'lottery number': 17, 'edition number': 17, 'clothing item number': 17, 'date of request': 17, 'seat reservation number': 17, 'construction site number': 17, 'scholarship period': 17, 'mexican passport number': 17, 'grocery list': 17, 'criminal record number': 17, 'branch number': 17, 'tax ID/Codice Fiscale': 17, 'Malagasy identity number': 17, 'German identity number': 17, 'order reference': 17, 'emergency_number': 17, 'old password': 17, 'ski plate number': 17, 'photo ID number': 17, 'email provider': 17, 'residence_permit_number': 17, 'promotion code': 17, 'digital ID number': 17, 'Nigerian National Identity Number': 17, 'travel details': 17, 'Chilean National ID': 17, \"doctor's contact number\": 17, 'emission license number': 17, 'national health number': 17, 'hospitalization start date': 17, 'hospitalization end date': 17, 'spiritual leadership number': 17, 'biometric identification number': 17, 'spouse birth date': 17, 'energy company': 17, 'pub': 17, 'retirement social security number': 17, 'sector code': 17, 'company registration number for business': 17, 'personal packet pickup key number': 17, 'business postal code': 17, 'previous year revenue': 17, 'dining ticket number': 17, 'date of diagnosis': 17, 'signature token': 17, 'discharge_date': 17, 'hemoglobin_a1c': 17, 'fasting_plasma_glucose': 17, 'residence certificate': 17, 'personal data bank number': 17, 'login credentials': 17, 'CNPJ (Cadastro Nacional de Pessoas Jurídicas)': 17, 'diagnosis code system': 17, 'Greek ID number': 17, 'number of residential units': 17, 'number of commercial units': 17, 'avenue': 17, 'RSA private key': 17, 'campingplatz number': 17, 'american express card number': 17, 'city hall': 17, 'municipality registration number': 17, 'return flight number': 17, 'return time': 17, 'personal identity number': 17, 'HMO ID number': 17, 'machine number': 17, 'data category': 17, 'baptismal record number': 17, 'luggage': 17, 'music_group': 17, 'passport photo file size and format': 17, 'artwork number': 17, 'payment_card_brand': 17, 'claims processing identifier': 17, 'theater registration number': 17, 'confidential': 17, 'issue_date': 17, 'visacard number': 17, 'hunting and fishing license number': 17, 'electronic account number': 17, 'vineyard license number': 17, 'season pass number': 17, 'vaccination registration number': 17, 'carte de séjour number': 17, 'Vietnam ID number': 17, 'NIE (Número de Identidad de Extranjero)': 17, 'train ticket reservation number': 17, 'meldebescheinigung number': 17, 'Australian Tax File Number': 17, 'salutation': 17, 'rural address': 17, 'modem serial number': 17, 'booking reference': 17, 'course number': 17, 'registration document': 17, 'medical professional': 17, 'health insurance plan name': 17, 'waist measurement': 17, 'museum inventory number': 17, 'legal document number': 17, 'tax declaration': 17, 'RG (Brazilian Registration Card)': 17, 'CPF (Brazilian Personal Identification Number)': 17, 'conference': 17, 'luggage tracking number': 17, 'patient registration number': 17, 'home email': 17, 'herd size': 17, 'ailment': 17, 'semester ticket number': 17, 'footwear': 17, 'bag': 17, 'hair': 17, 'UK passport number': 17, 'telemarketing number': 17, 'cabin class': 17, 'hotel booking reference number': 17, 'IMSS card number': 17, 'billing statement number': 17, 'medical record category': 17, 'medical record value': 17, 'harbor': 17, 'gamer tag': 17, 'image_id': 17, 'dose of insulin': 17, 'dose of metformin': 17, 'group id number': 17, 'personal address': 17, 'car': 17, 'mortgage amount': 17, 'credit card debt': 17, 'damage date': 17, 'nhs number': 17, 'rabbinical registration number': 17, 'address card number': 17, 'tax identification number_label': 17, 'disability insurance number': 17, 'kidney donation number': 17, 'liver donation number': 17, 'producer registration number': 17, 'engineering certificate': 17, 'sample number': 17, 'insurance office': 17, 'agricultural information': 17, 'park number': 17, 'business type': 17, 'government issued ID': 17, 'construction site identification number': 17, 'invoice description': 17, 'clabe interbancaria': 17, 'German broadcasting license number': 17, 'transaction protocol number': 17, 'cargo capacity': 17, 'firefighter badge number': 17, 'credit card number (old)': 17, 'credit card number (new)': 17, 'police station': 17, 'parcel number': 17, 'rental price': 17, 'current address': 16, 'marina station': 16, 'entrance ticket number': 16, 'total cost': 16, 'postal account number': 16, 'provider name': 16, 'medical bills': 16, 'blood_sugar_level': 16, 'medication_name': 16, 'link': 16, 'supplementary health insurance id number': 16, 'provider registration number': 16, 'time of birth': 16, 'server': 16, 'pollution level': 16, 'group_number': 16, 'national health card number': 16, 'hemoglobin A1c result': 16, 'glucose result': 16, 'cholesterol result': 16, 'proposed surgery date': 16, 'animal_species': 16, 'temporary resident permit number': 16, 'national ID number (DNI)': 16, 'licensing number': 16, 'nationality ID number': 16, 'metro card number': 16, 'club card number': 16, 'picture number': 16, 'instagram id': 16, 'social security number from the Saudi Social Security': 16, 'medical treatment date': 16, 'electronic identification number': 16, 'post office billing number': 16, 'cuisine': 16, 'licence number for attraction operation': 16, 'personal unit number': 16, 'emotion': 16, 'number of dependents': 16, 'number of minor dependents': 16, 'health status': 16, 'academic subject': 16, 'credit_card_cvv': 16, 'card_holder': 16, 'non-profit_registration_number': 16, 'loyalty number': 16, 'monthly electricity bill': 16, 'last electricity bill': 16, 'current electricity bill': 16, 'transaction confirmation key': 16, 'industrial risk insurance number': 16, 'financial markets authority number': 16, 'personal health certificate number': 16, 'health insurance provider number': 16, 'metro line': 16, 'consumer ID number': 16, 'electric plan': 16, 'Fide card number': 16, 'code': 16, 'security digital ID': 16, 'hospital admission date': 16, 'Star Alliance Gold membership number': 16, 'name, surname, address': 16, 'acreage': 16, 'biometric_identifier': 16, 'insurance_policy_number': 16, 'gorilla identification number': 16, 'charity event': 16, 'train ticket QR code': 16, 'medical tests': 16, 'medical imaging': 16, 'spending account number': 16, 'French national ID': 16, 'number of floors': 16, 'north korean passport number': 16, 'diplomatic identification number': 16, 'tax identification number (company)': 16, 'air travel security number': 16, 'seat location': 16, 'marina location': 16, 'license issue date': 16, 'credit card number, with expiration date 01/23': 16, 'credit card number, with expiration date 06/25': 16, 'social security number (contributor)': 16, 'senior card number': 16, 'plow number': 16, 'irrigation pump number': 16, 'railway track': 16, 'investment account number': 16, 'community center registration number': 16, 'book inventory number': 16, 'hemoglobin A1c level': 16, 'child health insurance ID number': 16, 'date of hospitalization': 16, 'Argentinian social security number': 16, 'health card registration number': 16, 'workplace safety ID': 16, 'ski region': 16, 'ski school': 16, 'wine_type': 16, 'ski permit number': 16, 'physical fitness ID number': 16, 'consultation number': 16, 'receipt_number': 16, 'tax ID/fiscal code': 16, 'foreign ID': 16, 'IBAN code': 16, 'date of exam': 16, 'day_of_week': 16, 'ski_pass_number': 16, 'hospital_id': 16, 'doctor_id': 16, 'minute': 16, 'ABA routing number': 16, 'appointment': 16, 'firmengründungsnummer': 16, 'construction permit': 16, 'store registration number': 16, 'mail': 16, 'client code': 16, 'sports registration number': 16, 'IDP': 16, 'operational expenses': 16, 'tax expenses': 16, 'single': 16, 'single number': 16, 'tractor registration number': 16, 'truck registration number': 16, 'NIF (National Identity Number)': 16, 'sale code': 16, 'entry identification number': 16, 'fire department registration number': 16, 'bankverbindungsbestätigung kontoinhaber identifikationsnummer': 16, 'Argentine identification number': 16, 'seguro social': 16, 'academic aptitude test certificate number': 16, 'cardiovascular disease': 16, 'diabetes': 16, 'belgian tax number': 16, 'quality': 16, 'prepaid card amount': 16, 'electronic invoice email': 16, 'spouse CPF number': 16, 'facebook id': 16, 'salary account number': 16, 'firm number': 16, 'CPF_number': 16, 'fines': 16, 'person, born_on:1975-03-21': 16, 'person, born_on:1987-10-10': 16, 'tax identification number/code fiscale': 16, 'civil ID': 16, 'currency unit': 16, 'número de saúde': 16, 'número de RH': 16, 'número de CNH': 16, 'número de cartão de trabalho': 16, 'número de conta de sangue': 16, 'número de conta bancária': 16, 'email password': 16, 'pass identification number': 15, 'memorabilia reference number': 15, 'health card': 15, 'student ID number series': 15, 'supplementary bed': 15, 'Greek tax identification number': 15, 'commercial address': 15, 'cellphone': 15, 'bank_agency': 15, 'checking_account': 15, 'last visit date': 15, 'last measurement date': 15, 'RSI number': 15, 'Greek fiscal number': 15, 'cultural center': 15, 'health_maintenance_organization': 15, 'HMO_ID_number': 15, 'Personalausweisnummer': 15, 'veterinary identification number': 15, 'digital signature certificate serial number': 15, 'protein C level': 15, 'protein B level': 15, 'approximate year of death': 15, 'digital photo': 15, 'recommendation letter': 15, 'visa details': 15, 'emergency medical card number': 15, 'religious entity': 15, 'city and state': 15, 'health plan ID number': 15, 'UN FAO passport number': 15, 'RFID microchip number': 15, 'id_document': 15, 'beam': 15, 'draft': 15, 'VIP membership number': 15, 'property title': 15, 'purchase amount': 15, 'clothing size': 15, 'shoe': 15, 'security question': 15, 'Polish identity card number': 15, 'National Health Insurance Number': 15, 'online ID': 15, 'CEP (Código de Endereçamento Postal)': 15, 'teacher license number': 15, 'animal health id number': 15, 'digital image': 15, 'HMO number': 15, 'health insurance subscriber ID': 15, 'payment card expiration date': 15, 'winegrower license number': 15, 'transportation hub': 15, 'audience': 15, 'birth certificates': 15, 'death certificates': 15, 'property titles': 15, 'immigration papers': 15, 'vineyard registration code': 15, 'personal card number': 15, 'family card number 1': 15, 'family card number 2': 15, 'belgian personal number': 15, 'health insurance ID numbers': 15, 'Australian Business Number': 15, 'Australian pension number': 15, 'medical_device': 15, 'training number': 15, 'journal': 15, \"spouse's social security number\": 15, \"spouse's health insurance ID\": 15, 'sub-organization': 15, 'transportation ticket number': 15, \"player's rewards card ID\": 15, 'treatment reference number': 15, 'group ID number': 15, 'Swift Code': 15, 'publisher address': 15, 'Mauritanian passport number': 15, 'Mauritanian ID number': 15, 'French passport number': 15, \"Senegalese driver's license number\": 15, 'Senegalese ID number': 15, 'professional number': 15, 'residential letter': 15, 'person (historical)': 15, 'location (historical site)': 15, 'pharmacist license number': 15, 'national identity number (Codice Fiscale)': 15, 'national identity number (Codice Fiscale) - extension': 15, 'date of employment': 15, 'ID document number': 15, 'purpose of travel': 15, 'Slovak ID card number': 15, 'business trip': 15, 'New York State ID number': 15, 'electrical access': 15, 'educational record': 15, 'ticket confirmation number': 15, 'person description': 15, 'invoice_number': 15, 'tax ID of the organization': 15, 'athlete license number': 15, 'WhatsApp number': 15, 'numerical key': 15, 'smart card number': 15, 'Colombian ID number': 15, 'old phone number': 15, 'new phone number': 15, 'year of graduation': 15, 'code of labor': 15, 'identifying number': 15, 'fishing license number': 15, 'work_permit_number': 15, 'dock number': 15, 'new contact number': 15, 'database ID': 15, 'exhibition catalog number': 15, 'organ donor card number': 15, 'residency ID number': 15, 'energy supply request number': 15, 'electricity': 15, 'mean arterial pressure': 15, 'social security affiliation number': 15, 'giraffe': 15, 'organic farm ID': 15, 'degree program': 15, 'carousel machine number': 15, 'immigration ID': 15, 'proposal number': 15, 'building plan number': 15, 'amusement park ticket number': 15, 'passport number (Ivan Petrov)': 15, 'passport number (Mrs. Petrova)': 15, 'property ID number': 15, 'passcode': 15, 'chest': 15, 'biceps': 15, 'dissertation': 15, 'invention': 15, 'patent application number': 15, 'health insurance document': 15, 'NIE number': 15, 'tax ID number (CPF)': 15, 'health inspection registration number': 15, 'medical equipment': 15, 'greek social security number': 15, 'tv show': 15, 'vehicle number': 15, 'apartment_number': 15, 'gas account number': 15, 'factory ID number': 15, 'apartment size': 15, 'total apartment size': 15, 'TV number series': 15, 'false passport number': 15, 'real CPF number': 15, 'personal identification number (Finland)': 15, 'community center ID number': 15, 'oxygen saturation': 15, 'person_role': 15, 'TIN': 15, 'park entrance card serial number': 15, 'bank locality code': 15, 'registration key': 15, 'conversation': 15, 'sentence duration': 15, 'student class': 15, 'student association registration number': 15, 'production line': 15, 'international health insurance ID number': 15, 'customer ID number': 14, 'production license number': 14, 'health service': 14, 'ski registration number': 14, 'sales tax ID': 14, 'life insurance policy number': 14, 'emoji': 14, 'latitude': 14, 'longitude': 14, 'rfc number': 14, 'courtroom': 14, 'medical record identifier': 14, 'memory size': 14, 'processor': 14, 'length of stay': 14, 'matricola number': 14, 'person_ID': 14, 'facebook name': 14, 'ecg finding': 14, 'event title': 14, 'citizen identification number': 14, 'site identification number': 14, 'event date': 14, 'tax identification number/codice fiscal': 14, 'practice number': 14, 'animal certificate number': 14, 'animal passport number': 14, 'MetroPass number': 14, 'NIF (Identification Number for Tax Purposes)': 14, 'payment account number': 14, 'RCM number': 14, \"doctor's practice number\": 14, 'national id card number': 14, 'sensor serial number': 14, 'account_number': 14, 'villa number': 14, 'football registration number': 14, 'FIFA registration number': 14, 'herd registration number': 14, 'postal_address': 14, 'medical record ID': 14, 'dietary preference': 14, 'vehicle value': 14, 'personal identification document': 14, 'CPR number': 14, 'hometown': 14, 'production volume': 14, 'social security number of birth': 14, 'purpose': 14, 'card expiration year': 14, 'historical period': 14, 'academic degree': 14, 'social security number (Roman)': 14, 'file reference number': 14, 'National Insurance Number': 14, 'synagogue membership number': 14, 'commercial license number': 14, 'library registration number': 14, 'hba1c value': 14, 'RUC': 14, 'foundation membership number': 14, 'rural property': 14, 'national tax ID number': 14, 'anatomical location': 14, 'social_media': 14, 'approximately one week': 14, 'pre-treatment number': 14, 'Chilean ID': 14, 'Maldivian ID card number': 14, 'passport electronic number': 14, 'Indian identity number': 14, 'side': 14, 'hemoglobina': 14, 'platelets': 14, 'rewards card number': 14, 'waist circumference': 14, 'supplier registration number': 14, 'resident ID': 14, 'Spanish ID number': 14, 'market': 14, 'date of examination': 14, 'health inspection certificate': 14, 'business registration document': 14, 'boat name': 14, 'boat storage number': 14, 'healthcare fiscal code': 14, 'goalkeeper': 14, 'defender': 14, 'forward': 14, 'facial recognition': 14, 'health insurance company number': 14, 'energy account number': 14, 'concession number': 14, 'EC card number': 14, 'media_outlet': 14, 'digital signature key': 14, 'life insurance ID': 14, 'dinosaur': 14, 'national health index number': 14, 'gaming guild': 14, 'personal health insurance id number': 14, 'arable land': 14, 'pasture': 14, 'social security number card number': 14, 'farm insurance policy number': 14, 'decree number': 14, 'CRB number': 14, 'tax ID number/fiscal code': 14, 'tourist identification number': 14, 'religious ID number': 14, 'degree_program': 14, 'academic_standing': 14, 'company number': 14, 'theater_performance': 14, 'virtual item': 14, 'personal identification number (ID card)': 14, 'fabric number': 14, 'magnetic ski card number': 14, 'class ID': 14, 'hearing ID': 14, 'social security number of father 1': 14, 'social security number of father 2': 14, 'patent number': 14, 'medical condition code': 14, 'code name': 14, 'fire department unit': 14, 'doi': 14, 'legal entity': 14, 'financial record': 14, 'electronic communication': 14, 'employment record': 14, 'business transaction': 14, 'insurance policy': 14, 'Tanzanian health insurance ID': 14, 'Tanzanian car insurance number': 14, 'internet subscription number': 14, 'tax identification number last 4 digits': 14, 'price for adults': 14, 'price for children under 12 years': 14, 'emergency vehicle': 14, 'hearing impairment certificate number': 14, 'granja registration number': 14, 'card personalization number': 14, 'state tax identification number': 14, 'new postal code': 14, 'general health insurance number': 14, 'property file number': 14, 'Hong Kong Identity Card Number': 14, 'VAT number EU': 14, 'brain scan number': 14, 'carteira de identidade': 14, 'canadian passport number': 14, 'german social security number': 14, 'canadian health insurance number': 14, 'emergency medical ID number': 14, 'master password': 14, 'spending appeal ID': 14, 'spender ID': 14, 'contact details': 14, 'sales ID': 14, 'NDC number': 14, 'ISNI number': 14, 'institution registration number': 14, 'Thai Social Insurance number': 14, 'variety identification number': 14, 'digital wallet number': 14, 'government farm ID': 14, 'Taiwanese ID number': 14, 'health insurance coverage start date': 14, 'complaint ID number': 14, 'product_line': 14, 'social security number (Thailand)': 14, 'social security number from Burkina Faso': 14, 'forest species': 14, 'energy source': 14, 'organic production certificate number': 14, 'donor ID': 14, 'game session number': 14, 'Swedish tax identification number': 14, 'healthcare professional ID number': 14, 'biometric sample': 14, 'cadastral number': 14, 'avatar': 14, 'energy efficiency classification': 14, 'telephone number (fixed)': 14, 'telephone number (mobile)': 14, 'business activity': 14, 'telecommunications provider': 14, 'anatomical structure': 14, 'report': 13, 'residence identification number': 13, 'year_of_production': 13, 'area_size': 13, 'passenger ID': 13, 'warrant number': 13, 'ssh key': 13, 'cardholder_name': 13, 'TAN list': 13, 'ski slope': 13, 'real estate transaction registration number': 13, 'italian passport number': 13, 'taiwanese passport number': 13, 'ski season card number': 13, 'bloodtype': 13, 'RCSB': 13, 'boat insurance policy number': 13, 'quantity_of_fertilizer': 13, 'area_of_cultivation': 13, 'average_yield': 13, 'type_of_fertilizer': 13, 'irrigation_method': 13, 'livestock identification numbers': 13, 'geheimpin': 13, 'VAT_number': 13, 'music title': 13, 'business registration': 13, 'facebook': 13, 'instagram': 13, 'sale price': 13, 'cause': 13, 'court protocol number': 13, 'health care receipt number': 13, 'ECG data': 13, 'rural area id': 13, 'National Health ID Number': 13, 'navigation permit number': 13, 'security guard ID': 13, 'security supervisor ID': 13, 'number_of_tables': 13, 'credit_card_expiration_date': 13, 'digital camera number': 13, 'auto insurance id number': 13, 'medical chamber id number': 13, 'guest list': 13, 'answer to security question': 13, 'wine grape variety': 13, 'juvenile social security number': 13, 'book series': 13, 'book loan number': 13, 'facebook ID': 13, 'naturalization document number': 13, 'delivery time': 13, 'film title': 13, 'passport ID number': 13, 'transport license number': 13, 'subsidy application number': 13, 'rice type': 13, 'rice quantity': 13, 'tax ID abbreviation': 13, 'Austrian ID number': 13, 'order reference number': 13, 'stamp number': 13, 'tax ID number/code fiscale': 13, 'transaction authorization code': 13, 'royalty': 13, 'promo code': 13, 'Thai national ID number': 13, 'company founding certificate number': 13, 'RCN social': 13, 'roller coaster serial number': 13, 'carousel serial number': 13, 'ferris wheel serial number': 13, 'mini golf serial number': 13, 'Swiss ID card number': 13, 'paypal account': 13, 'hearing aid identification number': 13, 'invitation code': 13, 'sentence length': 13, 'nigerian passport number': 13, \"nigerian driver's license number\": 13, 'site code identifier': 13, 'discovery year': 13, 'number of buildings': 13, 'number of visitors': 13, 'Ghanaian ID number': 13, 'allergy status': 13, 'article reference number': 13, 'credit card verification value': 13, 'historical building': 13, 'lake': 13, 'social security number for business': 13, 'marriage_registration_number': 13, 'meeting registration number': 13, 'company iban': 13, 'personal iban': 13, 'math average grade': 13, 'chemistry average grade': 13, 'real estate complex': 13, 'falsified title number': 13, 'urine test': 13, 'stool test': 13, 'blood test': 13, 'body fat percentage': 13, 'medical insurance company': 13, 'guild name': 13, 'penalty number': 13, 'tax rate': 13, 'media title': 13, \"old driver's license number\": 13, 'class registration number': 13, 'production number': 13, 'number of foreign workers': 13, 'seating capacity': 13, 'standing capacity': 13, 'ship identification number': 13, 'film registration number': 13, 'mailing_address': 13, 'postident number': 13, 'social security number for medical services': 13, 'messaging app': 13, 'park entry number': 13, 'SSS number': 13, 'character_race': 13, 'skin_color': 13, 'parcel identification number': 13, \"captain's license number\": 13, \"driver's license expiration date\": 13, 'vehicle type': 13, 'vehicle color': 13, 'donor card number': 13, 'damage amount': 13, 'display_name': 13, 'divorce registration number': 13, 'separation declaration number': 13, 'product_list': 13, 'land_registration_number': 13, 'engine serial number': 13, 'Federal EIN number': 13, 'doctor id number': 13, 'ski package': 13, 'ski lesson': 13, 'health insurance type': 13, 'health insurance statement': 13, 'cpt code': 13, 'reservation confirmation number': 13, 'packet number': 13, 'gross tonnage': 13, 'glasses card': 13, 'date of event': 13, 'tax identification number/social security number': 13, 'property tax notice number': 13, 'CRP': 13, 'credit card password': 13, 'insurance plan number': 13, 'financial_organization': 13, 'health number': 13, 'import ID number': 13, 'old identity card number': 13, 'tax ID (company)': 13, 'branch identification code': 13, 'bank account identification code': 13, 'camping ID number': 13, 'bank identification code': 13, 'educational_degree': 13, 'square feet': 13, 'italian registration number': 13, 'engine': 13, 'crew size': 13, 'artwork identification code': 13, 'Cartão de Saúde': 13, 'seguro de saúde': 13, 'CPT code': 13, 'treatment authorization': 13, 'medical record access code': 13, 'tax identification number for income': 13, 'TE': 13, 'date of stress test': 13, 'resting blood pressure': 13, 'maximum blood pressure': 13, 'resting heart rate': 13, 'maximum heart rate': 13, 'point of sale': 13, 'application form number': 13, 'social security number code': 12, 'gym membership card number': 12, 'login_id': 12, 'zip_code': 12, 'Colombian social security number': 12, 'electronic ID': 12, 'travel security card number': 12, 'parking garage': 12, 'parking garage number': 12, 'football jersey number': 12, 'agricultural yield': 12, 'agricultural land': 12, 'treatment file number': 12, 'insurance claim reference number': 12, 'monthly ticket number': 12, 'facial recognition software': 12, 'academic transcript': 12, 'national health insurance ID number': 12, 'coffee brewing method': 12, 'gold': 12, 'camping location number': 12, 'social media_handle': 12, 'PayPal account number': 12, 'cow_id': 12, 'pig_id': 12, 'chicken_id': 12, 'document_url': 12, 'ECG test number': 12, 'goggles number': 12, 'gas heating system registration number': 12, 'weekdays': 12, 'statue': 12, 'genre': 12, 'phone number for delivery service': 12, 'private dock registration number': 12, 'credit/debit card number': 12, 'credit/debit card security code': 12, 'tour package': 12, 'liability agreement': 12, 'reason for registration': 12, 'square_meters': 12, 'gorilla_bicudo': 12, 'panthera_negra': 12, 'monument': 12, 'lithuanian id card number': 12, 'number of insurance company': 12, 'square_meter': 12, 'imei': 12, 'incident reference number': 12, 'HI number': 12, 'issuance_date': 12, 'engine type': 12, 'National Health Insurance Scheme ID number': 12, 'medication registration number': 12, 'stadium season ticket number': 12, 'library card ID': 12, 'in-game character name': 12, 'Swift/BIC': 12, 'navigation license number': 12, 'food_ingredient': 12, 'art_gallery': 12, 'pasport number': 12, 'art project': 12, 'study': 12, 'person, Han Dynasty emperor': 12, 'ticket identification number': 12, 'teacher': 12, 'ICD-10-code': 12, 'luggage serial number': 12, 'manure': 12, 'liquor': 12, 'bonus': 12, 'country_of_origin': 12, 'rural insurance number': 12, 'tissue_reference_number': 12, 'agricultural_registration_number': 12, 'archaeological site': 12, 'permanent seat number': 12, 'monthly ticket code': 12, 'pharmaceutical company': 12, 'passport (João da Silva)': 12, 'Swedish tax ID number': 12, 'credit card CVC number': 12, 'new password': 12, 'A1C_test_result': 12, 'emergency_treatment_units': 12, 'environmental license number': 12, 'value added tax identification number': 12, 'internship_number': 12, 'id_number': 12, 'previous energy consumption': 12, 'new energy consumption': 12, 'drug name': 12, 'marina membership number': 12, 'marina slip number': 12, 'sale confirmation number': 12, 'playing card number': 12, 'Swedish fiscal number': 12, 'tax code of division': 12, 'family health insurance number': 12, 'child health insurance number': 12, 'prescription id number': 12, 'animal ID': 12, 'Polish Social Security Number': 12, 'relationship status': 12, 'citizen id': 12, 'student record number': 12, 'Thai ID card number': 12, \"Thai driver's license number\": 12, 'French tax ID number': 12, \"dependents' social security number\": 12, 'production capacity': 12, 'payment number': 12, 'telephone contract': 12, 'car part': 12, 'seating': 12, 'course subjects': 12, 'health id number': 12, 'fire station ID': 12, 'broadcasting organization': 12, 'stock ticker symbol': 12, 'ISIN code': 12, 'electricity consumption account number': 12, 'digital signature number': 12, 'shop number': 12, 'cuban id card number': 12, 'concentration': 12, 'PERS-ID': 12, 'tax registration certificate': 12, 'investigation number': 12, 'spenden-iban': 12, 'hobby': 12, 'command center': 12, 'chronic illness insurance number': 12, 'subtotal': 12, 'CTPJ number': 12, 'accident': 12, 'medical event': 12, 'german_id_number': 12, 'user id': 12, 'ip addresses': 12, 'real names': 12, 'SIM card serial number': 12, 'IMEI number': 12, 'immigration registration number': 12, 'debt': 12, 'contact': 12, 'Firefighters Gold Badge number': 12, 'animal park registration number': 12, 'image file': 12, 'utility bill number': 12, 'DNI (Documento Nacional de Identidad)': 12, 'agent tax ID number': 12, 'bicycle': 12, 'number_of_guests': 12, 'site_number': 12, 'cell_phone_number': 12, \"driver's_license_number\": 12, 'swiss bank account number': 12, 'real estate agency number': 12, 'pension insurance number': 12, 'competitor card number': 12, 'yacht captain license number': 12, 'personal ID number (Australian ID)': 12, 'tax identification number/fiscal code': 12, 'mailing card number': 12, 'mast height': 12, 'DNI (National Identity Card Number)': 12, 'bus route': 12, 'health insurance scheme number': 12, 'vessel registration identification number': 12, 'RG (Brazilian ID number)': 12, 'taxi app account number': 12, 'construction project number': 12, 'train seat number': 12, 'social security number reimbursement': 12, 'retirement age': 12, 'flight registration number': 12, 'Russian social security number': 12, 'professional email': 12, \"spouse's national health insurance number\": 12, 'secret society card number': 12, 'research grant number': 12, 'number of animals': 12, 'type of animals': 12, 'sales license number': 12, 'article serial number': 12, 'electricity permit number': 12, 'water permit number': 12, 'taxpayer identification number (CNPJ)': 12, 'public bathroom': 12, 'private bathrooms': 12, 'storage room': 12, 'parking space': 12, 'taxpayer identification number (CPF)': 12, 'German pension insurance number': 12, 'paypal': 12, 'intervention number': 11, 'student_code': 11, 'construction permit request number': 11, 'tender number': 11, 'door number': 11, 'baggage tracking code': 11, 'ABO blood type': 11, 'transaction': 11, 'transaction fee': 11, 'banking team': 11, 'organization_type': 11, 'land_area': 11, 'automobile insurance ID number': 11, 'monthly metro subscription number': 11, 'military service number': 11, 'student university number': 11, 'previous injuries': 11, 'Thai ID number': 11, 'Mexican social security number': 11, 'engineering specialty': 11, 'payment identification number': 11, 'educational level': 11, 'educational_field': 11, 'property transfer number': 11, 'organization type': 11, 'mountain station': 11, 'bank_leitzahl': 11, 'airport name': 11, 'artistic director id': 11, 'facebook page ID': 11, 'music band': 11, 'subscriber number': 11, 'ID number series': 11, 'health care ID': 11, 'beard': 11, 'academic year': 11, 'South Korean passport number': 11, 'Visa credit card number': 11, 'travel reservation number': 11, 'RNSS number': 11, 'immigration agent registration number': 11, 'Health Insurance ID number': 11, 'tax ID number (Italian)': 11, 'ID number (Eritrean)': 11, 'medical record identification number': 11, 'nif': 11, 'student credit card number': 11, 'villa reservation number': 11, 'community center membership number': 11, 'social security number (Iran)': 11, 'email subject': 11, 'bank ID number': 11, 'parents membership number': 11, 'baptism certificate number': 11, 'person count': 11, 'expenses': 11, 'player account number': 11, 'neck circumference': 11, 'article of clothing': 11, 'krankenkasse number': 11, 'form': 11, 'utility company': 11, 'numbers': 11, ' treasure': 11, 'healthcare system ID number': 11, 'social security number_FIN': 11, 'security license number': 11, 'health insurance provider ID number': 11, 'item_list': 11, 'camping license number': 11, 'artwork insurance number': 11, 'game points': 11, 'forest': 11, 'national ID number (Spain)': 11, 'theater passport number': 11, 'CHAS number': 11, 'graduation date': 11, 'civil liability insurance number': 11, 'tissue donor reference number': 11, 'computer serial number': 11, 'capital social': 11, 'real estate transaction protocol number': 11, 'Italian IBA number': 11, 'license class': 11, 'pseudonyme': 11, 'loan reference number': 11, 'treatment authorization number': 11, 'hba1c_level': 11, 'lab result (HbA1c)': 11, 'lab result (cholesterol)': 11, 'lab result (creatinine)': 11, 'lab result (triglycerides)': 11, 'fidal card number': 11, 'destination station': 11, 'agricultural department': 11, 'phone number (national)': 11, 'museum registration number': 11, 'boat insurance number': 11, 'day of week': 11, 'water source': 11, 'subscription': 11, 'special needs shelter number': 11, 'Kazakhstan ID number': 11, 'medication alias': 11, 'port registration number': 11, 'livestock farm number': 11, 'flight confirmation number': 11, 'taxpayer_identification_number': 11, 'religious_institution': 11, 'bank RIB number': 11, 'library item number': 11, 'SAIS number': 11, 'prescriptions': 11, 'affiliation card number': 11, 'animal identification microchip number': 11, 'code fiscal number': 11, 'doctor registration number': 11, 'medication presentation': 11, 'old pin': 11, 'new pin': 11, 'creatinine': 11, 'bank_account_number_with_branch': 11, 'player registration number': 11, \"child's national insurance number\": 11, 'ecg result': 11, 'chest x-ray result': 11, 'permanent address': 11, 'temporary chip card number': 11, 'origin code': 11, 'destination code': 11, 'coffee beans': 11, 'restaurant number': 11, 'construction_permit_number': 11, 'telecommunications company': 11, 'baggage claim number': 11, 'ideal weight': 11, 'social security number (health insurance card)': 11, 'property size': 11, 'immunization registration number': 11, 'life insurance id number': 11, 'mutual_affiliation_number': 11, 'credit number': 11, 'deceased_person': 11, 'estate_value': 11, 'property_value': 11, 'bank_account_balance': 11, 'share_portfolio_number': 11, 'share_portfolio_value': 11, 'ATECO code': 11, 'payment_platform': 11, 'social security code': 11, 'connection number': 11, 'Serbian ID number': 11, 'fingerprints': 11, 'portrait ID number': 11, 'canadian social security number': 11, 'art_title': 11, 'FISI card number': 11, 'citizen identification number (CIN)': 11, 'book registration number': 11, 'entrance card number': 11, 'authors': 11, 'prescription code': 11, 'brand name': 11, 'DNI (Dni de Identidad Nacional)': 11, 'construction size': 11, 'attention': 11, 'proof of residency': 11, 'travel package': 11, 'communication_platform': 11, 'document_storage': 11, 'payment id': 11, \"previous driver's license number\": 10, 'land registry code': 10, 'agricultural bank account number': 10, 'auto insurance card number': 10, 'object registration number': 10, 'criminal commission ticket number': 10, 'deletion key': 10, 'medical_domain': 10, 'milk production capacity': 10, \"father's birth date\": 10, 'bill number': 10, 'ski ID number': 10, 'hospital_record_number': 10, 'user identification number': 10, 'car license plate': 10, 'event date and time': 10, 'power supply number': 10, 'birth name': 10, 'game pass number': 10, 'travel pass number': 10, 'Brazilian social security number': 10, 'camping ground': 10, 'camping place number': 10, 'employment contract': 10, 'beneficiary': 10, 'social_security_number_and_itin': 10, 'driver_license': 10, 'receipt': 10, 'supplementary health insurance number': 10, 'number_of_chickens': 10, 'Spanish health insurance ID number': 10, 'Libercell account number': 10, 'zoo passport number': 10, 'European Health Insurance Card': 10, 'travel ID number': 10, 'ethiopian personal ID number': 10, 'ethiopian passport number': 10, 'music genre': 10, 'movie production': 10, 'average grade (languages vivantes)': 10, 'ancient coins': 10, 'prescription drug': 10, 'vehicle description': 10, 'jet registration number': 10, 'apartment identification number': 10, 'virtual identification': 10, 'social security number (Netherlands)': 10, 'health insurance ID number (Netherlands)': 10, 'wanted person number': 10, 'Antel account number': 10, 'credit card serial number': 10, 'credit card prefix': 10, 'clinical trial registration number': 10, 'personal registration record': 10, 'digital signature registration number': 10, 'creditworthy ID': 10, 'peruvian_id': 10, 'question': 10, 'condominium registration number': 10, 'electronic travel document number': 10, 'national_ID': 10, 'customer_number': 10, 'patient pass number': 10, 'social security number (Hungarian)': 10, 'GPS': 10, 'radio communication': 10, 'AIS transponder': 10, 'last 4 digits of social security number': 10, 'gambling registration number': 10, 'followers': 10, 'number of friends': 10, 'hospital stay': 10, 'food establishment registration number': 10, 'ski instructor registration number': 10, 'catering company': 10, 'event management platform': 10, 'online marketplace': 10, 'cosmetics store': 10, 'department store': 10, 'coffee shop': 10, 'ticket type': 10, 'FIDAL membership number': 10, 'medical form registration number': 10, 'diagnosis date': 10, 'matriculation_number': 10, 'city_of_birth': 10, 'medical specialty registration number': 10, 'biological sample ID number': 10, 'hemoglobin glicosada': 10, 'fiscal ID number': 10, 'CNH (Carteira Nacional de Habilitação)': 10, 'port number': 10, \"fake driver's license number\": 10, 'IT tax ID': 10, 'credit_card_expiry_date': 10, 'social security number (Italy)': 10, 'manufacturer': 10, 'Italian health ID number': 10, 'blood pressure level': 10, 'pulse rate': 10, 'social media page': 10, 'cooling chamber number': 10, 'IBA number': 10, 'person_mass': 10, 'identification cards': 10, 'RFID chip': 10, 'information system': 10, 'record of travel': 10, 'state citizenship number': 10, 'campsite ID': 10, 'medication quantity': 10, 'clinic number': 10, 'passport number (Herr)': 10, 'passport number (Frau)': 10, 'geolocation (Herr)': 10, 'geolocation (Frau)': 10, 'solar panel serial number': 10, 'inverter serial number': 10, 'purchase order': 10, 'sim card number': 10, 'in-game character': 10, 'warehouse ID': 10, 'judicial process number': 10, 'residence': 10, 'wing': 10, 'employment percentage': 10, 'tax classification': 10, 'out-of-pocket cost': 10, 'property reference number': 10, 'online shop': 10, 'corporate tax ID number': 10, 'national insurance number, social security number': 10, 'form number': 10, 'construction_license_number': 10, 'tax_registration_number': 10, 'fiscal document': 10, 'letter grade': 10, 'e-signature platform': 10, 'employment certificate': 10, 'citizenship': 10, 'mailing number': 10, 'container': 10, 'horsepower': 10, 'train compartment number': 10, 'medical visit date': 10, 'profile picture number': 10, 'registry of birth': 10, 'registry number': 10, 'magnetic strip card number': 10, 'medication administration': 10, 'insurance start date': 10, 'patient name': 10, 'Brazilian ID card number': 10, 'Brazilian RG number': 10, 'ureia': 10, 'UK driving license number': 10, 'signal': 10, 'referral number': 10, 'combine harvester serial number': 10, 'final grade': 10, 'park pass number': 10, 'device identification number': 10, 'property description': 10, \"husband's account number\": 10, 'bonus points number': 10, 'plant card number': 10, 'German health insurance number': 10, 'tax ID number last 4 digits': 10, 'NIF company': 10, 'personal health information': 10, 'monthly expenses': 10, 'previous CPF number': 10, 'meter number': 10, 'baptismal_record_number': 10, 'client number': 10, 'NPI number': 10, 'flight booking number': 10, 'school phone number': 10, 'school email': 10, 'health insurance number (ES)': 10, 'national ID number (Gabon)': 10, 'policy': 10, 'monarch': 10, 'Cuban Social Security Number': 10, 'fasting plasma glucose': 10, 'postprandial plasma glucose': 10, 'digital access card number': 10, 'NIP (Número de Identificación Personal)': 9, 'national health identification number': 9, 'resort': 9, 'promotional code': 9, 'medical care': 9, 'death cause': 9, 'hospital bill number': 9, 'illness_onset_date': 9, 'phone number (switchboard)': 9, 'phone number (reservations)': 9, 'game server': 9, 'wine region': 9, 'cvv_code': 9, 'bank identification number': 9, 'transaction document number': 9, 'bank_institution': 9, 'passport number (first)': 9, 'passport number (second)': 9, 'joint bank account number': 9, 'mutual aid agreement number': 9, 'exam grade': 9, 'legal case': 9, 'hospital department': 9, 'treatment start date': 9, 'number_of_children': 9, 'actor_id': 9, 'serial numbers': 9, 'drainage plans': 9, 'health insurance group plan': 9, 'education_major': 9, 'court room': 9, 'donation_number': 9, 'body_part': 9, 'cell number': 9, 'pseudonym': 9, 'construction': 9, 'Qatar ID number': 9, \"recipient's account number\": 9, 'contact_details': 9, 'application date': 9, 'bank agent number': 9, 'healthcare policy number': 9, 'location data': 9, 'case': 9, 'professional ID number': 9, 'zoning permit number': 9, 'residence_certificate': 9, 'character_name': 9, 'OSHA incident number': 9, 'ski chalet': 9, 'camping card number': 9, 'healthcare provider ID': 9, 'site_identification_code': 9, 'assurance_number': 9, 'project_cost': 9, 'dialysis number': 9, 'memory': 9, 'storage': 9, 'mountain range': 9, 'access digital ID': 9, 'citizen registration number': 9, 'GPS device serial number': 9, 'year of death': 9, 'marina slip': 9, 'square footage': 9, 'usb key identifier': 9, 'liquid measure': 9, 'Myanmar ID number': 9, 'tourist id number': 9, 'religious community ID': 9, 'social security identification number': 9, 'room card number': 9, 'purchase': 9, 'seat section': 9, 'row number': 9, 'VIP ticket number': 9, 'maritime captain registration number': 9, 'island': 9, 'metal': 9, 'tool': 9, 'steam ID': 9, 'establishment registration number': 9, 'product model': 9, 'software version': 9, 'italian_tax_number': 9, 'lucky card number': 9, 'consultation order number': 9, 'group insurance policy number': 9, 'chest circumference': 9, 'genetic disorder': 9, 'hospital unit': 9, 'blood transfusion date': 9, 'CT scan date': 9, 'echocardiography date': 9, 'agency': 9, 'state fiscal code': 9, 'doctor id': 9, 'electronic access number': 9, 'electronic registration number': 9, 'bank account numbers': 9, 'BIC number': 9, 'contract': 9, 'credit_card_security_code': 9, 'lab order number': 9, 'Australian ID number': 9, 'medical_treatment': 9, 'consular document': 9, 'CCN': 9, 'personal gaming license number': 9, 'bus pass number': 9, 'biometric ID number': 9, 'Latvian ID number': 9, 'registration': 9, 'lab test ID': 9, 'prescription_details': 9, 'travel account number': 9, 'disability card': 9, 'employee_id': 9, 'international bank account number': 9, 'laptop': 9, 'health information system': 9, 'spouse tax ID number': 9, 'European Union ID number': 9, 'number_of_bulls': 9, \"doctor's identification number\": 9, 'volunteer badge number': 9, 'origin': 9, 'health plan': 9, 'member identification number': 9, 'supplementary insurance number': 9, 'loan_number': 9, 'corporate ID number': 9, 'medical service': 9, 'monthly expense': 9, 'criminal investigation number': 9, 'biometric identifier number': 9, 'adjective': 9, 'health_data': 9, 'insurer': 9, 'promotion year': 9, 'customers': 9, 'financial data': 9, 'non-disclosure clauses': 9, 'responsibility': 9, 'insurance claim number (Rodriguez)': 9, 'insurance claim number (Gonzalez)': 9, 'birthdate (Rodriguez)': 9, 'birthdate (Gonzalez)': 9, 'passport number (Rodriguez)': 9, 'passport number (Gonzalez)': 9, 'race': 9, 'degree number': 9, 'health insurance company ID number': 9, 'demand for connection number': 9, 'street_name': 9, 'pacemaker serial number': 9, 'telefone fixo': 9, 'acquisition reference number': 9, 'doctor ID': 9, 'permit of occupation of land number': 9, 'transportation card': 9, 'frequent flyer membership number': 9, 'medical value': 9, 'long-term disability insurance number': 9, 'Swiss ID number (first part)': 9, 'Swiss ID number (second part)': 9, 'file name': 9, 'treatment number': 9, 'employment letter': 9, 'bank letter': 9, 'encrypted password': 9, 'Spanish Identification Number': 9, 'old health insurance id number': 9, 'new health insurance id number': 9, 'animal identifier': 9, 'residential complex': 9, 'sports court': 9, 'game room': 9, 'passport number (Maria Rossi)': 9, 'passport number (Giovanni Bianchi)': 9, 'Mexican passport number': 9, 'church account number': 9, 'office_number': 9, 'ancient village': 9, 'hospital bill': 9, 'caravan registration number': 9, 'campsite reservation number': 9, 'given names': 9, 'medical appointment date': 9, 'application identifier': 9, 'entry date': 9, 'fishing authorization number': 9, 'insurance status': 9, 'muscle mass percentage': 9, 'bone mass percentage': 9, 'white blood cell count': 9, 'ESR': 9, 'GOT': 9, 'royal flush': 9, 'permanent IP address': 9, 'insurance certificate number': 9, 'credit card details': 9, 'blood sugar': 9, 'concert ticket number': 9, 'mailing address number': 9, 'ship plate number': 9, 'train ticket reference number': 9, 'telecommunications bill number': 8, 'card verification code': 8, 'real estate property identification number': 8, 'bank account number key': 8, 'ancient civilization': 8, 'travel insurance id': 8, 'net worth': 8, 'credit score': 8, 'labor safety authority': 8, 'date_of_baptism': 8, 'registration card': 8, 'maritime ID number': 8, 'passport series': 8, 'biometric identifier ID': 8, 'traveler login ID': 8, 'biometric_data': 8, 'amusement park attraction': 8, 'transportation card number': 8, 'social security number (NIN)': 8, 'game record number': 8, 'notary record number': 8, 'reception hours': 8, 'art installation': 8, 'personal identification number (ES)': 8, 'extracurricular activity': 8, 'credit card authorization code': 8, 'airline ticket number': 8, 'military ID number': 8, 'digital device serial number': 8, 'bag tag number': 8, 'tax identification number (ES)': 8, 'tax identification number (MA)': 8, 'social security number (MX)': 8, 'hospital stay number': 8, 'veterinary card number': 8, 'animal health insurance ID': 8, 'camping_ground': 8, 'camping_ground_number': 8, 'production registration number': 8, 'coverage period': 8, 'health certificate': 8, 'lawyer registration number': 8, 'reservation reference code': 8, 'social security number (French)': 8, 'health insurance ID number (French Social Security)': 8, 'postprandial glucose': 8, 'insulin dosage': 8, 'metformin dosage': 8, 'monthly_fee': 8, 'swift_bank_code': 8, 'thai social security number': 8, 'medical permit number': 8, 'payment': 8, 'parking spot': 8, 'social security number (Russia)': 8, 'health insurance number (Russia)': 8, 'donation protocol number': 8, 'boarding time': 8, 'win receipt number': 8, 'insurance company number': 8, 'document expiration date': 8, 'personal health certificate expiration date': 8, 'residence document expiration date': 8, 'animal number': 8, 'equipment serial number': 8, 'motor serial number': 8, 'clinic_registration_number': 8, 'Thai identification card number': 8, 'accident number': 8, 'painting registration number': 8, 'painting title': 8, 'painting size': 8, 'new account number': 8, 'test ID number': 8, 'general illness ID': 8, 'electronic prescription reference number': 8, 'loan application number': 8, 'national health insurance ID': 8, 'export authorization number': 8, 'ride number': 8, 'geheim code': 8, 'authorization letter': 8, 'profile': 8, 'reimbursement statement number': 8, 'treating physician number': 8, 'social security number of treating doctor': 8, 'chalet number': 8, 'national_health_insurance_number': 8, 'social security number (Taiwan)': 8, 'police station number': 8, 'BMI': 8, 'ECG results': 8, 'travel': 8, 'tour': 8, \"Iranian driver's license number\": 8, 'couple': 8, 'study_field': 8, 'study_field_number': 8, 'field number': 8, 'bonus card number': 8, 'digital identity card number': 8, 'payment_system': 8, 'health points': 8, 'social security number (Lebanon)': 8, 'passport_expiration_date': 8, 'arts_entertainment_organization': 8, 'residence proof': 8, 'tax identification number for organization': 8, 'synagogue admission number': 8, 'community ID number': 8, 'passport number, person': 8, 'in-game account number': 8, 'names': 8, 'INSEE number': 8, 'personal accounting book': 8, 'insurance coverage': 8, 'false identity': 8, 'photo size': 8, 'shipping cost': 8, 'social security number affiliate number': 8, 'turn number': 8, 'health savings account number': 8, 'complementary insurance number': 8, 'social insurance ID': 8, 'descriptive terms': 8, 'beneficiary ID number': 8, 'number_of_followed_accounts': 8, 'residence document': 8, 'league': 8, 'Japanese social security number': 8, 'supplemental insurance id number': 8, 'luggage identification number': 8, 'research paper title': 8, 'number of individuals': 8, 'video game': 8, 'vehicle registration plate': 8, 'home_address': 8, 'business_bank_account_number': 8, 'document of identification': 8, 'certificate of registration number': 8, 'Kuwaiti ID card number': 8, 'family insurance number': 8, 'family seal number': 8, 'medical registration expiration date': 8, 'medical receipt number': 8, 'bank card PIN': 8, 'resident_permit_number': 8, 'property_title_number': 8, 'IBAMA registration number': 8, 'RFC (Mexican tax ID)': 8, 'membership account number': 8, 'notfall ID': 8, 'NSS (Número de Seguridad Social)': 8, 'emergency services number': 8, 'person_data': 8, 'personal email': 8, 'tax invoice number': 8, 'marina card number': 8, 'package': 8, 'parent phone number 1': 8, 'parent phone number 2': 8, 'year range': 8, 'vineyard plot identification number': 8, 'tax identification number (Spain)': 8, 'national identification number (Spain)': 8, 'previous_cpf': 8, 'rg': 8, 'cep': 8, 'bank_branch': 8, 'sus_card': 8, 'child registration number': 8, 'Irish social security number': 8, 'Irish social security card number': 8, 'gaming ID': 8, 'medical equipment serial number': 8, 'construction permit application number': 8, 'number of followers': 8, 'unique registration number': 8, 'health insurance contract': 8, 'end_date': 8, 'payment_card': 8, 'energy consumption (kWh)': 8, 'street_number': 8, 'origin city': 8, 'customs declaration number': 8, 'FFP code': 8, 'credit contract number': 8, 'answer': 8, 'reiseloyalitätsnummer': 8, 'proof of insurance number': 8, 'vip ticket number': 8, 'decoration': 8, 'insurance authorization number': 8, 'ministry registration number': 8, 'embassy ID number': 8, 'email addresses': 8, 'storage device': 8, 'music album': 8, 'permanent resident card': 8, 'mandado de prisão number': 8, 'animal production unit number': 8, 'photograph': 8, 'proof of income': 8, 'hospital insurance number': 8, 'ski lodge': 8, 'national identity number (French)': 8, 'passport number (Romanian)': 8, 'online retailer': 8, 'penalty': 8, 'distinctive mark': 8, 'building permit request number': 8, 'tax identification number for fiscal purposes': 8, 'child ID': 8, 'A1C level': 8, 'marriage year': 8, 'movie project': 8, 'film festival': 8, 'retirement plan': 8, 'travel insurance card number': 8, 'tax identification number of the activity': 8, \"author's number\": 8, 'medication_dosage': 8, 'prescription_number': 8, 'parishioner card number': 8, 'practice identification number': 8, 'date of procedure': 8, 'business registration certificate number': 7, 'card_expiration_date': 7, 'fuel type': 7, 'patient reference number': 7, 'Instagram ID': 7, 'shirt number': 7, 'manufacturing date': 7, 'well identification number': 7, 'game class': 7, 'RUT Código': 7, 'property transfer document number': 7, 'date of travel': 7, 'row': 7, \"doctor's prescription number\": 7, 'magnetic ticket card series number': 7, 'german bank branch code': 7, 'food_court': 7, 'loyalty program card number': 7, 'period': 7, 'temporary ID number': 7, 'Brazilian ID number': 7, 'household bill': 7, 'athlete registration number': 7, 'hearing aid number': 7, 'time slot': 7, 'payment type': 7, 'national identity card number or social security number': 7, 'law enforcement agency': 7, 'Japanese fiscal number': 7, 'demographic data': 7, 'educational records': 7, 'virtual account number': 7, 'European health insurance card number': 7, 'transfer authorization number': 7, 'social security number (personal)': 7, 'library room': 7, 'call number': 7, 'charity_registration_number': 7, 'weapon': 7, 'weapon serial number': 7, 'irrigation system registration number': 7, 'pesticide regulation file number': 7, 'hull material': 7, 'credit card number (partial)': 7, 'address code': 7, 'animal tatoo number': 7, 'fare card number': 7, 'sarcophagus number': 7, 'tomb number': 7, 'cemetery number': 7, 'bank account connection number': 7, 'amusement park ride': 7, 'broadcaster': 7, 'price range': 7, 'medical treatment history': 7, 'medical treatment start date': 7, 'letter of recommendation date': 7, 'loan term': 7, 'security key': 7, 'casino loyalty card number': 7, 'amount (HT)': 7, 'aadhaar number': 7, 'building name': 7, 'brain key': 7, 'project name': 7, 'sidewalk': 7, 'energy utility number': 7, 'hospital name': 7, 'electronic passport number': 7, 'personally identifiable information': 7, 'credits': 7, 'wage': 7, 'passport validation date': 7, 'USB key number': 7, 'authorization amount': 7, 'immigration number': 7, 'ticket automat serial number': 7, 'project manager': 7, 'construction site manager': 7, 'National Health Service Number': 7, 'account number (source)': 7, 'account number (destination)': 7, 'ticket reservation number': 7, 'web page': 7, 'RFID ticket number': 7, 'RFC (Registro Federal de Contribuentes)': 7, 'construction site address': 7, 'passport number (Kuwaiti)': 7, 'Kuwaiti social security number': 7, 'Spanish passport number': 7, 'health insurance ID (mentioned twice)': 7, 'person (mentioned twice)': 7, 'property tax identification number': 7, 'registration_date': 7, 'italian_health_insurance_number': 7, 'trailer registration number': 7, 'library catalog number': 7, 'drug tracking code': 7, 'agricultural company': 7, 'threat': 7, 'law_enforcement': 7, 'health treatment': 7, 'side effect': 7, 'police case number': 7, 'medical dosage frequency': 7, 'medical authorization number': 7, 'ability': 7, 'permit registration number': 7, 'online gaming username': 7, 'online gaming login ID': 7, 'online gaming password': 7, 'monastery registration number': 7, 'medical claim number': 7, 'medical record registration number': 7, 'credit institution identification number': 7, 'Swedish Social Security Number': 7, 'train track': 7, 'direct message': 7, 'prison number': 7, 'bicycle number': 7, 'italian_tax_code': 7, 'academic specialty': 7, 'non-profit organization identification number': 7, 'prize registration number': 7, 'access ID': 7, 'IPD': 7, 'examination date': 7, 'admission time': 7, 'discharge time': 7, 'health_condition': 7, 'schedule': 7, 'security measure': 7, 'donation identification number': 7, 'financial control number': 7, 'blood_glucose': 7, 'artistic style': 7, 'official photographs': 7, 'seal': 7, 'MRI result number': 7, 'ski club': 7, 'TV': 7, 'refrigerator': 7, 'fire incident number': 7, 'insurance id': 7, 'US visa number': 7, 'EU residence permit number': 7, 'electronic receipt number': 7, 'health file number': 7, 'tax ID number for organization': 7, 'fruit': 7, 'cadastral identification number': 7, 'coral piece registration number': 7, 'vehicle license plate': 7, 'temporary identification card number': 7, 'bus platform': 7, 'insurance identification number': 7, 'realm': 7, 'fax_number': 7, 'crane registration number': 7, 'operator ID number': 7, \"Chen Xing's medical record\": 7, \"Lin Yue's medical record\": 7, \"Huang Wei's medical record\": 7, 'meldebescheinigung seriennummer': 7, 'old meldebescheinigung seriennummer': 7, 'ATM card number': 7, 'medical_history': 7, 'recipe': 7, 'phone_code': 7, 'facebook_page': 7, 'doctor registration number - dr. Jensen': 7, 'doctor registration number - dr. Petersen': 7, 'doctor registration number - dr. Nielsen': 7, 'health form number': 7, 'menu': 7, 'proper name': 7, 'insurance payment': 7, 'out-of-pocket payment': 7, 'rental property number': 7, 'anatomical term': 7, 'judge': 7, 'industrial electricity account number': 7, 'hospital_id_number': 7, 'invoice series number': 7, 'work safety ID number': 7, 'price_range': 7, 'immigration control number': 7, 'declaration number': 7, 'number of workers': 7, 'number of technicians': 7, 'arts and entertainment work': 7, 'talent agency': 7, 'brain size': 7, 'ticket identifier': 7, 'Belgian passport number': 7, 'certified copy of birth certificate number': 7, 'passport renewal fee': 7, 'nepalese ID number': 7, 'date of filing': 7, 'South African Social Security Agency number': 7, 'Nationales Gesundheitsversicherungsnummer': 7, 'medical card key': 7, 'RG (Real Geral) number': 7, 'backpack': 7, 'certificates of birth': 7, 'letters of invitation': 7, 'proof of financial support': 7, 'work location': 7, 'supervisor': 7, 'average monthly energy consumption (kWh)': 7, 'television': 7, 'washing machine': 7, 'commercial register number': 6, 'control number prefix': 6, 'medical sample': 6, 'health maintenance organization ID': 6, 'Creatinine': 6, 'shoe size': 6, 'electronic game serial number': 6, 'travel insurance ID': 6, 'proof of insurance, policy number': 6, 'online game server': 6, 'DEA number': 6, 'report presentation grade': 6, 'class participation grade': 6, 'permanent residence card number': 6, 'construction company': 6, 'id_cards': 6, 'tax document': 6, 'chip id': 6, 'health': 6, 'registration number (baptism)': 6, 'registration number (marriage)': 6, 'appointment_date': 6, 'construction area': 6, 'construction deadline': 6, 'facebook security number': 6, 'product lot number': 6, 'cabana number': 6, 'ticket_number': 6, 'Instagram account': 6, 'utilities number': 6, 'electricity supplier number': 6, 'biological sample': 6, 'meeting': 6, 'electronic ID card number': 6, 'virtual character': 6, 'treaty': 6, 'cloth number': 6, 'identity documents': 6, 'ski level': 6, 'LEI number': 6, 'construction_plan': 6, 'driving_license_number': 6, 'electricity_bill': 6, 'número de identificación fiscal': 6, 'número de seguro social': 6, 'número de teléfono móvil': 6, 'número de teléfono de hogar': 6, 'número de registro MDC': 6, 'health maintenance organization id': 6, 'vineyard variety registration number': 6, 'vineyard variety': 6, 'invoice reference number': 6, 'political entity': 6, 'enrollment request number': 6, 'total grade': 6, 'state tax code': 6, 'pass control': 6, 'private jet registration number': 6, 'date of validity': 6, 'id': 6, 'pharmacy number': 6, 'import id': 6, 'rugby jersey number': 6, 'banknote serial number': 6, 'permis de navigation number': 6, 'optional social security number': 6, 'post office bill number': 6, 'map': 6, 'hashtags': 6, 'DOI': 6, 'sports ID': 6, 'unknown phone number': 6, 'health tissue number': 6, 'national id card': 6, 'meldezuständigkeitsnummer': 6, 'gehaltsabrechnungsziffer': 6, 'initial dose': 6, 'incremental dose': 6, 'maximum dose': 6, 'personal_ID': 6, 'securities account number': 6, 'manager': 6, 'mechanic': 6, 'administrator': 6, 'prescription control number': 6, 'mattress_code': 6, 'mattress_brand': 6, 'mattress_manufacturing_date': 6, 'mattress_expiration_date': 6, 'establishment identification number': 6, 'statement of responsibility': 6, 'clearance certificate': 6, 'artwork_series': 6, 'zoo entry card number': 6, 'passport (David Silva)': 6, 'credit card copy': 6, 'mobile device serial number': 6, 'physics grade': 6, 'sporting event': 6, 'ticket counter': 6, 'citizenship card number': 6, 'BahnCard-Gutschein number': 6, 'arrival confirmation number': 6, 'lease agreement number': 6, 'rent': 6, 'visa debit card number': 6, 'hemoglobin A1c percentage': 6, 'certificate of inspection number': 6, 'certificate of fitness number': 6, 'bank approval number': 6, 'National Health Insurance ID number': 6, 'professional title': 6, 'water meter serial number': 6, 'record': 6, 'training schedule': 6, 'portuguese passport number': 6, 'EDP account number': 6, 'Polish health insurance ID number': 6, 'office phone number': 6, 'group name': 6, 'office phone': 6, 'time_range': 6, 'social security number (Poland)': 6, 'fire chief': 6, 'anatomical': 6, 'social security number (Japan)': 6, 'library loan number': 6, 'seguro social number': 6, 'museum artifact identification number': 6, 'publication date': 6, 'cheque amount': 6, 'hospital ward': 6, 'false identification number': 6, 'web address': 6, 'staff ID number': 6, 'insurance value': 6, 'RFID tag number': 6, 'security belt number': 6, 'vaccination certificate': 6, 'brokerage number': 6, 'medical report number': 6, 'exam date': 6, 'delivery notice number': 6, 'BLZ code': 6, 'bedrooms': 6, 'bathrooms': 6, 'garage': 6, 'Personal Identity Number': 6, 'academic records': 6, 'certificates of study': 6, 'exam results': 6, 'profile picture': 6, 'group ID': 6, 'Mastercard number': 6, 'Visa number': 6, 'court decision number': 6, 'visitor registry number': 6, 'legal issue': 6, 'criminal activity': 6, 'insurance payout': 6, 'slot machine': 6, 'subpoena number': 6, 'work address': 6, 'identification numbers': 6, 'product identifier': 6, 'personal belongings': 6, 'cashier': 6, 'library membership card number': 6, 'camping': 6, 'fan club membership number': 6, 'product number - milk products': 6, 'product number - meat products': 6, 'product number - grain products': 6, 'security feature': 6, 'credit card number (last 4 digits)': 6, 'player id': 6, 'RFID chip number': 6, 'company ID number': 6, 'domestic bank account number': 6, 'last 4 digits of credit card number': 6, 'baggage claim code': 6, 'manufacturing license number': 6, 'ship capacity': 6, 'engine power': 6, 'diagnosis number': 6, 'student account number': 6, 'social security contribution number': 6, 'lab_result': 6, 'digit verifier': 6, 'health plate number': 6, 'protection order number': 6, 'cuban_social_security_number': 6, 'anatomical entity': 6, 'resident registration number': 6, 'prepaid card number': 6, 'transaction authentication number (TAN)': 6, 'ski tag number': 6, 'publication_year': 6, 'publication ID': 6, 'DNI (Argentinian ID)': 6, 'work insurance group number': 6, 'new CPF number': 6, 'weekly ticket number': 6, 'camping club membership number': 6, 'reason for divorce': 6, 'community_service_hours': 6, 'two-factor authentication number': 6, 'exit date': 6, 'guest ID': 6, 'animal, elephant': 6, 'animal, giraffe': 6, 'animal, gorilla': 6, 'electricity consumption (kWh)': 6, 'DNI (Croatian ID Number)': 6, 'personal fiscal number': 6, 'social security number for child': 6, 'schengen visa number': 6, 'page number': 6, 'e-commerce website': 6, 'national ID card': 6, 'grocery items': 5, 'tissue research number': 5, 'office ID number': 5, 'letter sequence number': 5, 'Indian ID card number': 5, 'Indian Social Security Number': 5, 'bacteria': 5, 'train ticket': 5, 'century': 5, 'personal health insurance ID': 5, 'education_field': 5, 'academic score': 5, 'education level': 5, 'taxpayer identification number (TIN)': 5, 'receipt copy number': 5, 'camping reservation number': 5, 'imperative phrase': 5, 'full address': 5, 'artist name': 5, 'judicial case number': 5, 'discount coupon': 5, 'speed': 5, 'seat_number': 5, 'possessive_determiner': 5, 'luggage identification code': 5, 'protected electronic file': 5, \"Swaziland driver's license number\": 5, 'Swaziland National ID card number': 5, 'animal species registration number': 5, 'Belgian National Cycling ID Number': 5, 'personalized halbcards number': 5, 'handabdruckkarte number': 5, 'social security number (old)': 5, 'average monthly salary (old)': 5, 'salary increase percentage': 5, 'evaluation date': 5, 'social security number (new)': 5, 'average monthly salary (new)': 5, 'warehouse address': 5, 'biological sample code': 5, 'tablet ID number': 5, 'US CBP Form I-94 number': 5, 'Delta SkyMiles loyalty program membership number': 5, 'expiration date of health insurance card': 5, 'fictional character': 5, 'national park': 5, 'medication brand name': 5, 'card expiration month year': 5, 'physical therapy': 5, 'agricultural expansion': 5, 'agricultural products': 5, 'seed allocation': 5, 'photographs': 5, 'soil analyses': 5, 'permit expiration date': 5, 'passenger control number': 5, 'course code': 5, 'anmeldennummer': 5, 'sales document number': 5, 'pharmacy registration number': 5, 'card': 5, 'health examination': 5, 'research paper identification number': 5, 'institutional login ID': 5, 'music single': 5, 'library record number': 5, 'physical location': 5, 'taxpayer ID number': 5, 'personal mobile number': 5, 'health care provider id': 5, 'biological sample identifier': 5, 'math grade': 5, 'french grade': 5, 'english grade': 5, 'history grade': 5, 'insurance confirmation number': 5, 'bus': 5, 'travel document control number': 5, 'boarding pass QR code': 5, 'employment title': 5, 'blood type identifier': 5, 'object ID': 5, 'meter serial number': 5, 'SWIFT/BIC code': 5, 'customer service phone number': 5, 'national identification card': 5, 'customer code': 5, 'state ID number': 5, 'landline phone': 5, 'restitution': 5, 'legal fees': 5, 'court appearance date': 5, 'personal_data': 5, 'smartphone': 5, 'expiration month and year': 5, 'airport_terminal': 5, 'police record': 5, 'divorce decree': 5, 'bus ticket': 5, 'tour registration number': 5, 'subway pass number': 5, 'maritime ID card number': 5, 'death certificate': 5, 'paper title': 5, 'DNA sample identifier': 5, 'federal registration number': 5, 'personal identification number (Finnish)': 5, 'social security number (Finnish)': 5, 'theater card number': 5, 'shoes': 5, 'cedula': 5, 'city and postal code': 5, 'identity card application number': 5, 'post office address': 5, 'numéro de sécurité sociale': 5, 'numéro de passeport': 5, 'numéro de téléphone portable': 5, 'membership card': 5, 'clothing_color': 5, 'tablet serial number': 5, 'nightclub license number': 5, 'electric charge number': 5, 'competitor number': 5, 'athlete number': 5, 'exam protocol number': 5, 'letter of recommendation serial number': 5, 'letter of recommendation issue date': 5, 'participant number': 5, 'subterranean water information': 5, 'siret number': 5, 'university matriculation number': 5, 'access_id': 5, 'social security number (Sweden)': 5, 'contact phone number 1': 5, 'contact phone number 2': 5, 'Norwegian passport number': 5, 'Order of the Golden Fleece registration number': 5, 'health ID card number': 5, 'digital key number': 5, 'domicile phone': 5, 'hearing impairment identification number': 5, 'title of artwork': 5, 'handprint ID': 5, 'birth registration number': 5, 'family card number': 5, 'hearing aid model': 5, 'clinical laboratory': 5, 'sparkassen-IBAN': 5, 'banking app': 5, 'Greek passport number': 5, 'mental health insurance card number': 5, 'baby': 5, 'point_of_interest': 5, 'hardware serial number': 5, 'Wi-Fi serial number': 5, 'Bluetooth serial number': 5, 'Greek social security number': 5, 'address_component': 5, 'tax form': 5, 'camping spot name': 5, 'health conditions': 5, 'password protection number': 5, 'parking lot number': 5, 'register': 5, 'book order number': 5, 'tourist location': 5, 'dosage frequency': 5, 'current weight': 5, 'course registration number': 5, 'handelsnummer': 5, 'attachment': 5, 'disease code': 5, 'cultivated area': 5, 'average yield': 5, 'EU ID number': 5, 'health insurance id number or social security number': 5, 'passport valid until': 5, 'button': 5, 'payment due date': 5, 'federal ID number': 5, 'chemical substance': 5, 'Qatari health insurance ID': 4, 'address for notification': 4, 'Fijian ID number': 4, 'yellow fever vaccination certificate number': 4, 'bus ticket code': 4, 'complete social security number': 4, 'card vital number': 4, 'free drinks': 4, 'exclusive tickets': 4, 'number of children': 4, 'perfect score': 4, 'research practice grade': 4, 'intermediate exam grade': 4, 'final exam grade': 4, 'subway subscription number': 4, 'bank card key': 4, 'travel dates': 4, 'Star Alliance Gold membership card number': 4, 'fitness center': 4, 'will date': 4, 'will signing date': 4, 'real property': 4, 'campground sector': 4, 'animal_breed': 4, 'time_interval': 4, 'clothing number': 4, 'personal seal': 4, 'account identification number': 4, 'personal name': 4, 'casino ID': 4, 'CPR-number': 4, 'card security number': 4, 'opening hours': 4, 'acquisition number': 4, 'online platform': 4, 'italian social security number': 4, 'animals': 4, 'visa code': 4, 'train line': 4, 'FAO number': 4, 'military ID': 4, 'national tax identification number': 4, 'animal pass number': 4, 'military award': 4, 'private key': 4, 'gaming ticket number': 4, 'data amount': 4, 'time frequency': 4, 'thought': 4, 'real estate transaction document number': 4, 'new family name': 4, 'personal identification number (Nigerian ID)': 4, 'RFID card': 4, 'guided tour ID': 4, 'animal feeding ticket number': 4, 'passport holder': 4, 'parcel registration number': 4, 'land identification number': 4, 'credit card verification number': 4, 'insurance_company': 4, 'ward': 4, 'unique tooth number sequence': 4, 'family_member': 4, 'fake_document': 4, 'start time': 4, 'end time': 4, 'pharmacy license number': 4, 'intolerance': 4, 'police number': 4, 'tissue sample reference number': 4, 'religious term': 4, 'person, doctor': 4, 'SA number': 4, 'game title': 4, 'cattle registration number': 4, 'pig registration number': 4, 'goat registration number': 4, 'volunteer_id': 4, 'visitor record number': 4, 'arts_entertainment_title': 4, 'credit_card_cvc': 4, 'medical_authorization_number': 4, 'authentication number': 4, 'eye_color': 4, 'license_plate': 4, 'cardiac transplant ID number': 4, 'pulmonary transplant ID number': 4, 'SMS verification code': 4, 'research proposal': 4, 'bus line number': 4, 'tax ID number/codice fiscale': 4, 'notification number': 4, 'claim ID': 4, 'time frame': 4, 'data record': 4, 'commercial center': 4, 'help line number': 4, 'manufacturing number': 4, 'arrival station': 4, 'dairy product': 4, 'deposit': 4, 'down payment': 4, 'installment': 4, 'artist ID': 4, 'angioplasmic number': 4, 'disease ID': 4, 'company bank account number': 4, 'cigarette brand': 4, 'pet name': 4, 'medication lot number': 4, 'callsign': 4, 'funk number': 4, 'in-game ID': 4, 'encryption_code': 4, 'orchestra': 4, 'composition': 4, 'HbA1c levels': 4, 'day pass number': 4, 'case file number': 4, 'medication card number': 4, 'family contact number': 4, 'payment_due_date': 4, 'artworks': 4, 'donation registration number': 4, 'check date': 4, 'DIN number': 4, 'pen name': 4, 'lucky number': 4, 'frequent flyer program code': 4, 'incident identification number': 4, 'lifestyle': 4, 'insured person': 4, 'passport id number': 4, 'inhaler': 4, 'e-commerce_website': 4, 'cvc_code': 4, 'delivery_date': 4, 'construction site license number': 4, 'health document number': 4, 'chip card number': 4, 'geolocation_information': 4, 'park entrance ticket number': 4, 'park entrance ticket expiration date': 4, 'photo ticket number': 4, 'dental code': 4, 'treatment registration number': 4, 'food stand': 4, 'data set': 4, 'letter registration number': 4, 'notification of receipt number': 4, \"registration number (in this context, it's the passport number)\": 4, 'barrel_serial_number': 4, 'religious organization': 4, 'payment receipt number': 4, 'encryption_algorithm': 4, 'access_control_id': 4, 'warehouse number': 4, 'electricity consumption number': 4, 'zoological passport number': 4, 'PIIN': 4, 'bank account extract': 4, 'Malaysian Identity Card number': 4, 'bus ticket reference number': 4, 'identity_number': 4, 'passport control number': 4, 'credit_card': 4, 'colonial registration number': 4, 'water service license number': 4, 'suborganization': 4, 'ski run': 4, 'specimen number': 4, 'card issuance date': 4, 'fiscal ID': 4, 'baggage tag code': 4, 'expiry_date': 4, 'landline telephone number': 4, 'mobile telephone number': 4, 'geolocation position': 4, 'electricity connection request number': 4, 'flight seat number': 4, 'traffic violation ticket number': 4, 'gun permit number': 4, 'branch code': 4, 'personal best': 4, 'competition date': 4, 'emergency response ID': 4, 'stand number': 4, 'musical group': 4, 'thoughts': 4, 'healing': 4, 'TV model': 4, 'computer model': 4, 'diploma': 4, 'vehicle_serial_number': 4, 'italian health insurance ID number': 4, 'italian fiscal number': 4, 'Instagram username': 4, 'medical record reference number': 3, 'inspection date': 3, \"Ivan's date of birth\": 3, 'food package order number': 3, 'National Health System Identifier': 3, 'family health insurance ID number': 3, 'work schedule': 3, 'operation date': 3, 'transplantation ID': 3, 'food ticket number': 3, 'special attractions package reference': 3, 'restaurant reservation number': 3, 'casual conversation': 3, 'production line number': 3, 'firefighter ID number': 3, 'professional code': 3, 'application form': 3, 'safe': 3, 'train seat': 3, 'treatment dates': 3, 'invoice numbers': 3, 'amount_paid': 3, 'transaction_authorization_number': 3, 'clothing label number': 3, 'mortgage number': 3, 'car brand': 3, 'old national identity card number': 3, 'employment record number': 3, 'university_id_number': 3, 'connection request number': 3, 'request date': 3, 'sculpture': 3, 'exam grades': 3, 'home key number': 3, 'recolte request number': 3, 'claims adjuster number': 3, 'known traveler number': 3, 'personalized passport number': 3, 'Swiss account number': 3, 'academic record': 3, 'retirement ID number': 3, 'T4 level': 3, 'biological sample ID': 3, 'zoo animal identification number': 3, 'feeding card number': 3, 'institution': 3, 'procedure number': 3, 'health record numbers': 3, 'digital camera': 3, 'fruit_variety': 3, 'diabetes type': 3, 'communal registration number': 3, 'skin color': 3, 'severance package': 3, 'siren number': 3, 'iPhone serial number': 3, 'passport number (Ravi)': 3, 'passport number (Sita)': 3, 'visa exhibition card number': 3, 'day of the week': 3, 'codice identificativo richiesto rinnovo': 3, 'person_info': 3, 'health insurance ID number for spouse': 3, 'disease registry number': 3, 'possessions': 3, 'credit card last 4 digits': 3, 'visa credit card expiration date': 3, 'mastercard expiration date': 3, 'discover card number': 3, 'discover card expiration date': 3, 'major field of study number': 3, 'criminal record extract': 3, 'number of rooms': 3, 'total consumption': 3, 'citizenship number': 3, 'hospital_registration_number': 3, 'information': 3, 'credit account number': 3, 'event code': 3, 'disability_identification_number': 3, 'citizen card number': 3, 'transaction description': 3, 'annual expenses': 3, 'interest rate': 3, 'exit': 3, 'speed limit': 3, 'RG (National Registry Number)': 3, 'CPF (Cadastro de Pessoas Físicas Number)': 3, 'flight details': 3, 'HCPCS code': 3, 'medical card issuance date': 3, 'lab test collection number': 3, 'provisional health insurance number': 3, 'medical visit': 3, 'medical procedure code': 3, 'italian identity card number': 3, 'photo_id': 3, 'personal_identity_number': 3, 'birth_certificate_number': 3, 'residence_registration_number': 3, 'fire station ID number': 3, 'current account number': 3, 'maximum score': 3, 'casino loyalty account number': 3, 'digital form': 3, 'guestbook': 3, 'building_floors': 3, 'identity_card': 3, 'insurance plan': 3, 'capital initial': 3, 'average_salary': 3, 'annual_electricity_production': 3, 'total_revenue': 3, 'UNHCR ID number': 3, 'player identification number': 3, 'prize voucher code': 3, 'ID_number': 3, 'income statement': 3, 'approval date': 3, 'property tax number': 3, 'health_record_number': 3, 'student_registration_number': 3, 'project_name': 3, 'numeric value': 3, 'social-insurance number': 3, 'tax-id': 3, 'naturalization number': 3, 'appointment ID': 3, 'medical record file number': 3, 'vehicle license plate number': 3, 'pet registration number': 3, 'receiver IBAN': 3, 'social security pension number': 3, 'spice': 3, 'date of treatment': 3, 'thesis_presentation_date': 3, 'designer': 3, 'champagne brand': 3, 'theater membership card number': 3, 'Rwandan ID': 3, 'residence card number': 3, 'prescription_code': 3, 'apothecary number': 3, 'member ID number': 3, 'taxi number': 3, 'hospital insurance ID number': 3, 'validity date': 3, 'code word': 3, 'enclosure number': 3, 'residency number': 3, 'name_first': 3, 'name_last': 3, 'place_of_birth': 3, 'workplace': 3, 'employee_number': 3, 'social security number (Juha)': 3, 'social security number (Sanna)': 3, 'team number': 3, 'auto insurance policy number': 3, 'CCAP number': 3, 'street name': 3, 'permit application number': 3, 'tax_returns': 3, 'annual_income': 3, 'animal health record number': 3, 'docking slip': 3, 'Bulgarian passport number': 3, 'fiscal declaration number': 3, 'water access card number': 3, 'electricity access card number': 3, 'gift card': 3, 'theater membership number': 2, 'notary': 2, 'securité sociale': 2, 'electronic signature ID': 2, 'stadium entrance': 2, 'verb': 2, 'concept': 2, 'prescription frequency': 2, 'valuta account number': 2, 'food allergy': 2, 'medical prescription dosage': 2, 'visa_issuance_number': 2, 'silver': 2, 'cloth': 2, 'academic years': 2, 'laboratory practice grade': 2, 'hospital affiliation number': 2, 'internal claim number': 2, 'DNA sample': 2, 'store transaction number': 2, 'utility bills': 2, 'consumption date': 2, 'tax invoices': 2, 'digital certificate': 2, 'vehicle registration certificate': 2, 'police report': 2, 'medical information authorization number': 2, 'kitchen gloves': 2, 'energy': 2, 'musician': 2, 'fake ID card number': 2, 'real ID card number': 2, 'health insurance claim number': 2, 'weight (kilograms)': 2, 'image identifier': 2, 'luxury cabin': 2, 'security camera serial number': 2, 'building location': 2, 'dubai social security number': 2, 'sports club membership number': 2, 'number of members': 2, 'vaccination': 2, 'circus': 2, 'delivery request number': 2, 'space identifier': 2, 'magic pass number': 2, 'medication prescription number': 2, 'post identification number': 2, 'financing request number': 2, 'instagram handle': 2, 'swiss identity card number': 2, 'payment app ID': 2, 'last four digits of credit card number': 2, 'letter of acceptance number': 2, 'implantable cardioverter defibrillator serial number': 2, 'organic farming registration number': 2, 'electricity control number': 2, 'artwork series number': 2, 'meldebescheinigung': 2, 'train_route': 2, 'counter_number': 2, 'person_identification_number': 2, 'mail number': 2, 'hospitalization_number': 2, 'condominium': 2, 'customer loyalty card number': 2, 'examination number': 2, 'volunteer registration number': 2, 'person_description': 2, 'dauerausweiskarte number': 2, 'bay': 2, 'book identification number': 2, 'identification': 2, 'Italian VAT number': 2, 'drink order': 2, 'cinema': 2, 'therapy ID': 2, 'instagram_profile': 2, 'auto repair center': 2, 'online community': 2, 'game account number': 2, 'game play hours': 2, 'game genre': 2, 'bank card security code': 2, 'bank card expiration date': 2, 'checking account': 2, 'heart_rate': 2, 'blood_glucose_level': 2, 'respiratory_pressure': 2, 'age_group': 2, 'payment_history': 2, 'insurance_group_number': 2, 'personal security number': 2, 'student card': 2, 'handicap card': 2, 'fan card number': 2, 'diplomatic passport number': 2, 'financing certificate number': 2, 'marina_security_id': 2, 'data_rate': 2, 'latency': 2, 'ausgabedatum': 2, 'gesundheitsversicherungsnummer': 2, 'sicherheitschip-nummer': 2, 'wifi_network': 2, 'discount_card': 2, 'Marriott Bonvoy loyalty program membership number': 2, 'facial recognition code': 2, 'patient ID number in the clinic': 2, 'theater play': 2, \"US driver's license number\": 2, 'UK National Insurance Number': 2, \"Russian driver's license number\": 2, 'national ID number (Mohamed Ali)': 2, 'national ID number (Fatima Hassan)': 2, 'passport number (Mohamed Ali)': 2, 'passport number (Fatima Hassan)': 2, 'social security number (Mohamed Ali)': 2, 'cellular': 2, 'departure station': 2, 'cheese': 2, 'bread': 2, 'meat': 2, 'farm name': 2, 'food_drink': 2, 'research lab': 2, 'smartphone serial number': 2, 'personalized travel card': 2, 'personalized travel card number': 2, 'travel insurance number 1': 2, 'travel insurance number 2': 2, 'tattoo': 2, 'enrollment_year': 2, 'photo_year': 2, 'law_enforcement_agency': 2, 'train_line': 2, 'medical_facility': 2, 'train_number': 2, 'personal records': 2, 'ski lift ticket ID': 2, 'maximum grade': 2, 'number_of_installments': 2, 'issue year': 2, 'horn numbers': 2, 'microchip IDs': 2, 'tariff code': 2, 'navigation permit': 2, 'car model': 2, 'car chassis number': 2, 'third party': 2, 'blood alcohol level': 2, 'average_grade': 2, 'subway': 2, 'camera brand': 2, 'musical work': 2, 'passport_or_ID_number': 2, 'financial capability confirmation number': 2, 'blood donor registration number': 2, 'property deed': 2, 'letter of motivation': 2, 'medical records number': 2, 'police department': 2, 'plant': 2, 'waste': 2, 'employer certification number': 2, 'maritime mobile service identity': 2, 'call sign': 2, 'marital_status': 2, 'television show': 2, 'passport_holder': 2, 'national_id_holder': 2, 'knee': 2, 'registration request number': 2, 'insurance bill number': 2, 'travel class': 2, 'soil sample reference number': 2, 'release date': 2, 'customer': 2, 'security_code': 2, 'tax identification number (Italian)': 2, 'academic year range': 2, 'document of residence expiration date': 2, 'health insurance ID start date': 2, 'tax payment receipt number': 2, 'lab results': 2, 'association identification number': 2, 'source': 2, 'twitter registration number': 2, 'diploma title': 2, 'bank account information': 2, 'document title': 2, 'educational group': 2, 'personalized travel document number': 2, 'medication container number': 2, 'cage number': 2, 'chronic illness ID number': 2, 'government_building': 2, 'mobile_phone number': 2, 'section': 2, 'Starbucks Rewards card number': 2, 'national_park': 2, 'ID number (Croatian)': 2, 'person or organization': 2, 'bus stop number': 1, 'notary act number': 1, 'family member': 1, 'personnel number': 1, 'music': 1, 'magic_point': 1, 'life_point': 1, 'IP_address': 1, 'credit_contract_number': 1, 'german_tax_number': 1, 'property_tax_number': 1, 'land_registry_number': 1, 'speech': 1, 'weeks': 1, 'pregnancy status': 1, 'amusement park card number': 1, 'PASS ID number': 1, 'Indian ID number': 1, 'auto insurance ID': 1, 'photo album': 1, 'Cuban ID number': 1, 'declaration of civil status number': 1, 'collection': 1, 'online reservation': 1, 'official documents': 1, 'hospital bed number': 1, 'genetic code': 1, 'hunting license number': 1, 'digital_ID': 1, 'digital_ID_expiration_date': 1, 'number_of_cows': 1, 'cycling license number': 1, 'card number (bike rental)': 1, 'card number (boat rental)': 1, 'livestock identification number': 1, 'age (years)': 1, 'weight at birth (kilograms)': 1, 'veterinary insurance number': 1, 'photo id': 1, 'persönlichkeitsnummer': 1, 'passport code': 1, 'laboratory test': 1, 'phone number (threat)': 1, 'phone number (personal)': 1, 'organization (football club)': 1, 'id_card': 1, 'proof_of_residency': 1, 'business_registration_number': 1, 'trade_license_number': 1, 'plan': 1, 'carrier': 1, 'musical album': 1, 'music label': 1, 'social media handle (Instagram)': 1, 'social media handle (Facebook)': 1, 'court process number': 1, 'judgment number': 1, 'married_couple': 1, 'alcohol': 1, 'expression_of_eagerness': 1, 'payment_method': 1, 'waist size': 1, 'travel company card number': 1, 'Jordanian ID card number': 1, 'ticket reference number': 1, 'manufacturer name': 1, 'star alliance gold membership card number': 1, 'registration number for vaccine': 1, 'race registration number': 1, 'insurance document': 1, 'payment_service': 1, 'old personal ID number': 1, 'new personal ID number': 1, 'digital signature encryption algorithm': 1, 'new fingerprints': 1, 'sort code': 1, 'blood donor identification number': 1, 'lab test code': 1, 'user account': 1, 'previous game number': 1, 'travel registration number': 1, 'pii': 1, 'receipts': 1, 'property documents': 1, 'railway ticket number': 1, 'medical test result': 1, 'employee id': 1, 'payment_button': 1, 'ticket_id': 1, 'non-profit identification number': 1, 'group plan number': 1, 'mana points': 1, 'defense': 1, 'geolocation tag': 1, 'health_insurance_card_number': 1, 'claim_number': 1, 'policy_number': 1, 'research_area': 1, 'PERN': 1, 'ID document': 1, 'facebook_profile': 1, 'transaction_id': 1, 'loyalty card': 1, 'credit card last four digits': 1, 'medical prescription numbers': 1, 'gewohnheitswohnungsbescheinigung number': 1, 'hyperlink': 1, 'tax_code': 1, 'claim amount': 1, 'insurance validity': 1, 'postage stamp': 1, 'health care identification number': 1, 'lab test tracking number': 1, 'health_clinic': 1, 'police certificate': 1, 'personal best time': 1, 'medication expiration date': 1, 'mathematics grade': 1, 'chemistry grade': 1, 'diploma_title': 1, 'degree_certificate_number': 1, 'instagram_profile_photo': 1, 'chest measurement': 1, 'biceps measurement': 1, 'abs measurement': 1, 'age range': 1, 'access key number': 1, 'german visa number': 1, 'austrian visa number': 1, 'obtained grade': 1, 'artefact number': 1, 'secondary school registration number': 1, 'blood card number': 1, 'player number': 1, 'fiscal note number': 1, 'travel history': 1, 'Italian fiscal ID': 1, 'illegal substance': 1, 'exhibition number': 1, 'assurance number': 1, 'medical report reference number': 1, 'DHL tracking number': 1, 'tablet': 1, 'IMEI': 1, 'historical fact': 1, 'funpass ID': 1, 'hematopoietic tissue number': 1, \"player's rewards card number\": 1, 'Finnish social security number': 1, 'organization_name': 1, 'contact_information': 1, 'waste_information': 1, 'health_professional_id': 1, 'gaming character': 1, 'virtual kingdom': 1, 'gaming level': 1, 'gaming class': 1, 'pelican': 1, 'electricity bill account number': 1, 'chinese passport number': 1, 'chinese residence permit number': 1, 'estonian id number': 1, 'property tax code': 1, 'left': 1, 'lawyer license number': 1, 'connection date': 1, 'rental start date': 1, 'rental end date': 1, 'rental contract number': 1, 'national health registration number': 1, 'mental health insurance ID number': 1, 'graduation_date': 1, 'magnetic card': 1, 'agricultural land ID number': 1, 'personal income tax identification number': 1, 'company taxpayer identification number': 1, 'scanned document': 1, 'passport issue year': 1, 'rental vehicle number': 1, 'blood test number': 1, 'Brazilian registry document': 1, 'Brazilian identity card': 1, 'medical examination': 1, 'Zambian passport number': 1, 'doctor name': 1, 'number_of_charges': 1, 'electricity bill amount': 1, 'date of expiry': 1, 'graduation year - bachelor': 1, 'graduation year - master': 1, 'scholarship': 1, 'doctoral thesis title': 1, 'security social number': 1, 'Canadian ID number': 1, 'subway card number series': 1, 'execution date': 1, 'social security number (Austria)': 1, 'mummy': 1, 'initials': 1, 'alcoholic beverage': 1, 'zoo identification number': 1, 'construction permit expiration date': 1, 'student insurance number': 1, 'gate number': 1, 'claim id': 1, 'license_number': 1, 'israeli social security number': 1, 'police identification number': 1})\n"
     ]
    }
   ],
   "source": [
    "def safe_eval(row):\n",
    "    # Check if the row is already a list\n",
    "    if isinstance(row, list):\n",
    "        return row # If it's a list, return it directly\n",
    "    try:\n",
    "        # If it's a string, try to decode it as JSON\n",
    "        return json.loads(row.replace(\"'\", \"\\\"\"))\n",
    "    except json.JSONDecodeError as e:\n",
    "        print(f\"Error decoding JSON for row: {row}\")\n",
    "        print(e)\n",
    "        return []\n",
    "\n",
    "all_entities = [ent[2] for row in df['ner'] for ent in safe_eval(row)]\n",
    "entity_counts = Counter(all_entities)\n",
    "print(entity_counts)"
   ]
  },
  {
   "cell_type": "code",
   "execution_count": 32,
   "metadata": {
    "id": "10MrPPHPnMj0"
   },
   "outputs": [],
   "source": [
    "def reconstruct_text(row):\n",
    "    # Check if the 'tokenized_text' is already a list\n",
    "    # If it's a string, then use ast.literal_eval\n",
    "    tokens = row['tokenized_text'] if isinstance(row['tokenized_text'], list) else ast.literal_eval(row['tokenized_text'])\n",
    "\n",
    "    # Check if the 'ner' is already a list\n",
    "    # If it's a string, then use ast.literal_eval\n",
    "    entities = row['ner'] if isinstance(row['ner'], list) else ast.literal_eval(row['ner'])\n",
    "\n",
    "    annotated_text = tokens.copy()\n",
    "\n",
    "    for start, end, entity_type in entities:\n",
    "        annotated_text[start] = f\"{tokens[start]}({entity_type})\"\n",
    "\n",
    "    return ' '.join(annotated_text)\n",
    "\n",
    "df['annotated_text'] = df.apply(reconstruct_text, axis=1)"
   ]
  },
  {
   "cell_type": "code",
   "execution_count": 33,
   "metadata": {
    "id": "ZrKFSC4_nuyT"
   },
   "outputs": [],
   "source": [
    "pd.set_option('display.max_colwidth', None)"
   ]
  },
  {
   "cell_type": "markdown",
   "metadata": {
    "id": "jwYPJskG27hQ"
   },
   "source": [
    "### Visualizando"
   ]
  },
  {
   "cell_type": "code",
   "execution_count": 34,
   "metadata": {
    "colab": {
     "base_uri": "https://localhost:8080/",
     "height": 858
    },
    "id": "SPj6xP5ro9Fn",
    "outputId": "1d803c5e-c711-46db-89d1-374f973c23cb"
   },
   "outputs": [
    {
     "data": {
      "text/plain": [
       "0                                                                                                                                                                                                                                                                                                                                                                                                                                                                                                        Mamadou(person) Diop , a resident of Dakar , is a regular at the ' Club(nightclub) 54 ' nightclub located at 45 Rue de la Liberté . He usually arrives around midnight and often leaves around 3 am . Mamadou ' s ID card number is WS-123456789-1(ID card number) , and he pays for his drinks with a credit card : 1234-5678-9012-3456(credit card number) .\n",
       "66                                                                                                                                                                                                                                                                                                                    A Cônsul Britânico em Brasília , Sir(person) William Percival , recebeu recentemente uma solicitação de passaporte de Sir(person) John Watson , residente em Campinas , São Paulo . O pedido incluiu documentos de identificação , como CPF(CPF) 123 . 456 . 789-01 , CNH(CNH) 0123 . 456 . 789-12 e RG(RG) 11 . 223 . 554-0 . Além disso , apresentou duas fotos recentes , um cartão de crédito para verificação de identidade e endereço de residência atual : Rua(current address) José de Anchieta , 123 , Jardim Oceânico , Campinas , SP .\n",
       "155                                                                                         Il pompiere Saif(person) Al Khaili , di nazionalità Emirati , ha prestato servizio presso la stazione di pompieri di Abu Dhabi per i passati dieci anni . Durante la sua permanenza , sono state registrate le seguenti informazioni : il suo numero di licenza di guida è 123456(driver's license number) , il suo numero di telefono personale è 055 555 55 55 , la sua data di nascita è il 28(date) dicembre 1980 , la sua indirizzo è via(address) Al Karama 31 , Abu Dhabi . Per le sue prestazioni mediche , Saif ha fornito il numero di suo Assicurazione Sanitaria : 111-111-1111(health insurance ID number) . Il suo numero di passaporto è J123456789(passport number) , e il suo numero di tessera sanitaria sociale è 222-222-2222(social security number) .\n",
       "299                                                                                                                                                                                                                                                                                                                                                                                                                                                                                    Aquela queria ser imam em uma mesquita em Belgrado , mas precisava de documentos para se registrar . Ele forneceu seus dados pessoais : nome(name) Ahmed(person) Mustafa , número de passaporte 123456789(passport number) , e número de CPF 111(tax ID number) . 222 . 333-45 . Ele também compartilhou seu número de telefone celular +(cell phone number) 381 61 234 567 89 .\n",
       "336        Le dossier médical de Mme(person) Kabila Nzanzu , née le 1er(birth date) mai 1985 à Kinshasa , contient des informations sensibles sur sa santé . Il y a une prescription pour du lithium 300mg par jour pour traiter une dépression majeure , ainsi qu ' une note de rendez-vous pour une consultation psychiatrique le 15 septembre prochain à l ' hôpital General de Kinshasa . Ses informations de contact sont : adresse résidentielle : rue(address) du Congo , no 12 , Kinshasa ; numéro de téléphone : +(phone number) 243 81 23 54 67 89 ; numéro d ' assurance maladie : 543210-314567-312345(health insurance ID number) ; numéro de sécurité sociale : 23546789-1234-567890(social security number) . Son numéro de passeport est : 123456789-1(passport number) et son numéro de carte bancaire est : 1234(credit card number) 5678 9012 3456 .\n",
       "                                                                                                                                                                                                                                                                                                                                                                                                                                       ...                                                                                                                                                                                                                                                                                                                                                                                                                             \n",
       "2099743                                                                                                                                                               Aos clientes do bar ' O(organization) Velhinho de Ouro ' , localizado na rua de S . João , 123 , em Tallinn , estamos enviando as seguintes informações : nome completo : Jüri(person) Kallas ; número de identificação pessoal : 23456789010123(national identification number) ; número de passaporte : AE021234567(passport number) ; número de telefone : +(phone number) 372 511 222 333 ; número de conta bancária : 1234567890-12345678(bank account number) ; data de nascimento : 03(date of birth) / 02 / 1980 ; e endereço : rua da Estrela , 45 , 11111 , Tallinn . Essas informações serão usadas para realizar operações financeiras e enviar notificação de promoções por e-mail .\n",
       "2099845                                                                                                                                                                                                                                                                                                                                                                                                                      La señora María(person) Rodríguez de la(address) Calle de la Paz 12 , 2ºB , Ginebra , se ha registrado para recibir correo en la oficina de correos de la calle(address) de la Reforma 45 , 3ºA . Su número de identificación de correos es 12345678(mailing address identification number) . Su número de teléfono es +(phone number) 41 79 234 5678 y su número de cuenta bancaria es CH21(bank account number) 0076 0000 1234 5678 90 .\n",
       "2099913                                                                                                                                                                 Juan(person) Pérez , residente de Ginebra , ha presentado una reclamación de daños a su seguro de automóvil . El número de seguro es 1234567890(insurance policy number) . La fecha del accidente fue el 15(date) de junio de 2022 . El vehículo involucrado es un Volkswagen(vehicle) Jetta de matrícula CH-123456(license plate number) . La descripción del daño incluye una ruptura del parabrisas y un derrame de combustible . Juan ha proporcionado su número de seguro social suizo 123456789-2(social security number) para que se procese su reclamación . La reparación se realizará en el taller de ' Autos(organization) Garcia ' ubicado en Chemin(address) du Prés-de-Ville 21 .\n",
       "2100014                       Signora Elisabetta(person) Rossi di Venezia , residente a Milano in via Solferino 17 , ha ricevuto una lettera dall ' ufficio postale di Bologna(location) , con la seguente informazione : il suo codice fiscale , numero di tessera sanitaria e numero di passaporto sono stati utilizzati per un ' iscrizione a un sito web . La lettera indica il sito ' www(website) . example . com ' , la data di iscrizione ' 2023-03-15(date) ' , il nome dell ' utente ' elisabetta(username) . rossi ' e la password ' password123(password) ' . La signora deve contattare il sito per chiedere di rimuovere i suoi dati personali . Le informazioni presenti nella lettera sono : codice fiscale 12345678911(tax identification number) , tessera sanitaria ASL3(health insurance ID) 123456789 , passaporto IDR123456789(passport number) .\n",
       "2100143                                                                                                        A hospedagem ' Riad(organization) Alhambra ' , localizada na Rua do Alquibla , no bairro de Marrakech , Morroco , registrou recentemente um novo hóspede : Mohamed(person) Benhima . O hóspede forneceu as seguintes informações de contato : número de telefone fixo +(phone number) 212 524 55 66 77 e número de celular +(mobile number) 212 612 345 678 . Ao chegar , Mohamed apresentou um Passaporte com número 31251234567890123(passport number) e uma carta de saúde que comprova sua idade de 32(age) anos e sua condição de portador de diabetes(medical condition) mellitus . Durante o check-in , Mohamed forneceu a carta de seguro de viagem , com número 334567890-1(travel insurance number) , para cobrir eventuais despesas médicas .\n",
       "Name: annotated_text, Length: 19523, dtype: object"
      ]
     },
     "execution_count": 34,
     "metadata": {},
     "output_type": "execute_result"
    }
   ],
   "source": [
    "df['annotated_text'].drop_duplicates(keep='first')"
   ]
  },
  {
   "cell_type": "markdown",
   "metadata": {
    "id": "auepeyr-z_ax"
   },
   "source": [
    "### Removendo as linhas que não são com os idiomas pt, en, es"
   ]
  },
  {
   "cell_type": "code",
   "execution_count": 35,
   "metadata": {
    "id": "z3PxttPaujNK"
   },
   "outputs": [],
   "source": [
    "df['texto'] = df['tokenized_text'].apply(lambda x: ' '.join(x))"
   ]
  },
  {
   "cell_type": "code",
   "execution_count": 36,
   "metadata": {
    "colab": {
     "base_uri": "https://localhost:8080/",
     "height": 788
    },
    "id": "qDlW0BXwu-Vc",
    "outputId": "9fa9fa50-94d7-4a45-e622-5440c0000865"
   },
   "outputs": [
    {
     "data": {
      "text/plain": [
       "0                                                                                                                                                                                                                                                                                                                                      Mamadou Diop , a resident of Dakar , is a regular at the ' Club 54 ' nightclub located at 45 Rue de la Liberté . He usually arrives around midnight and often leaves around 3 am . Mamadou ' s ID card number is WS-123456789-1 , and he pays for his drinks with a credit card : 1234-5678-9012-3456 .\n",
       "66                                                                                                                                          A Cônsul Britânico em Brasília , Sir William Percival , recebeu recentemente uma solicitação de passaporte de Sir John Watson , residente em Campinas , São Paulo . O pedido incluiu documentos de identificação , como CPF 123 . 456 . 789-01 , CNH 0123 . 456 . 789-12 e RG 11 . 223 . 554-0 . Além disso , apresentou duas fotos recentes , um cartão de crédito para verificação de identidade e endereço de residência atual : Rua José de Anchieta , 123 , Jardim Oceânico , Campinas , SP .\n",
       "67                                                                                                                                          A Cônsul Britânico em Brasília , Sir William Percival , recebeu recentemente uma solicitação de passaporte de Sir John Watson , residente em Campinas , São Paulo . O pedido incluiu documentos de identificação , como CPF 123 . 456 . 789-01 , CNH 0123 . 456 . 789-12 e RG 11 . 223 . 554-0 . Além disso , apresentou duas fotos recentes , um cartão de crédito para verificação de identidade e endereço de residência atual : Rua José de Anchieta , 123 , Jardim Oceânico , Campinas , SP .\n",
       "77                                                                                                                                          A Cônsul Britânico em Brasília , Sir William Percival , recebeu recentemente uma solicitação de passaporte de Sir John Watson , residente em Campinas , São Paulo . O pedido incluiu documentos de identificação , como CPF 123 . 456 . 789-01 , CNH 0123 . 456 . 789-12 e RG 11 . 223 . 554-0 . Além disso , apresentou duas fotos recentes , um cartão de crédito para verificação de identidade e endereço de residência atual : Rua José de Anchieta , 123 , Jardim Oceânico , Campinas , SP .\n",
       "78                                                                                                                                          A Cônsul Britânico em Brasília , Sir William Percival , recebeu recentemente uma solicitação de passaporte de Sir John Watson , residente em Campinas , São Paulo . O pedido incluiu documentos de identificação , como CPF 123 . 456 . 789-01 , CNH 0123 . 456 . 789-12 e RG 11 . 223 . 554-0 . Além disso , apresentou duas fotos recentes , um cartão de crédito para verificação de identidade e endereço de residência atual : Rua José de Anchieta , 123 , Jardim Oceânico , Campinas , SP .\n",
       "                                                                                                                                                                                                                                                                                                                          ...                                                                                                                                                                                                                                                                                                                 \n",
       "2100183    A hospedagem ' Riad Alhambra ' , localizada na Rua do Alquibla , no bairro de Marrakech , Morroco , registrou recentemente um novo hóspede : Mohamed Benhima . O hóspede forneceu as seguintes informações de contato : número de telefone fixo + 212 524 55 66 77 e número de celular + 212 612 345 678 . Ao chegar , Mohamed apresentou um Passaporte com número 31251234567890123 e uma carta de saúde que comprova sua idade de 32 anos e sua condição de portador de diabetes mellitus . Durante o check-in , Mohamed forneceu a carta de seguro de viagem , com número 334567890-1 , para cobrir eventuais despesas médicas .\n",
       "2100184    A hospedagem ' Riad Alhambra ' , localizada na Rua do Alquibla , no bairro de Marrakech , Morroco , registrou recentemente um novo hóspede : Mohamed Benhima . O hóspede forneceu as seguintes informações de contato : número de telefone fixo + 212 524 55 66 77 e número de celular + 212 612 345 678 . Ao chegar , Mohamed apresentou um Passaporte com número 31251234567890123 e uma carta de saúde que comprova sua idade de 32 anos e sua condição de portador de diabetes mellitus . Durante o check-in , Mohamed forneceu a carta de seguro de viagem , com número 334567890-1 , para cobrir eventuais despesas médicas .\n",
       "2100185    A hospedagem ' Riad Alhambra ' , localizada na Rua do Alquibla , no bairro de Marrakech , Morroco , registrou recentemente um novo hóspede : Mohamed Benhima . O hóspede forneceu as seguintes informações de contato : número de telefone fixo + 212 524 55 66 77 e número de celular + 212 612 345 678 . Ao chegar , Mohamed apresentou um Passaporte com número 31251234567890123 e uma carta de saúde que comprova sua idade de 32 anos e sua condição de portador de diabetes mellitus . Durante o check-in , Mohamed forneceu a carta de seguro de viagem , com número 334567890-1 , para cobrir eventuais despesas médicas .\n",
       "2100186    A hospedagem ' Riad Alhambra ' , localizada na Rua do Alquibla , no bairro de Marrakech , Morroco , registrou recentemente um novo hóspede : Mohamed Benhima . O hóspede forneceu as seguintes informações de contato : número de telefone fixo + 212 524 55 66 77 e número de celular + 212 612 345 678 . Ao chegar , Mohamed apresentou um Passaporte com número 31251234567890123 e uma carta de saúde que comprova sua idade de 32 anos e sua condição de portador de diabetes mellitus . Durante o check-in , Mohamed forneceu a carta de seguro de viagem , com número 334567890-1 , para cobrir eventuais despesas médicas .\n",
       "2100226    A hospedagem ' Riad Alhambra ' , localizada na Rua do Alquibla , no bairro de Marrakech , Morroco , registrou recentemente um novo hóspede : Mohamed Benhima . O hóspede forneceu as seguintes informações de contato : número de telefone fixo + 212 524 55 66 77 e número de celular + 212 612 345 678 . Ao chegar , Mohamed apresentou um Passaporte com número 31251234567890123 e uma carta de saúde que comprova sua idade de 32 anos e sua condição de portador de diabetes mellitus . Durante o check-in , Mohamed forneceu a carta de seguro de viagem , com número 334567890-1 , para cobrir eventuais despesas médicas .\n",
       "Name: texto, Length: 241486, dtype: object"
      ]
     },
     "execution_count": 36,
     "metadata": {},
     "output_type": "execute_result"
    }
   ],
   "source": [
    "df['texto']"
   ]
  },
  {
   "cell_type": "code",
   "execution_count": 37,
   "metadata": {
    "id": "FO_j5Tkru_2b"
   },
   "outputs": [],
   "source": [
    "def detect_language(text):\n",
    "    try:\n",
    "        return detect(text)\n",
    "    except:\n",
    "        return \"unknown\""
   ]
  },
  {
   "cell_type": "code",
   "execution_count": null,
   "metadata": {
    "id": "vNtzvByuvkmx"
   },
   "outputs": [],
   "source": [
    "df['idioma'] = df['texto'].apply(detect_language)"
   ]
  },
  {
   "cell_type": "code",
   "execution_count": null,
   "metadata": {
    "id": "rMs20pmr2jfW"
   },
   "outputs": [],
   "source": [
    "df['idioma'].unique()"
   ]
  },
  {
   "cell_type": "code",
   "execution_count": null,
   "metadata": {
    "id": "vmSoovxA2zw1"
   },
   "outputs": [],
   "source": [
    "df.to_csv(\"/content/drive/MyDrive/gliner-dataset-prep.csv\", index=False)"
   ]
  },
  {
   "cell_type": "code",
   "execution_count": null,
   "metadata": {
    "colab": {
     "base_uri": "https://localhost:8080/",
     "height": 366
    },
    "id": "bMiaKEvT2fwQ",
    "outputId": "e88c92b0-9a31-4328-b819-a85494e15b3a"
   },
   "outputs": [
    {
     "data": {
      "text/html": [
       "<div>\n",
       "<style scoped>\n",
       "    .dataframe tbody tr th:only-of-type {\n",
       "        vertical-align: middle;\n",
       "    }\n",
       "\n",
       "    .dataframe tbody tr th {\n",
       "        vertical-align: top;\n",
       "    }\n",
       "\n",
       "    .dataframe thead th {\n",
       "        text-align: right;\n",
       "    }\n",
       "</style>\n",
       "<table border=\"1\" class=\"dataframe\">\n",
       "  <thead>\n",
       "    <tr style=\"text-align: right;\">\n",
       "      <th></th>\n",
       "      <th>count</th>\n",
       "    </tr>\n",
       "    <tr>\n",
       "      <th>idioma</th>\n",
       "      <th></th>\n",
       "    </tr>\n",
       "  </thead>\n",
       "  <tbody>\n",
       "    <tr>\n",
       "      <th>en</th>\n",
       "      <td>45735</td>\n",
       "    </tr>\n",
       "    <tr>\n",
       "      <th>de</th>\n",
       "      <td>41840</td>\n",
       "    </tr>\n",
       "    <tr>\n",
       "      <th>fr</th>\n",
       "      <td>40882</td>\n",
       "    </tr>\n",
       "    <tr>\n",
       "      <th>pt</th>\n",
       "      <td>40027</td>\n",
       "    </tr>\n",
       "    <tr>\n",
       "      <th>es</th>\n",
       "      <td>38438</td>\n",
       "    </tr>\n",
       "    <tr>\n",
       "      <th>it</th>\n",
       "      <td>34557</td>\n",
       "    </tr>\n",
       "    <tr>\n",
       "      <th>ca</th>\n",
       "      <td>6</td>\n",
       "    </tr>\n",
       "    <tr>\n",
       "      <th>tr</th>\n",
       "      <td>1</td>\n",
       "    </tr>\n",
       "  </tbody>\n",
       "</table>\n",
       "</div><br><label><b>dtype:</b> int64</label>"
      ],
      "text/plain": [
       "idioma\n",
       "en    45735\n",
       "de    41840\n",
       "fr    40882\n",
       "pt    40027\n",
       "es    38438\n",
       "it    34557\n",
       "ca        6\n",
       "tr        1\n",
       "Name: count, dtype: int64"
      ]
     },
     "execution_count": 40,
     "metadata": {},
     "output_type": "execute_result"
    }
   ],
   "source": [
    "df['idioma'].value_counts()"
   ]
  },
  {
   "cell_type": "code",
   "execution_count": null,
   "metadata": {
    "id": "uvdZFT5ZvoCG"
   },
   "outputs": [],
   "source": [
    "filtered_df = df[df['language'].isin(['en', 'es', 'pt'])]"
   ]
  },
  {
   "cell_type": "markdown",
   "metadata": {
    "id": "xrr_GKiV0JFb"
   },
   "source": [
    "### Labels que não fazem sentido no nosso Caso de Uso"
   ]
  },
  {
   "cell_type": "code",
   "execution_count": null,
   "metadata": {
    "id": "03rDWcI60JhM"
   },
   "outputs": [],
   "source": [
    "df = pd.read_csv(\"/content/drive/MyDrive/gliner-dataset-prep.csv\")"
   ]
  },
  {
   "cell_type": "code",
   "execution_count": null,
   "metadata": {
    "colab": {
     "base_uri": "https://localhost:8080/",
     "height": 1000
    },
    "id": "0fQapqpM38tr",
    "outputId": "bd3525f7-119e-4690-daad-e0d7165f72e4"
   },
   "outputs": [
    {
     "data": {
      "application/vnd.google.colaboratory.intrinsic+json": {
       "type": "dataframe",
       "variable_name": "df"
      },
      "text/html": [
       "\n",
       "  <div id=\"df-e20961bc-a0b3-4194-bdab-6184b748d66c\" class=\"colab-df-container\">\n",
       "    <div>\n",
       "<style scoped>\n",
       "    .dataframe tbody tr th:only-of-type {\n",
       "        vertical-align: middle;\n",
       "    }\n",
       "\n",
       "    .dataframe tbody tr th {\n",
       "        vertical-align: top;\n",
       "    }\n",
       "\n",
       "    .dataframe thead th {\n",
       "        text-align: right;\n",
       "    }\n",
       "</style>\n",
       "<table border=\"1\" class=\"dataframe\">\n",
       "  <thead>\n",
       "    <tr style=\"text-align: right;\">\n",
       "      <th></th>\n",
       "      <th>Unnamed: 0</th>\n",
       "      <th>tokenized_text</th>\n",
       "      <th>ner</th>\n",
       "      <th>token</th>\n",
       "      <th>entity_type</th>\n",
       "      <th>annotated_text</th>\n",
       "      <th>texto</th>\n",
       "      <th>idioma</th>\n",
       "    </tr>\n",
       "  </thead>\n",
       "  <tbody>\n",
       "    <tr>\n",
       "      <th>0</th>\n",
       "      <td>0</td>\n",
       "      <td>['Mamadou', 'Diop', ',', 'a', 'resident', 'of', 'Dakar', ',', 'is', 'a', 'regular', 'at', 'the', \"'\", 'Club', '54', \"'\", 'nightclub', 'located', 'at', '45', 'Rue', 'de', 'la', 'Liberté', '.', 'He', 'usually', 'arrives', 'around', 'midnight', 'and', 'often', 'leaves', 'around', '3', 'am', '.', 'Mamadou', \"'\", 's', 'ID', 'card', 'number', 'is', 'WS-123456789-1', ',', 'and', 'he', 'pays', 'for', 'his', 'drinks', 'with', 'a', 'credit', 'card', ':', '1234-5678-9012-3456', '.']</td>\n",
       "      <td>[[0, 1, 'person'], [14, 15, 'nightclub'], [45, 45, 'ID card number'], [58, 58, 'credit card number']]</td>\n",
       "      <td>Mamadou</td>\n",
       "      <td>person</td>\n",
       "      <td>Mamadou(person) Diop , a resident of Dakar , is a regular at the ' Club(nightclub) 54 ' nightclub located at 45 Rue de la Liberté . He usually arrives around midnight and often leaves around 3 am . Mamadou ' s ID card number is WS-123456789-1(ID card number) , and he pays for his drinks with a credit card : 1234-5678-9012-3456(credit card number) .</td>\n",
       "      <td>Mamadou Diop , a resident of Dakar , is a regular at the ' Club 54 ' nightclub located at 45 Rue de la Liberté . He usually arrives around midnight and often leaves around 3 am . Mamadou ' s ID card number is WS-123456789-1 , and he pays for his drinks with a credit card : 1234-5678-9012-3456 .</td>\n",
       "      <td>en</td>\n",
       "    </tr>\n",
       "    <tr>\n",
       "      <th>1</th>\n",
       "      <td>66</td>\n",
       "      <td>['A', 'Cônsul', 'Britânico', 'em', 'Brasília', ',', 'Sir', 'William', 'Percival', ',', 'recebeu', 'recentemente', 'uma', 'solicitação', 'de', 'passaporte', 'de', 'Sir', 'John', 'Watson', ',', 'residente', 'em', 'Campinas', ',', 'São', 'Paulo', '.', 'O', 'pedido', 'incluiu', 'documentos', 'de', 'identificação', ',', 'como', 'CPF', '123', '.', '456', '.', '789-01', ',', 'CNH', '0123', '.', '456', '.', '789-12', 'e', 'RG', '11', '.', '223', '.', '554-0', '.', 'Além', 'disso', ',', 'apresentou', 'duas', 'fotos', 'recentes', ',', 'um', 'cartão', 'de', 'crédito', 'para', 'verificação', 'de', 'identidade', 'e', 'endereço', 'de', 'residência', 'atual', ':', 'Rua', 'José', 'de', 'Anchieta', ',', '123', ',', 'Jardim', 'Oceânico', ',', 'Campinas', ',', 'SP', '.']</td>\n",
       "      <td>[[6, 8, 'person'], [17, 19, 'person'], [36, 41, 'CPF'], [43, 48, 'CNH'], [50, 55, 'RG'], [79, 91, 'address'], [79, 91, 'current address']]</td>\n",
       "      <td>Sir</td>\n",
       "      <td>person</td>\n",
       "      <td>A Cônsul Britânico em Brasília , Sir(person) William Percival , recebeu recentemente uma solicitação de passaporte de Sir(person) John Watson , residente em Campinas , São Paulo . O pedido incluiu documentos de identificação , como CPF(CPF) 123 . 456 . 789-01 , CNH(CNH) 0123 . 456 . 789-12 e RG(RG) 11 . 223 . 554-0 . Além disso , apresentou duas fotos recentes , um cartão de crédito para verificação de identidade e endereço de residência atual : Rua(current address) José de Anchieta , 123 , Jardim Oceânico , Campinas , SP .</td>\n",
       "      <td>A Cônsul Britânico em Brasília , Sir William Percival , recebeu recentemente uma solicitação de passaporte de Sir John Watson , residente em Campinas , São Paulo . O pedido incluiu documentos de identificação , como CPF 123 . 456 . 789-01 , CNH 0123 . 456 . 789-12 e RG 11 . 223 . 554-0 . Além disso , apresentou duas fotos recentes , um cartão de crédito para verificação de identidade e endereço de residência atual : Rua José de Anchieta , 123 , Jardim Oceânico , Campinas , SP .</td>\n",
       "      <td>pt</td>\n",
       "    </tr>\n",
       "    <tr>\n",
       "      <th>2</th>\n",
       "      <td>67</td>\n",
       "      <td>['A', 'Cônsul', 'Britânico', 'em', 'Brasília', ',', 'Sir', 'William', 'Percival', ',', 'recebeu', 'recentemente', 'uma', 'solicitação', 'de', 'passaporte', 'de', 'Sir', 'John', 'Watson', ',', 'residente', 'em', 'Campinas', ',', 'São', 'Paulo', '.', 'O', 'pedido', 'incluiu', 'documentos', 'de', 'identificação', ',', 'como', 'CPF', '123', '.', '456', '.', '789-01', ',', 'CNH', '0123', '.', '456', '.', '789-12', 'e', 'RG', '11', '.', '223', '.', '554-0', '.', 'Além', 'disso', ',', 'apresentou', 'duas', 'fotos', 'recentes', ',', 'um', 'cartão', 'de', 'crédito', 'para', 'verificação', 'de', 'identidade', 'e', 'endereço', 'de', 'residência', 'atual', ':', 'Rua', 'José', 'de', 'Anchieta', ',', '123', ',', 'Jardim', 'Oceânico', ',', 'Campinas', ',', 'SP', '.']</td>\n",
       "      <td>[[6, 8, 'person'], [17, 19, 'person'], [36, 41, 'CPF'], [43, 48, 'CNH'], [50, 55, 'RG'], [79, 91, 'address'], [79, 91, 'current address']]</td>\n",
       "      <td>William</td>\n",
       "      <td>person</td>\n",
       "      <td>A Cônsul Britânico em Brasília , Sir(person) William Percival , recebeu recentemente uma solicitação de passaporte de Sir(person) John Watson , residente em Campinas , São Paulo . O pedido incluiu documentos de identificação , como CPF(CPF) 123 . 456 . 789-01 , CNH(CNH) 0123 . 456 . 789-12 e RG(RG) 11 . 223 . 554-0 . Além disso , apresentou duas fotos recentes , um cartão de crédito para verificação de identidade e endereço de residência atual : Rua(current address) José de Anchieta , 123 , Jardim Oceânico , Campinas , SP .</td>\n",
       "      <td>A Cônsul Britânico em Brasília , Sir William Percival , recebeu recentemente uma solicitação de passaporte de Sir John Watson , residente em Campinas , São Paulo . O pedido incluiu documentos de identificação , como CPF 123 . 456 . 789-01 , CNH 0123 . 456 . 789-12 e RG 11 . 223 . 554-0 . Além disso , apresentou duas fotos recentes , um cartão de crédito para verificação de identidade e endereço de residência atual : Rua José de Anchieta , 123 , Jardim Oceânico , Campinas , SP .</td>\n",
       "      <td>pt</td>\n",
       "    </tr>\n",
       "    <tr>\n",
       "      <th>3</th>\n",
       "      <td>77</td>\n",
       "      <td>['A', 'Cônsul', 'Britânico', 'em', 'Brasília', ',', 'Sir', 'William', 'Percival', ',', 'recebeu', 'recentemente', 'uma', 'solicitação', 'de', 'passaporte', 'de', 'Sir', 'John', 'Watson', ',', 'residente', 'em', 'Campinas', ',', 'São', 'Paulo', '.', 'O', 'pedido', 'incluiu', 'documentos', 'de', 'identificação', ',', 'como', 'CPF', '123', '.', '456', '.', '789-01', ',', 'CNH', '0123', '.', '456', '.', '789-12', 'e', 'RG', '11', '.', '223', '.', '554-0', '.', 'Além', 'disso', ',', 'apresentou', 'duas', 'fotos', 'recentes', ',', 'um', 'cartão', 'de', 'crédito', 'para', 'verificação', 'de', 'identidade', 'e', 'endereço', 'de', 'residência', 'atual', ':', 'Rua', 'José', 'de', 'Anchieta', ',', '123', ',', 'Jardim', 'Oceânico', ',', 'Campinas', ',', 'SP', '.']</td>\n",
       "      <td>[[6, 8, 'person'], [17, 19, 'person'], [36, 41, 'CPF'], [43, 48, 'CNH'], [50, 55, 'RG'], [79, 91, 'address'], [79, 91, 'current address']]</td>\n",
       "      <td>Sir</td>\n",
       "      <td>person</td>\n",
       "      <td>A Cônsul Britânico em Brasília , Sir(person) William Percival , recebeu recentemente uma solicitação de passaporte de Sir(person) John Watson , residente em Campinas , São Paulo . O pedido incluiu documentos de identificação , como CPF(CPF) 123 . 456 . 789-01 , CNH(CNH) 0123 . 456 . 789-12 e RG(RG) 11 . 223 . 554-0 . Além disso , apresentou duas fotos recentes , um cartão de crédito para verificação de identidade e endereço de residência atual : Rua(current address) José de Anchieta , 123 , Jardim Oceânico , Campinas , SP .</td>\n",
       "      <td>A Cônsul Britânico em Brasília , Sir William Percival , recebeu recentemente uma solicitação de passaporte de Sir John Watson , residente em Campinas , São Paulo . O pedido incluiu documentos de identificação , como CPF 123 . 456 . 789-01 , CNH 0123 . 456 . 789-12 e RG 11 . 223 . 554-0 . Além disso , apresentou duas fotos recentes , um cartão de crédito para verificação de identidade e endereço de residência atual : Rua José de Anchieta , 123 , Jardim Oceânico , Campinas , SP .</td>\n",
       "      <td>pt</td>\n",
       "    </tr>\n",
       "    <tr>\n",
       "      <th>4</th>\n",
       "      <td>78</td>\n",
       "      <td>['A', 'Cônsul', 'Britânico', 'em', 'Brasília', ',', 'Sir', 'William', 'Percival', ',', 'recebeu', 'recentemente', 'uma', 'solicitação', 'de', 'passaporte', 'de', 'Sir', 'John', 'Watson', ',', 'residente', 'em', 'Campinas', ',', 'São', 'Paulo', '.', 'O', 'pedido', 'incluiu', 'documentos', 'de', 'identificação', ',', 'como', 'CPF', '123', '.', '456', '.', '789-01', ',', 'CNH', '0123', '.', '456', '.', '789-12', 'e', 'RG', '11', '.', '223', '.', '554-0', '.', 'Além', 'disso', ',', 'apresentou', 'duas', 'fotos', 'recentes', ',', 'um', 'cartão', 'de', 'crédito', 'para', 'verificação', 'de', 'identidade', 'e', 'endereço', 'de', 'residência', 'atual', ':', 'Rua', 'José', 'de', 'Anchieta', ',', '123', ',', 'Jardim', 'Oceânico', ',', 'Campinas', ',', 'SP', '.']</td>\n",
       "      <td>[[6, 8, 'person'], [17, 19, 'person'], [36, 41, 'CPF'], [43, 48, 'CNH'], [50, 55, 'RG'], [79, 91, 'address'], [79, 91, 'current address']]</td>\n",
       "      <td>John</td>\n",
       "      <td>person</td>\n",
       "      <td>A Cônsul Britânico em Brasília , Sir(person) William Percival , recebeu recentemente uma solicitação de passaporte de Sir(person) John Watson , residente em Campinas , São Paulo . O pedido incluiu documentos de identificação , como CPF(CPF) 123 . 456 . 789-01 , CNH(CNH) 0123 . 456 . 789-12 e RG(RG) 11 . 223 . 554-0 . Além disso , apresentou duas fotos recentes , um cartão de crédito para verificação de identidade e endereço de residência atual : Rua(current address) José de Anchieta , 123 , Jardim Oceânico , Campinas , SP .</td>\n",
       "      <td>A Cônsul Britânico em Brasília , Sir William Percival , recebeu recentemente uma solicitação de passaporte de Sir John Watson , residente em Campinas , São Paulo . O pedido incluiu documentos de identificação , como CPF 123 . 456 . 789-01 , CNH 0123 . 456 . 789-12 e RG 11 . 223 . 554-0 . Além disso , apresentou duas fotos recentes , um cartão de crédito para verificação de identidade e endereço de residência atual : Rua José de Anchieta , 123 , Jardim Oceânico , Campinas , SP .</td>\n",
       "      <td>pt</td>\n",
       "    </tr>\n",
       "  </tbody>\n",
       "</table>\n",
       "</div>\n",
       "    <div class=\"colab-df-buttons\">\n",
       "\n",
       "  <div class=\"colab-df-container\">\n",
       "    <button class=\"colab-df-convert\" onclick=\"convertToInteractive('df-e20961bc-a0b3-4194-bdab-6184b748d66c')\"\n",
       "            title=\"Convert this dataframe to an interactive table.\"\n",
       "            style=\"display:none;\">\n",
       "\n",
       "  <svg xmlns=\"http://www.w3.org/2000/svg\" height=\"24px\" viewBox=\"0 -960 960 960\">\n",
       "    <path d=\"M120-120v-720h720v720H120Zm60-500h600v-160H180v160Zm220 220h160v-160H400v160Zm0 220h160v-160H400v160ZM180-400h160v-160H180v160Zm440 0h160v-160H620v160ZM180-180h160v-160H180v160Zm440 0h160v-160H620v160Z\"/>\n",
       "  </svg>\n",
       "    </button>\n",
       "\n",
       "  <style>\n",
       "    .colab-df-container {\n",
       "      display:flex;\n",
       "      gap: 12px;\n",
       "    }\n",
       "\n",
       "    .colab-df-convert {\n",
       "      background-color: #E8F0FE;\n",
       "      border: none;\n",
       "      border-radius: 50%;\n",
       "      cursor: pointer;\n",
       "      display: none;\n",
       "      fill: #1967D2;\n",
       "      height: 32px;\n",
       "      padding: 0 0 0 0;\n",
       "      width: 32px;\n",
       "    }\n",
       "\n",
       "    .colab-df-convert:hover {\n",
       "      background-color: #E2EBFA;\n",
       "      box-shadow: 0px 1px 2px rgba(60, 64, 67, 0.3), 0px 1px 3px 1px rgba(60, 64, 67, 0.15);\n",
       "      fill: #174EA6;\n",
       "    }\n",
       "\n",
       "    .colab-df-buttons div {\n",
       "      margin-bottom: 4px;\n",
       "    }\n",
       "\n",
       "    [theme=dark] .colab-df-convert {\n",
       "      background-color: #3B4455;\n",
       "      fill: #D2E3FC;\n",
       "    }\n",
       "\n",
       "    [theme=dark] .colab-df-convert:hover {\n",
       "      background-color: #434B5C;\n",
       "      box-shadow: 0px 1px 3px 1px rgba(0, 0, 0, 0.15);\n",
       "      filter: drop-shadow(0px 1px 2px rgba(0, 0, 0, 0.3));\n",
       "      fill: #FFFFFF;\n",
       "    }\n",
       "  </style>\n",
       "\n",
       "    <script>\n",
       "      const buttonEl =\n",
       "        document.querySelector('#df-e20961bc-a0b3-4194-bdab-6184b748d66c button.colab-df-convert');\n",
       "      buttonEl.style.display =\n",
       "        google.colab.kernel.accessAllowed ? 'block' : 'none';\n",
       "\n",
       "      async function convertToInteractive(key) {\n",
       "        const element = document.querySelector('#df-e20961bc-a0b3-4194-bdab-6184b748d66c');\n",
       "        const dataTable =\n",
       "          await google.colab.kernel.invokeFunction('convertToInteractive',\n",
       "                                                    [key], {});\n",
       "        if (!dataTable) return;\n",
       "\n",
       "        const docLinkHtml = 'Like what you see? Visit the ' +\n",
       "          '<a target=\"_blank\" href=https://colab.research.google.com/notebooks/data_table.ipynb>data table notebook</a>'\n",
       "          + ' to learn more about interactive tables.';\n",
       "        element.innerHTML = '';\n",
       "        dataTable['output_type'] = 'display_data';\n",
       "        await google.colab.output.renderOutput(dataTable, element);\n",
       "        const docLink = document.createElement('div');\n",
       "        docLink.innerHTML = docLinkHtml;\n",
       "        element.appendChild(docLink);\n",
       "      }\n",
       "    </script>\n",
       "  </div>\n",
       "\n",
       "\n",
       "<div id=\"df-0d20c7ca-71fe-4c55-b16a-0805d9666a4d\">\n",
       "  <button class=\"colab-df-quickchart\" onclick=\"quickchart('df-0d20c7ca-71fe-4c55-b16a-0805d9666a4d')\"\n",
       "            title=\"Suggest charts\"\n",
       "            style=\"display:none;\">\n",
       "\n",
       "<svg xmlns=\"http://www.w3.org/2000/svg\" height=\"24px\"viewBox=\"0 0 24 24\"\n",
       "     width=\"24px\">\n",
       "    <g>\n",
       "        <path d=\"M19 3H5c-1.1 0-2 .9-2 2v14c0 1.1.9 2 2 2h14c1.1 0 2-.9 2-2V5c0-1.1-.9-2-2-2zM9 17H7v-7h2v7zm4 0h-2V7h2v10zm4 0h-2v-4h2v4z\"/>\n",
       "    </g>\n",
       "</svg>\n",
       "  </button>\n",
       "\n",
       "<style>\n",
       "  .colab-df-quickchart {\n",
       "      --bg-color: #E8F0FE;\n",
       "      --fill-color: #1967D2;\n",
       "      --hover-bg-color: #E2EBFA;\n",
       "      --hover-fill-color: #174EA6;\n",
       "      --disabled-fill-color: #AAA;\n",
       "      --disabled-bg-color: #DDD;\n",
       "  }\n",
       "\n",
       "  [theme=dark] .colab-df-quickchart {\n",
       "      --bg-color: #3B4455;\n",
       "      --fill-color: #D2E3FC;\n",
       "      --hover-bg-color: #434B5C;\n",
       "      --hover-fill-color: #FFFFFF;\n",
       "      --disabled-bg-color: #3B4455;\n",
       "      --disabled-fill-color: #666;\n",
       "  }\n",
       "\n",
       "  .colab-df-quickchart {\n",
       "    background-color: var(--bg-color);\n",
       "    border: none;\n",
       "    border-radius: 50%;\n",
       "    cursor: pointer;\n",
       "    display: none;\n",
       "    fill: var(--fill-color);\n",
       "    height: 32px;\n",
       "    padding: 0;\n",
       "    width: 32px;\n",
       "  }\n",
       "\n",
       "  .colab-df-quickchart:hover {\n",
       "    background-color: var(--hover-bg-color);\n",
       "    box-shadow: 0 1px 2px rgba(60, 64, 67, 0.3), 0 1px 3px 1px rgba(60, 64, 67, 0.15);\n",
       "    fill: var(--button-hover-fill-color);\n",
       "  }\n",
       "\n",
       "  .colab-df-quickchart-complete:disabled,\n",
       "  .colab-df-quickchart-complete:disabled:hover {\n",
       "    background-color: var(--disabled-bg-color);\n",
       "    fill: var(--disabled-fill-color);\n",
       "    box-shadow: none;\n",
       "  }\n",
       "\n",
       "  .colab-df-spinner {\n",
       "    border: 2px solid var(--fill-color);\n",
       "    border-color: transparent;\n",
       "    border-bottom-color: var(--fill-color);\n",
       "    animation:\n",
       "      spin 1s steps(1) infinite;\n",
       "  }\n",
       "\n",
       "  @keyframes spin {\n",
       "    0% {\n",
       "      border-color: transparent;\n",
       "      border-bottom-color: var(--fill-color);\n",
       "      border-left-color: var(--fill-color);\n",
       "    }\n",
       "    20% {\n",
       "      border-color: transparent;\n",
       "      border-left-color: var(--fill-color);\n",
       "      border-top-color: var(--fill-color);\n",
       "    }\n",
       "    30% {\n",
       "      border-color: transparent;\n",
       "      border-left-color: var(--fill-color);\n",
       "      border-top-color: var(--fill-color);\n",
       "      border-right-color: var(--fill-color);\n",
       "    }\n",
       "    40% {\n",
       "      border-color: transparent;\n",
       "      border-right-color: var(--fill-color);\n",
       "      border-top-color: var(--fill-color);\n",
       "    }\n",
       "    60% {\n",
       "      border-color: transparent;\n",
       "      border-right-color: var(--fill-color);\n",
       "    }\n",
       "    80% {\n",
       "      border-color: transparent;\n",
       "      border-right-color: var(--fill-color);\n",
       "      border-bottom-color: var(--fill-color);\n",
       "    }\n",
       "    90% {\n",
       "      border-color: transparent;\n",
       "      border-bottom-color: var(--fill-color);\n",
       "    }\n",
       "  }\n",
       "</style>\n",
       "\n",
       "  <script>\n",
       "    async function quickchart(key) {\n",
       "      const quickchartButtonEl =\n",
       "        document.querySelector('#' + key + ' button');\n",
       "      quickchartButtonEl.disabled = true;  // To prevent multiple clicks.\n",
       "      quickchartButtonEl.classList.add('colab-df-spinner');\n",
       "      try {\n",
       "        const charts = await google.colab.kernel.invokeFunction(\n",
       "            'suggestCharts', [key], {});\n",
       "      } catch (error) {\n",
       "        console.error('Error during call to suggestCharts:', error);\n",
       "      }\n",
       "      quickchartButtonEl.classList.remove('colab-df-spinner');\n",
       "      quickchartButtonEl.classList.add('colab-df-quickchart-complete');\n",
       "    }\n",
       "    (() => {\n",
       "      let quickchartButtonEl =\n",
       "        document.querySelector('#df-0d20c7ca-71fe-4c55-b16a-0805d9666a4d button');\n",
       "      quickchartButtonEl.style.display =\n",
       "        google.colab.kernel.accessAllowed ? 'block' : 'none';\n",
       "    })();\n",
       "  </script>\n",
       "</div>\n",
       "\n",
       "    </div>\n",
       "  </div>\n"
      ],
      "text/plain": [
       "   Unnamed: 0  \\\n",
       "0           0   \n",
       "1          66   \n",
       "2          67   \n",
       "3          77   \n",
       "4          78   \n",
       "\n",
       "                                                                                                                                                                                                                                                                                                                                                                                                                                                                                                                                                                                                                                                                                                                                                                               tokenized_text  \\\n",
       "0                                                                                                                                                                                                                                                                                                ['Mamadou', 'Diop', ',', 'a', 'resident', 'of', 'Dakar', ',', 'is', 'a', 'regular', 'at', 'the', \"'\", 'Club', '54', \"'\", 'nightclub', 'located', 'at', '45', 'Rue', 'de', 'la', 'Liberté', '.', 'He', 'usually', 'arrives', 'around', 'midnight', 'and', 'often', 'leaves', 'around', '3', 'am', '.', 'Mamadou', \"'\", 's', 'ID', 'card', 'number', 'is', 'WS-123456789-1', ',', 'and', 'he', 'pays', 'for', 'his', 'drinks', 'with', 'a', 'credit', 'card', ':', '1234-5678-9012-3456', '.']   \n",
       "1  ['A', 'Cônsul', 'Britânico', 'em', 'Brasília', ',', 'Sir', 'William', 'Percival', ',', 'recebeu', 'recentemente', 'uma', 'solicitação', 'de', 'passaporte', 'de', 'Sir', 'John', 'Watson', ',', 'residente', 'em', 'Campinas', ',', 'São', 'Paulo', '.', 'O', 'pedido', 'incluiu', 'documentos', 'de', 'identificação', ',', 'como', 'CPF', '123', '.', '456', '.', '789-01', ',', 'CNH', '0123', '.', '456', '.', '789-12', 'e', 'RG', '11', '.', '223', '.', '554-0', '.', 'Além', 'disso', ',', 'apresentou', 'duas', 'fotos', 'recentes', ',', 'um', 'cartão', 'de', 'crédito', 'para', 'verificação', 'de', 'identidade', 'e', 'endereço', 'de', 'residência', 'atual', ':', 'Rua', 'José', 'de', 'Anchieta', ',', '123', ',', 'Jardim', 'Oceânico', ',', 'Campinas', ',', 'SP', '.']   \n",
       "2  ['A', 'Cônsul', 'Britânico', 'em', 'Brasília', ',', 'Sir', 'William', 'Percival', ',', 'recebeu', 'recentemente', 'uma', 'solicitação', 'de', 'passaporte', 'de', 'Sir', 'John', 'Watson', ',', 'residente', 'em', 'Campinas', ',', 'São', 'Paulo', '.', 'O', 'pedido', 'incluiu', 'documentos', 'de', 'identificação', ',', 'como', 'CPF', '123', '.', '456', '.', '789-01', ',', 'CNH', '0123', '.', '456', '.', '789-12', 'e', 'RG', '11', '.', '223', '.', '554-0', '.', 'Além', 'disso', ',', 'apresentou', 'duas', 'fotos', 'recentes', ',', 'um', 'cartão', 'de', 'crédito', 'para', 'verificação', 'de', 'identidade', 'e', 'endereço', 'de', 'residência', 'atual', ':', 'Rua', 'José', 'de', 'Anchieta', ',', '123', ',', 'Jardim', 'Oceânico', ',', 'Campinas', ',', 'SP', '.']   \n",
       "3  ['A', 'Cônsul', 'Britânico', 'em', 'Brasília', ',', 'Sir', 'William', 'Percival', ',', 'recebeu', 'recentemente', 'uma', 'solicitação', 'de', 'passaporte', 'de', 'Sir', 'John', 'Watson', ',', 'residente', 'em', 'Campinas', ',', 'São', 'Paulo', '.', 'O', 'pedido', 'incluiu', 'documentos', 'de', 'identificação', ',', 'como', 'CPF', '123', '.', '456', '.', '789-01', ',', 'CNH', '0123', '.', '456', '.', '789-12', 'e', 'RG', '11', '.', '223', '.', '554-0', '.', 'Além', 'disso', ',', 'apresentou', 'duas', 'fotos', 'recentes', ',', 'um', 'cartão', 'de', 'crédito', 'para', 'verificação', 'de', 'identidade', 'e', 'endereço', 'de', 'residência', 'atual', ':', 'Rua', 'José', 'de', 'Anchieta', ',', '123', ',', 'Jardim', 'Oceânico', ',', 'Campinas', ',', 'SP', '.']   \n",
       "4  ['A', 'Cônsul', 'Britânico', 'em', 'Brasília', ',', 'Sir', 'William', 'Percival', ',', 'recebeu', 'recentemente', 'uma', 'solicitação', 'de', 'passaporte', 'de', 'Sir', 'John', 'Watson', ',', 'residente', 'em', 'Campinas', ',', 'São', 'Paulo', '.', 'O', 'pedido', 'incluiu', 'documentos', 'de', 'identificação', ',', 'como', 'CPF', '123', '.', '456', '.', '789-01', ',', 'CNH', '0123', '.', '456', '.', '789-12', 'e', 'RG', '11', '.', '223', '.', '554-0', '.', 'Além', 'disso', ',', 'apresentou', 'duas', 'fotos', 'recentes', ',', 'um', 'cartão', 'de', 'crédito', 'para', 'verificação', 'de', 'identidade', 'e', 'endereço', 'de', 'residência', 'atual', ':', 'Rua', 'José', 'de', 'Anchieta', ',', '123', ',', 'Jardim', 'Oceânico', ',', 'Campinas', ',', 'SP', '.']   \n",
       "\n",
       "                                                                                                                                          ner  \\\n",
       "0                                       [[0, 1, 'person'], [14, 15, 'nightclub'], [45, 45, 'ID card number'], [58, 58, 'credit card number']]   \n",
       "1  [[6, 8, 'person'], [17, 19, 'person'], [36, 41, 'CPF'], [43, 48, 'CNH'], [50, 55, 'RG'], [79, 91, 'address'], [79, 91, 'current address']]   \n",
       "2  [[6, 8, 'person'], [17, 19, 'person'], [36, 41, 'CPF'], [43, 48, 'CNH'], [50, 55, 'RG'], [79, 91, 'address'], [79, 91, 'current address']]   \n",
       "3  [[6, 8, 'person'], [17, 19, 'person'], [36, 41, 'CPF'], [43, 48, 'CNH'], [50, 55, 'RG'], [79, 91, 'address'], [79, 91, 'current address']]   \n",
       "4  [[6, 8, 'person'], [17, 19, 'person'], [36, 41, 'CPF'], [43, 48, 'CNH'], [50, 55, 'RG'], [79, 91, 'address'], [79, 91, 'current address']]   \n",
       "\n",
       "     token entity_type  \\\n",
       "0  Mamadou      person   \n",
       "1      Sir      person   \n",
       "2  William      person   \n",
       "3      Sir      person   \n",
       "4     John      person   \n",
       "\n",
       "                                                                                                                                                                                                                                                                                                                                                                                                                                                                                                                                      annotated_text  \\\n",
       "0                                                                                                                                                                                     Mamadou(person) Diop , a resident of Dakar , is a regular at the ' Club(nightclub) 54 ' nightclub located at 45 Rue de la Liberté . He usually arrives around midnight and often leaves around 3 am . Mamadou ' s ID card number is WS-123456789-1(ID card number) , and he pays for his drinks with a credit card : 1234-5678-9012-3456(credit card number) .   \n",
       "1  A Cônsul Britânico em Brasília , Sir(person) William Percival , recebeu recentemente uma solicitação de passaporte de Sir(person) John Watson , residente em Campinas , São Paulo . O pedido incluiu documentos de identificação , como CPF(CPF) 123 . 456 . 789-01 , CNH(CNH) 0123 . 456 . 789-12 e RG(RG) 11 . 223 . 554-0 . Além disso , apresentou duas fotos recentes , um cartão de crédito para verificação de identidade e endereço de residência atual : Rua(current address) José de Anchieta , 123 , Jardim Oceânico , Campinas , SP .   \n",
       "2  A Cônsul Britânico em Brasília , Sir(person) William Percival , recebeu recentemente uma solicitação de passaporte de Sir(person) John Watson , residente em Campinas , São Paulo . O pedido incluiu documentos de identificação , como CPF(CPF) 123 . 456 . 789-01 , CNH(CNH) 0123 . 456 . 789-12 e RG(RG) 11 . 223 . 554-0 . Além disso , apresentou duas fotos recentes , um cartão de crédito para verificação de identidade e endereço de residência atual : Rua(current address) José de Anchieta , 123 , Jardim Oceânico , Campinas , SP .   \n",
       "3  A Cônsul Britânico em Brasília , Sir(person) William Percival , recebeu recentemente uma solicitação de passaporte de Sir(person) John Watson , residente em Campinas , São Paulo . O pedido incluiu documentos de identificação , como CPF(CPF) 123 . 456 . 789-01 , CNH(CNH) 0123 . 456 . 789-12 e RG(RG) 11 . 223 . 554-0 . Além disso , apresentou duas fotos recentes , um cartão de crédito para verificação de identidade e endereço de residência atual : Rua(current address) José de Anchieta , 123 , Jardim Oceânico , Campinas , SP .   \n",
       "4  A Cônsul Britânico em Brasília , Sir(person) William Percival , recebeu recentemente uma solicitação de passaporte de Sir(person) John Watson , residente em Campinas , São Paulo . O pedido incluiu documentos de identificação , como CPF(CPF) 123 . 456 . 789-01 , CNH(CNH) 0123 . 456 . 789-12 e RG(RG) 11 . 223 . 554-0 . Além disso , apresentou duas fotos recentes , um cartão de crédito para verificação de identidade e endereço de residência atual : Rua(current address) José de Anchieta , 123 , Jardim Oceânico , Campinas , SP .   \n",
       "\n",
       "                                                                                                                                                                                                                                                                                                                                                                                                                                                                                                texto  \\\n",
       "0                                                                                                                                                                                             Mamadou Diop , a resident of Dakar , is a regular at the ' Club 54 ' nightclub located at 45 Rue de la Liberté . He usually arrives around midnight and often leaves around 3 am . Mamadou ' s ID card number is WS-123456789-1 , and he pays for his drinks with a credit card : 1234-5678-9012-3456 .   \n",
       "1  A Cônsul Britânico em Brasília , Sir William Percival , recebeu recentemente uma solicitação de passaporte de Sir John Watson , residente em Campinas , São Paulo . O pedido incluiu documentos de identificação , como CPF 123 . 456 . 789-01 , CNH 0123 . 456 . 789-12 e RG 11 . 223 . 554-0 . Além disso , apresentou duas fotos recentes , um cartão de crédito para verificação de identidade e endereço de residência atual : Rua José de Anchieta , 123 , Jardim Oceânico , Campinas , SP .   \n",
       "2  A Cônsul Britânico em Brasília , Sir William Percival , recebeu recentemente uma solicitação de passaporte de Sir John Watson , residente em Campinas , São Paulo . O pedido incluiu documentos de identificação , como CPF 123 . 456 . 789-01 , CNH 0123 . 456 . 789-12 e RG 11 . 223 . 554-0 . Além disso , apresentou duas fotos recentes , um cartão de crédito para verificação de identidade e endereço de residência atual : Rua José de Anchieta , 123 , Jardim Oceânico , Campinas , SP .   \n",
       "3  A Cônsul Britânico em Brasília , Sir William Percival , recebeu recentemente uma solicitação de passaporte de Sir John Watson , residente em Campinas , São Paulo . O pedido incluiu documentos de identificação , como CPF 123 . 456 . 789-01 , CNH 0123 . 456 . 789-12 e RG 11 . 223 . 554-0 . Além disso , apresentou duas fotos recentes , um cartão de crédito para verificação de identidade e endereço de residência atual : Rua José de Anchieta , 123 , Jardim Oceânico , Campinas , SP .   \n",
       "4  A Cônsul Britânico em Brasília , Sir William Percival , recebeu recentemente uma solicitação de passaporte de Sir John Watson , residente em Campinas , São Paulo . O pedido incluiu documentos de identificação , como CPF 123 . 456 . 789-01 , CNH 0123 . 456 . 789-12 e RG 11 . 223 . 554-0 . Além disso , apresentou duas fotos recentes , um cartão de crédito para verificação de identidade e endereço de residência atual : Rua José de Anchieta , 123 , Jardim Oceânico , Campinas , SP .   \n",
       "\n",
       "  idioma  \n",
       "0     en  \n",
       "1     pt  \n",
       "2     pt  \n",
       "3     pt  \n",
       "4     pt  "
      ]
     },
     "execution_count": 50,
     "metadata": {},
     "output_type": "execute_result"
    }
   ],
   "source": [
    "df.head()"
   ]
  },
  {
   "cell_type": "code",
   "execution_count": null,
   "metadata": {
    "id": "dZRaLpWl39kz"
   },
   "outputs": [],
   "source": [
    "df = df[df['idioma'].isin(['en', 'es', 'pt'])]"
   ]
  },
  {
   "cell_type": "code",
   "execution_count": null,
   "metadata": {
    "id": "iAim0RPv5WbX"
   },
   "outputs": [],
   "source": [
    "df\n",
    "pd.reset_option('display.max_colwidth')"
   ]
  },
  {
   "cell_type": "code",
   "execution_count": null,
   "metadata": {
    "colab": {
     "base_uri": "https://localhost:8080/",
     "height": 310
    },
    "id": "X-Ff1Q5y5XI5",
    "outputId": "b93003f1-dc21-46c3-f441-e93273b9a0aa"
   },
   "outputs": [
    {
     "data": {
      "application/vnd.google.colaboratory.intrinsic+json": {
       "type": "dataframe",
       "variable_name": "df"
      },
      "text/html": [
       "\n",
       "  <div id=\"df-7a06f437-1757-4918-9736-b4a8c0c270f0\" class=\"colab-df-container\">\n",
       "    <div>\n",
       "<style scoped>\n",
       "    .dataframe tbody tr th:only-of-type {\n",
       "        vertical-align: middle;\n",
       "    }\n",
       "\n",
       "    .dataframe tbody tr th {\n",
       "        vertical-align: top;\n",
       "    }\n",
       "\n",
       "    .dataframe thead th {\n",
       "        text-align: right;\n",
       "    }\n",
       "</style>\n",
       "<table border=\"1\" class=\"dataframe\">\n",
       "  <thead>\n",
       "    <tr style=\"text-align: right;\">\n",
       "      <th></th>\n",
       "      <th>Unnamed: 0</th>\n",
       "      <th>tokenized_text</th>\n",
       "      <th>ner</th>\n",
       "      <th>token</th>\n",
       "      <th>entity_type</th>\n",
       "      <th>annotated_text</th>\n",
       "      <th>texto</th>\n",
       "      <th>idioma</th>\n",
       "    </tr>\n",
       "  </thead>\n",
       "  <tbody>\n",
       "    <tr>\n",
       "      <th>0</th>\n",
       "      <td>0</td>\n",
       "      <td>['Mamadou', 'Diop', ',', 'a', 'resident', 'of'...</td>\n",
       "      <td>[[0, 1, 'person'], [14, 15, 'nightclub'], [45,...</td>\n",
       "      <td>Mamadou</td>\n",
       "      <td>person</td>\n",
       "      <td>Mamadou(person) Diop , a resident of Dakar , i...</td>\n",
       "      <td>Mamadou Diop , a resident of Dakar , is a regu...</td>\n",
       "      <td>en</td>\n",
       "    </tr>\n",
       "    <tr>\n",
       "      <th>1</th>\n",
       "      <td>66</td>\n",
       "      <td>['A', 'Cônsul', 'Britânico', 'em', 'Brasília',...</td>\n",
       "      <td>[[6, 8, 'person'], [17, 19, 'person'], [36, 41...</td>\n",
       "      <td>Sir</td>\n",
       "      <td>person</td>\n",
       "      <td>A Cônsul Britânico em Brasília , Sir(person) W...</td>\n",
       "      <td>A Cônsul Britânico em Brasília , Sir William P...</td>\n",
       "      <td>pt</td>\n",
       "    </tr>\n",
       "    <tr>\n",
       "      <th>2</th>\n",
       "      <td>67</td>\n",
       "      <td>['A', 'Cônsul', 'Britânico', 'em', 'Brasília',...</td>\n",
       "      <td>[[6, 8, 'person'], [17, 19, 'person'], [36, 41...</td>\n",
       "      <td>William</td>\n",
       "      <td>person</td>\n",
       "      <td>A Cônsul Britânico em Brasília , Sir(person) W...</td>\n",
       "      <td>A Cônsul Britânico em Brasília , Sir William P...</td>\n",
       "      <td>pt</td>\n",
       "    </tr>\n",
       "    <tr>\n",
       "      <th>3</th>\n",
       "      <td>77</td>\n",
       "      <td>['A', 'Cônsul', 'Britânico', 'em', 'Brasília',...</td>\n",
       "      <td>[[6, 8, 'person'], [17, 19, 'person'], [36, 41...</td>\n",
       "      <td>Sir</td>\n",
       "      <td>person</td>\n",
       "      <td>A Cônsul Britânico em Brasília , Sir(person) W...</td>\n",
       "      <td>A Cônsul Britânico em Brasília , Sir William P...</td>\n",
       "      <td>pt</td>\n",
       "    </tr>\n",
       "    <tr>\n",
       "      <th>4</th>\n",
       "      <td>78</td>\n",
       "      <td>['A', 'Cônsul', 'Britânico', 'em', 'Brasília',...</td>\n",
       "      <td>[[6, 8, 'person'], [17, 19, 'person'], [36, 41...</td>\n",
       "      <td>John</td>\n",
       "      <td>person</td>\n",
       "      <td>A Cônsul Britânico em Brasília , Sir(person) W...</td>\n",
       "      <td>A Cônsul Britânico em Brasília , Sir William P...</td>\n",
       "      <td>pt</td>\n",
       "    </tr>\n",
       "  </tbody>\n",
       "</table>\n",
       "</div>\n",
       "    <div class=\"colab-df-buttons\">\n",
       "\n",
       "  <div class=\"colab-df-container\">\n",
       "    <button class=\"colab-df-convert\" onclick=\"convertToInteractive('df-7a06f437-1757-4918-9736-b4a8c0c270f0')\"\n",
       "            title=\"Convert this dataframe to an interactive table.\"\n",
       "            style=\"display:none;\">\n",
       "\n",
       "  <svg xmlns=\"http://www.w3.org/2000/svg\" height=\"24px\" viewBox=\"0 -960 960 960\">\n",
       "    <path d=\"M120-120v-720h720v720H120Zm60-500h600v-160H180v160Zm220 220h160v-160H400v160Zm0 220h160v-160H400v160ZM180-400h160v-160H180v160Zm440 0h160v-160H620v160ZM180-180h160v-160H180v160Zm440 0h160v-160H620v160Z\"/>\n",
       "  </svg>\n",
       "    </button>\n",
       "\n",
       "  <style>\n",
       "    .colab-df-container {\n",
       "      display:flex;\n",
       "      gap: 12px;\n",
       "    }\n",
       "\n",
       "    .colab-df-convert {\n",
       "      background-color: #E8F0FE;\n",
       "      border: none;\n",
       "      border-radius: 50%;\n",
       "      cursor: pointer;\n",
       "      display: none;\n",
       "      fill: #1967D2;\n",
       "      height: 32px;\n",
       "      padding: 0 0 0 0;\n",
       "      width: 32px;\n",
       "    }\n",
       "\n",
       "    .colab-df-convert:hover {\n",
       "      background-color: #E2EBFA;\n",
       "      box-shadow: 0px 1px 2px rgba(60, 64, 67, 0.3), 0px 1px 3px 1px rgba(60, 64, 67, 0.15);\n",
       "      fill: #174EA6;\n",
       "    }\n",
       "\n",
       "    .colab-df-buttons div {\n",
       "      margin-bottom: 4px;\n",
       "    }\n",
       "\n",
       "    [theme=dark] .colab-df-convert {\n",
       "      background-color: #3B4455;\n",
       "      fill: #D2E3FC;\n",
       "    }\n",
       "\n",
       "    [theme=dark] .colab-df-convert:hover {\n",
       "      background-color: #434B5C;\n",
       "      box-shadow: 0px 1px 3px 1px rgba(0, 0, 0, 0.15);\n",
       "      filter: drop-shadow(0px 1px 2px rgba(0, 0, 0, 0.3));\n",
       "      fill: #FFFFFF;\n",
       "    }\n",
       "  </style>\n",
       "\n",
       "    <script>\n",
       "      const buttonEl =\n",
       "        document.querySelector('#df-7a06f437-1757-4918-9736-b4a8c0c270f0 button.colab-df-convert');\n",
       "      buttonEl.style.display =\n",
       "        google.colab.kernel.accessAllowed ? 'block' : 'none';\n",
       "\n",
       "      async function convertToInteractive(key) {\n",
       "        const element = document.querySelector('#df-7a06f437-1757-4918-9736-b4a8c0c270f0');\n",
       "        const dataTable =\n",
       "          await google.colab.kernel.invokeFunction('convertToInteractive',\n",
       "                                                    [key], {});\n",
       "        if (!dataTable) return;\n",
       "\n",
       "        const docLinkHtml = 'Like what you see? Visit the ' +\n",
       "          '<a target=\"_blank\" href=https://colab.research.google.com/notebooks/data_table.ipynb>data table notebook</a>'\n",
       "          + ' to learn more about interactive tables.';\n",
       "        element.innerHTML = '';\n",
       "        dataTable['output_type'] = 'display_data';\n",
       "        await google.colab.output.renderOutput(dataTable, element);\n",
       "        const docLink = document.createElement('div');\n",
       "        docLink.innerHTML = docLinkHtml;\n",
       "        element.appendChild(docLink);\n",
       "      }\n",
       "    </script>\n",
       "  </div>\n",
       "\n",
       "\n",
       "<div id=\"df-23259811-9acc-4e5d-a572-34440c7533c5\">\n",
       "  <button class=\"colab-df-quickchart\" onclick=\"quickchart('df-23259811-9acc-4e5d-a572-34440c7533c5')\"\n",
       "            title=\"Suggest charts\"\n",
       "            style=\"display:none;\">\n",
       "\n",
       "<svg xmlns=\"http://www.w3.org/2000/svg\" height=\"24px\"viewBox=\"0 0 24 24\"\n",
       "     width=\"24px\">\n",
       "    <g>\n",
       "        <path d=\"M19 3H5c-1.1 0-2 .9-2 2v14c0 1.1.9 2 2 2h14c1.1 0 2-.9 2-2V5c0-1.1-.9-2-2-2zM9 17H7v-7h2v7zm4 0h-2V7h2v10zm4 0h-2v-4h2v4z\"/>\n",
       "    </g>\n",
       "</svg>\n",
       "  </button>\n",
       "\n",
       "<style>\n",
       "  .colab-df-quickchart {\n",
       "      --bg-color: #E8F0FE;\n",
       "      --fill-color: #1967D2;\n",
       "      --hover-bg-color: #E2EBFA;\n",
       "      --hover-fill-color: #174EA6;\n",
       "      --disabled-fill-color: #AAA;\n",
       "      --disabled-bg-color: #DDD;\n",
       "  }\n",
       "\n",
       "  [theme=dark] .colab-df-quickchart {\n",
       "      --bg-color: #3B4455;\n",
       "      --fill-color: #D2E3FC;\n",
       "      --hover-bg-color: #434B5C;\n",
       "      --hover-fill-color: #FFFFFF;\n",
       "      --disabled-bg-color: #3B4455;\n",
       "      --disabled-fill-color: #666;\n",
       "  }\n",
       "\n",
       "  .colab-df-quickchart {\n",
       "    background-color: var(--bg-color);\n",
       "    border: none;\n",
       "    border-radius: 50%;\n",
       "    cursor: pointer;\n",
       "    display: none;\n",
       "    fill: var(--fill-color);\n",
       "    height: 32px;\n",
       "    padding: 0;\n",
       "    width: 32px;\n",
       "  }\n",
       "\n",
       "  .colab-df-quickchart:hover {\n",
       "    background-color: var(--hover-bg-color);\n",
       "    box-shadow: 0 1px 2px rgba(60, 64, 67, 0.3), 0 1px 3px 1px rgba(60, 64, 67, 0.15);\n",
       "    fill: var(--button-hover-fill-color);\n",
       "  }\n",
       "\n",
       "  .colab-df-quickchart-complete:disabled,\n",
       "  .colab-df-quickchart-complete:disabled:hover {\n",
       "    background-color: var(--disabled-bg-color);\n",
       "    fill: var(--disabled-fill-color);\n",
       "    box-shadow: none;\n",
       "  }\n",
       "\n",
       "  .colab-df-spinner {\n",
       "    border: 2px solid var(--fill-color);\n",
       "    border-color: transparent;\n",
       "    border-bottom-color: var(--fill-color);\n",
       "    animation:\n",
       "      spin 1s steps(1) infinite;\n",
       "  }\n",
       "\n",
       "  @keyframes spin {\n",
       "    0% {\n",
       "      border-color: transparent;\n",
       "      border-bottom-color: var(--fill-color);\n",
       "      border-left-color: var(--fill-color);\n",
       "    }\n",
       "    20% {\n",
       "      border-color: transparent;\n",
       "      border-left-color: var(--fill-color);\n",
       "      border-top-color: var(--fill-color);\n",
       "    }\n",
       "    30% {\n",
       "      border-color: transparent;\n",
       "      border-left-color: var(--fill-color);\n",
       "      border-top-color: var(--fill-color);\n",
       "      border-right-color: var(--fill-color);\n",
       "    }\n",
       "    40% {\n",
       "      border-color: transparent;\n",
       "      border-right-color: var(--fill-color);\n",
       "      border-top-color: var(--fill-color);\n",
       "    }\n",
       "    60% {\n",
       "      border-color: transparent;\n",
       "      border-right-color: var(--fill-color);\n",
       "    }\n",
       "    80% {\n",
       "      border-color: transparent;\n",
       "      border-right-color: var(--fill-color);\n",
       "      border-bottom-color: var(--fill-color);\n",
       "    }\n",
       "    90% {\n",
       "      border-color: transparent;\n",
       "      border-bottom-color: var(--fill-color);\n",
       "    }\n",
       "  }\n",
       "</style>\n",
       "\n",
       "  <script>\n",
       "    async function quickchart(key) {\n",
       "      const quickchartButtonEl =\n",
       "        document.querySelector('#' + key + ' button');\n",
       "      quickchartButtonEl.disabled = true;  // To prevent multiple clicks.\n",
       "      quickchartButtonEl.classList.add('colab-df-spinner');\n",
       "      try {\n",
       "        const charts = await google.colab.kernel.invokeFunction(\n",
       "            'suggestCharts', [key], {});\n",
       "      } catch (error) {\n",
       "        console.error('Error during call to suggestCharts:', error);\n",
       "      }\n",
       "      quickchartButtonEl.classList.remove('colab-df-spinner');\n",
       "      quickchartButtonEl.classList.add('colab-df-quickchart-complete');\n",
       "    }\n",
       "    (() => {\n",
       "      let quickchartButtonEl =\n",
       "        document.querySelector('#df-23259811-9acc-4e5d-a572-34440c7533c5 button');\n",
       "      quickchartButtonEl.style.display =\n",
       "        google.colab.kernel.accessAllowed ? 'block' : 'none';\n",
       "    })();\n",
       "  </script>\n",
       "</div>\n",
       "\n",
       "    </div>\n",
       "  </div>\n"
      ],
      "text/plain": [
       "   Unnamed: 0                                     tokenized_text  \\\n",
       "0           0  ['Mamadou', 'Diop', ',', 'a', 'resident', 'of'...   \n",
       "1          66  ['A', 'Cônsul', 'Britânico', 'em', 'Brasília',...   \n",
       "2          67  ['A', 'Cônsul', 'Britânico', 'em', 'Brasília',...   \n",
       "3          77  ['A', 'Cônsul', 'Britânico', 'em', 'Brasília',...   \n",
       "4          78  ['A', 'Cônsul', 'Britânico', 'em', 'Brasília',...   \n",
       "\n",
       "                                                 ner    token entity_type  \\\n",
       "0  [[0, 1, 'person'], [14, 15, 'nightclub'], [45,...  Mamadou      person   \n",
       "1  [[6, 8, 'person'], [17, 19, 'person'], [36, 41...      Sir      person   \n",
       "2  [[6, 8, 'person'], [17, 19, 'person'], [36, 41...  William      person   \n",
       "3  [[6, 8, 'person'], [17, 19, 'person'], [36, 41...      Sir      person   \n",
       "4  [[6, 8, 'person'], [17, 19, 'person'], [36, 41...     John      person   \n",
       "\n",
       "                                      annotated_text  \\\n",
       "0  Mamadou(person) Diop , a resident of Dakar , i...   \n",
       "1  A Cônsul Britânico em Brasília , Sir(person) W...   \n",
       "2  A Cônsul Britânico em Brasília , Sir(person) W...   \n",
       "3  A Cônsul Britânico em Brasília , Sir(person) W...   \n",
       "4  A Cônsul Britânico em Brasília , Sir(person) W...   \n",
       "\n",
       "                                               texto idioma  \n",
       "0  Mamadou Diop , a resident of Dakar , is a regu...     en  \n",
       "1  A Cônsul Britânico em Brasília , Sir William P...     pt  \n",
       "2  A Cônsul Britânico em Brasília , Sir William P...     pt  \n",
       "3  A Cônsul Britânico em Brasília , Sir William P...     pt  \n",
       "4  A Cônsul Britânico em Brasília , Sir William P...     pt  "
      ]
     },
     "execution_count": 56,
     "metadata": {},
     "output_type": "execute_result"
    }
   ],
   "source": [
    "df.head()"
   ]
  },
  {
   "cell_type": "code",
   "execution_count": null,
   "metadata": {
    "id": "WYvQJwwa6MTT"
   },
   "outputs": [],
   "source": [
    "df.drop(columns = ['Unnamed: 0'], inplace=True)"
   ]
  },
  {
   "cell_type": "code",
   "execution_count": null,
   "metadata": {
    "colab": {
     "base_uri": "https://localhost:8080/",
     "height": 206
    },
    "id": "hoDee7jJ6QKc",
    "outputId": "fba41601-357c-4c05-f8c6-7e7b10daba35"
   },
   "outputs": [
    {
     "data": {
      "application/vnd.google.colaboratory.intrinsic+json": {
       "type": "dataframe",
       "variable_name": "df"
      },
      "text/html": [
       "\n",
       "  <div id=\"df-e98b911e-b47a-4e1b-a7e0-e63fc74122c8\" class=\"colab-df-container\">\n",
       "    <div>\n",
       "<style scoped>\n",
       "    .dataframe tbody tr th:only-of-type {\n",
       "        vertical-align: middle;\n",
       "    }\n",
       "\n",
       "    .dataframe tbody tr th {\n",
       "        vertical-align: top;\n",
       "    }\n",
       "\n",
       "    .dataframe thead th {\n",
       "        text-align: right;\n",
       "    }\n",
       "</style>\n",
       "<table border=\"1\" class=\"dataframe\">\n",
       "  <thead>\n",
       "    <tr style=\"text-align: right;\">\n",
       "      <th></th>\n",
       "      <th>tokenized_text</th>\n",
       "      <th>ner</th>\n",
       "      <th>token</th>\n",
       "      <th>entity_type</th>\n",
       "      <th>annotated_text</th>\n",
       "      <th>texto</th>\n",
       "      <th>idioma</th>\n",
       "    </tr>\n",
       "  </thead>\n",
       "  <tbody>\n",
       "    <tr>\n",
       "      <th>0</th>\n",
       "      <td>['Mamadou', 'Diop', ',', 'a', 'resident', 'of'...</td>\n",
       "      <td>[[0, 1, 'person'], [14, 15, 'nightclub'], [45,...</td>\n",
       "      <td>Mamadou</td>\n",
       "      <td>person</td>\n",
       "      <td>Mamadou(person) Diop , a resident of Dakar , i...</td>\n",
       "      <td>Mamadou Diop , a resident of Dakar , is a regu...</td>\n",
       "      <td>en</td>\n",
       "    </tr>\n",
       "    <tr>\n",
       "      <th>1</th>\n",
       "      <td>['A', 'Cônsul', 'Britânico', 'em', 'Brasília',...</td>\n",
       "      <td>[[6, 8, 'person'], [17, 19, 'person'], [36, 41...</td>\n",
       "      <td>Sir</td>\n",
       "      <td>person</td>\n",
       "      <td>A Cônsul Britânico em Brasília , Sir(person) W...</td>\n",
       "      <td>A Cônsul Britânico em Brasília , Sir William P...</td>\n",
       "      <td>pt</td>\n",
       "    </tr>\n",
       "    <tr>\n",
       "      <th>2</th>\n",
       "      <td>['A', 'Cônsul', 'Britânico', 'em', 'Brasília',...</td>\n",
       "      <td>[[6, 8, 'person'], [17, 19, 'person'], [36, 41...</td>\n",
       "      <td>William</td>\n",
       "      <td>person</td>\n",
       "      <td>A Cônsul Britânico em Brasília , Sir(person) W...</td>\n",
       "      <td>A Cônsul Britânico em Brasília , Sir William P...</td>\n",
       "      <td>pt</td>\n",
       "    </tr>\n",
       "    <tr>\n",
       "      <th>3</th>\n",
       "      <td>['A', 'Cônsul', 'Britânico', 'em', 'Brasília',...</td>\n",
       "      <td>[[6, 8, 'person'], [17, 19, 'person'], [36, 41...</td>\n",
       "      <td>Sir</td>\n",
       "      <td>person</td>\n",
       "      <td>A Cônsul Britânico em Brasília , Sir(person) W...</td>\n",
       "      <td>A Cônsul Britânico em Brasília , Sir William P...</td>\n",
       "      <td>pt</td>\n",
       "    </tr>\n",
       "    <tr>\n",
       "      <th>4</th>\n",
       "      <td>['A', 'Cônsul', 'Britânico', 'em', 'Brasília',...</td>\n",
       "      <td>[[6, 8, 'person'], [17, 19, 'person'], [36, 41...</td>\n",
       "      <td>John</td>\n",
       "      <td>person</td>\n",
       "      <td>A Cônsul Britânico em Brasília , Sir(person) W...</td>\n",
       "      <td>A Cônsul Britânico em Brasília , Sir William P...</td>\n",
       "      <td>pt</td>\n",
       "    </tr>\n",
       "  </tbody>\n",
       "</table>\n",
       "</div>\n",
       "    <div class=\"colab-df-buttons\">\n",
       "\n",
       "  <div class=\"colab-df-container\">\n",
       "    <button class=\"colab-df-convert\" onclick=\"convertToInteractive('df-e98b911e-b47a-4e1b-a7e0-e63fc74122c8')\"\n",
       "            title=\"Convert this dataframe to an interactive table.\"\n",
       "            style=\"display:none;\">\n",
       "\n",
       "  <svg xmlns=\"http://www.w3.org/2000/svg\" height=\"24px\" viewBox=\"0 -960 960 960\">\n",
       "    <path d=\"M120-120v-720h720v720H120Zm60-500h600v-160H180v160Zm220 220h160v-160H400v160Zm0 220h160v-160H400v160ZM180-400h160v-160H180v160Zm440 0h160v-160H620v160ZM180-180h160v-160H180v160Zm440 0h160v-160H620v160Z\"/>\n",
       "  </svg>\n",
       "    </button>\n",
       "\n",
       "  <style>\n",
       "    .colab-df-container {\n",
       "      display:flex;\n",
       "      gap: 12px;\n",
       "    }\n",
       "\n",
       "    .colab-df-convert {\n",
       "      background-color: #E8F0FE;\n",
       "      border: none;\n",
       "      border-radius: 50%;\n",
       "      cursor: pointer;\n",
       "      display: none;\n",
       "      fill: #1967D2;\n",
       "      height: 32px;\n",
       "      padding: 0 0 0 0;\n",
       "      width: 32px;\n",
       "    }\n",
       "\n",
       "    .colab-df-convert:hover {\n",
       "      background-color: #E2EBFA;\n",
       "      box-shadow: 0px 1px 2px rgba(60, 64, 67, 0.3), 0px 1px 3px 1px rgba(60, 64, 67, 0.15);\n",
       "      fill: #174EA6;\n",
       "    }\n",
       "\n",
       "    .colab-df-buttons div {\n",
       "      margin-bottom: 4px;\n",
       "    }\n",
       "\n",
       "    [theme=dark] .colab-df-convert {\n",
       "      background-color: #3B4455;\n",
       "      fill: #D2E3FC;\n",
       "    }\n",
       "\n",
       "    [theme=dark] .colab-df-convert:hover {\n",
       "      background-color: #434B5C;\n",
       "      box-shadow: 0px 1px 3px 1px rgba(0, 0, 0, 0.15);\n",
       "      filter: drop-shadow(0px 1px 2px rgba(0, 0, 0, 0.3));\n",
       "      fill: #FFFFFF;\n",
       "    }\n",
       "  </style>\n",
       "\n",
       "    <script>\n",
       "      const buttonEl =\n",
       "        document.querySelector('#df-e98b911e-b47a-4e1b-a7e0-e63fc74122c8 button.colab-df-convert');\n",
       "      buttonEl.style.display =\n",
       "        google.colab.kernel.accessAllowed ? 'block' : 'none';\n",
       "\n",
       "      async function convertToInteractive(key) {\n",
       "        const element = document.querySelector('#df-e98b911e-b47a-4e1b-a7e0-e63fc74122c8');\n",
       "        const dataTable =\n",
       "          await google.colab.kernel.invokeFunction('convertToInteractive',\n",
       "                                                    [key], {});\n",
       "        if (!dataTable) return;\n",
       "\n",
       "        const docLinkHtml = 'Like what you see? Visit the ' +\n",
       "          '<a target=\"_blank\" href=https://colab.research.google.com/notebooks/data_table.ipynb>data table notebook</a>'\n",
       "          + ' to learn more about interactive tables.';\n",
       "        element.innerHTML = '';\n",
       "        dataTable['output_type'] = 'display_data';\n",
       "        await google.colab.output.renderOutput(dataTable, element);\n",
       "        const docLink = document.createElement('div');\n",
       "        docLink.innerHTML = docLinkHtml;\n",
       "        element.appendChild(docLink);\n",
       "      }\n",
       "    </script>\n",
       "  </div>\n",
       "\n",
       "\n",
       "<div id=\"df-6beb8d67-53ad-47e1-9f8e-d70f316f3bcb\">\n",
       "  <button class=\"colab-df-quickchart\" onclick=\"quickchart('df-6beb8d67-53ad-47e1-9f8e-d70f316f3bcb')\"\n",
       "            title=\"Suggest charts\"\n",
       "            style=\"display:none;\">\n",
       "\n",
       "<svg xmlns=\"http://www.w3.org/2000/svg\" height=\"24px\"viewBox=\"0 0 24 24\"\n",
       "     width=\"24px\">\n",
       "    <g>\n",
       "        <path d=\"M19 3H5c-1.1 0-2 .9-2 2v14c0 1.1.9 2 2 2h14c1.1 0 2-.9 2-2V5c0-1.1-.9-2-2-2zM9 17H7v-7h2v7zm4 0h-2V7h2v10zm4 0h-2v-4h2v4z\"/>\n",
       "    </g>\n",
       "</svg>\n",
       "  </button>\n",
       "\n",
       "<style>\n",
       "  .colab-df-quickchart {\n",
       "      --bg-color: #E8F0FE;\n",
       "      --fill-color: #1967D2;\n",
       "      --hover-bg-color: #E2EBFA;\n",
       "      --hover-fill-color: #174EA6;\n",
       "      --disabled-fill-color: #AAA;\n",
       "      --disabled-bg-color: #DDD;\n",
       "  }\n",
       "\n",
       "  [theme=dark] .colab-df-quickchart {\n",
       "      --bg-color: #3B4455;\n",
       "      --fill-color: #D2E3FC;\n",
       "      --hover-bg-color: #434B5C;\n",
       "      --hover-fill-color: #FFFFFF;\n",
       "      --disabled-bg-color: #3B4455;\n",
       "      --disabled-fill-color: #666;\n",
       "  }\n",
       "\n",
       "  .colab-df-quickchart {\n",
       "    background-color: var(--bg-color);\n",
       "    border: none;\n",
       "    border-radius: 50%;\n",
       "    cursor: pointer;\n",
       "    display: none;\n",
       "    fill: var(--fill-color);\n",
       "    height: 32px;\n",
       "    padding: 0;\n",
       "    width: 32px;\n",
       "  }\n",
       "\n",
       "  .colab-df-quickchart:hover {\n",
       "    background-color: var(--hover-bg-color);\n",
       "    box-shadow: 0 1px 2px rgba(60, 64, 67, 0.3), 0 1px 3px 1px rgba(60, 64, 67, 0.15);\n",
       "    fill: var(--button-hover-fill-color);\n",
       "  }\n",
       "\n",
       "  .colab-df-quickchart-complete:disabled,\n",
       "  .colab-df-quickchart-complete:disabled:hover {\n",
       "    background-color: var(--disabled-bg-color);\n",
       "    fill: var(--disabled-fill-color);\n",
       "    box-shadow: none;\n",
       "  }\n",
       "\n",
       "  .colab-df-spinner {\n",
       "    border: 2px solid var(--fill-color);\n",
       "    border-color: transparent;\n",
       "    border-bottom-color: var(--fill-color);\n",
       "    animation:\n",
       "      spin 1s steps(1) infinite;\n",
       "  }\n",
       "\n",
       "  @keyframes spin {\n",
       "    0% {\n",
       "      border-color: transparent;\n",
       "      border-bottom-color: var(--fill-color);\n",
       "      border-left-color: var(--fill-color);\n",
       "    }\n",
       "    20% {\n",
       "      border-color: transparent;\n",
       "      border-left-color: var(--fill-color);\n",
       "      border-top-color: var(--fill-color);\n",
       "    }\n",
       "    30% {\n",
       "      border-color: transparent;\n",
       "      border-left-color: var(--fill-color);\n",
       "      border-top-color: var(--fill-color);\n",
       "      border-right-color: var(--fill-color);\n",
       "    }\n",
       "    40% {\n",
       "      border-color: transparent;\n",
       "      border-right-color: var(--fill-color);\n",
       "      border-top-color: var(--fill-color);\n",
       "    }\n",
       "    60% {\n",
       "      border-color: transparent;\n",
       "      border-right-color: var(--fill-color);\n",
       "    }\n",
       "    80% {\n",
       "      border-color: transparent;\n",
       "      border-right-color: var(--fill-color);\n",
       "      border-bottom-color: var(--fill-color);\n",
       "    }\n",
       "    90% {\n",
       "      border-color: transparent;\n",
       "      border-bottom-color: var(--fill-color);\n",
       "    }\n",
       "  }\n",
       "</style>\n",
       "\n",
       "  <script>\n",
       "    async function quickchart(key) {\n",
       "      const quickchartButtonEl =\n",
       "        document.querySelector('#' + key + ' button');\n",
       "      quickchartButtonEl.disabled = true;  // To prevent multiple clicks.\n",
       "      quickchartButtonEl.classList.add('colab-df-spinner');\n",
       "      try {\n",
       "        const charts = await google.colab.kernel.invokeFunction(\n",
       "            'suggestCharts', [key], {});\n",
       "      } catch (error) {\n",
       "        console.error('Error during call to suggestCharts:', error);\n",
       "      }\n",
       "      quickchartButtonEl.classList.remove('colab-df-spinner');\n",
       "      quickchartButtonEl.classList.add('colab-df-quickchart-complete');\n",
       "    }\n",
       "    (() => {\n",
       "      let quickchartButtonEl =\n",
       "        document.querySelector('#df-6beb8d67-53ad-47e1-9f8e-d70f316f3bcb button');\n",
       "      quickchartButtonEl.style.display =\n",
       "        google.colab.kernel.accessAllowed ? 'block' : 'none';\n",
       "    })();\n",
       "  </script>\n",
       "</div>\n",
       "\n",
       "    </div>\n",
       "  </div>\n"
      ],
      "text/plain": [
       "                                      tokenized_text  \\\n",
       "0  ['Mamadou', 'Diop', ',', 'a', 'resident', 'of'...   \n",
       "1  ['A', 'Cônsul', 'Britânico', 'em', 'Brasília',...   \n",
       "2  ['A', 'Cônsul', 'Britânico', 'em', 'Brasília',...   \n",
       "3  ['A', 'Cônsul', 'Britânico', 'em', 'Brasília',...   \n",
       "4  ['A', 'Cônsul', 'Britânico', 'em', 'Brasília',...   \n",
       "\n",
       "                                                 ner    token entity_type  \\\n",
       "0  [[0, 1, 'person'], [14, 15, 'nightclub'], [45,...  Mamadou      person   \n",
       "1  [[6, 8, 'person'], [17, 19, 'person'], [36, 41...      Sir      person   \n",
       "2  [[6, 8, 'person'], [17, 19, 'person'], [36, 41...  William      person   \n",
       "3  [[6, 8, 'person'], [17, 19, 'person'], [36, 41...      Sir      person   \n",
       "4  [[6, 8, 'person'], [17, 19, 'person'], [36, 41...     John      person   \n",
       "\n",
       "                                      annotated_text  \\\n",
       "0  Mamadou(person) Diop , a resident of Dakar , i...   \n",
       "1  A Cônsul Britânico em Brasília , Sir(person) W...   \n",
       "2  A Cônsul Britânico em Brasília , Sir(person) W...   \n",
       "3  A Cônsul Britânico em Brasília , Sir(person) W...   \n",
       "4  A Cônsul Britânico em Brasília , Sir(person) W...   \n",
       "\n",
       "                                               texto idioma  \n",
       "0  Mamadou Diop , a resident of Dakar , is a regu...     en  \n",
       "1  A Cônsul Britânico em Brasília , Sir William P...     pt  \n",
       "2  A Cônsul Britânico em Brasília , Sir William P...     pt  \n",
       "3  A Cônsul Britânico em Brasília , Sir William P...     pt  \n",
       "4  A Cônsul Britânico em Brasília , Sir William P...     pt  "
      ]
     },
     "execution_count": 60,
     "metadata": {},
     "output_type": "execute_result"
    }
   ],
   "source": [
    "df.head()"
   ]
  },
  {
   "cell_type": "code",
   "execution_count": null,
   "metadata": {
    "colab": {
     "base_uri": "https://localhost:8080/"
    },
    "id": "oxQRsGhl6UcS",
    "outputId": "1ad991b6-7203-4a09-e018-37c4660d8999"
   },
   "outputs": [
    {
     "data": {
      "text/plain": [
       "array(['person', 'address', 'phone number', 'email', 'organization',\n",
       "       'tax identification number', \"driver's license number\",\n",
       "       'mobile phone number', 'email address', 'credit card number',\n",
       "       'medication', 'social security number',\n",
       "       'credit card expiration date', 'passport number', 'date of birth',\n",
       "       'reservation number', 'medical condition', 'social media handle',\n",
       "       'health insurance id number', 'bank account number', 'ip address',\n",
       "       'health insurance number', 'postal code', 'blood type', 'username',\n",
       "       'insurance company', 'landline phone number', 'flight number',\n",
       "       'insurance number', 'license plate number',\n",
       "       'passport expiration date', 'identity document number',\n",
       "       'identity card number', 'registration number', 'fax number',\n",
       "       'vehicle registration number', 'passport_number',\n",
       "       'social_security_number', 'digital signature', 'cpf',\n",
       "       'credit card brand', 'national id number',\n",
       "       'birth certificate number', 'iban', 'visa number', 'serial number'],\n",
       "      dtype=object)"
      ]
     },
     "execution_count": 62,
     "metadata": {},
     "output_type": "execute_result"
    }
   ],
   "source": [
    "df['entity_type'].unique()"
   ]
  },
  {
   "cell_type": "code",
   "execution_count": null,
   "metadata": {
    "colab": {
     "base_uri": "https://localhost:8080/"
    },
    "id": "7E8w-dHy6ZJi",
    "outputId": "7230f7c8-8dc3-432b-80c3-aec57dcc0df7"
   },
   "outputs": [
    {
     "data": {
      "text/plain": [
       "46"
      ]
     },
     "execution_count": 64,
     "metadata": {},
     "output_type": "execute_result"
    }
   ],
   "source": [
    "len(df['entity_type'].value_counts())"
   ]
  },
  {
   "cell_type": "code",
   "execution_count": null,
   "metadata": {
    "colab": {
     "base_uri": "https://localhost:8080/"
    },
    "id": "zvw4rEWv6fSl",
    "outputId": "199a683b-ee8c-427a-834f-c1e0f823e7b2"
   },
   "outputs": [
    {
     "data": {
      "text/plain": [
       "53"
      ]
     },
     "execution_count": 65,
     "metadata": {},
     "output_type": "execute_result"
    }
   ],
   "source": [
    "len(all_labels)"
   ]
  },
  {
   "cell_type": "code",
   "execution_count": null,
   "metadata": {
    "colab": {
     "base_uri": "https://localhost:8080/"
    },
    "id": "Yt5BKTfY6nA5",
    "outputId": "7be2121b-d7fc-4b07-9f98-2f3374ef545b"
   },
   "outputs": [
    {
     "name": "stdout",
     "output_type": "stream",
     "text": [
      "Valores na lista que não estão na coluna: ['student id number', 'cvv', 'cnpj', 'transaction number', 'national health insurance number', 'cvc', 'train ticket number']\n"
     ]
    }
   ],
   "source": [
    "diferenca = [item for item in all_labels if item not in df['entity_type'].unique()]"
   ]
  },
  {
   "cell_type": "code",
   "execution_count": null,
   "metadata": {
    "colab": {
     "base_uri": "https://localhost:8080/"
    },
    "id": "7lDw-uLq7TaG",
    "outputId": "b8228292-c811-4f54-fc46-0618792ed05b"
   },
   "outputs": [
    {
     "name": "stdout",
     "output_type": "stream",
     "text": [
      "student id number\n",
      "cvv\n",
      "cnpj\n",
      "transaction number\n",
      "national health insurance number\n",
      "cvc\n",
      "train ticket number\n"
     ]
    }
   ],
   "source": [
    "for i in diferenca:\n",
    "  print(i)"
   ]
  },
  {
   "cell_type": "code",
   "execution_count": null,
   "metadata": {
    "colab": {
     "base_uri": "https://localhost:8080/"
    },
    "id": "6T0cg3vj-EXE",
    "outputId": "18455648-e445-4ad1-e096-f6b0387557d3"
   },
   "outputs": [
    {
     "name": "stdout",
     "output_type": "stream",
     "text": [
      "person\n",
      "organization\n",
      "phone number\n",
      "address\n",
      "passport number\n",
      "email\n",
      "credit card number\n",
      "social security number\n",
      "health insurance id number\n",
      "date of birth\n",
      "mobile phone number\n",
      "bank account number\n",
      "medication\n",
      "cpf\n",
      "driver's license number\n",
      "tax identification number\n",
      "medical condition\n",
      "identity card number\n",
      "national id number\n",
      "ip address\n",
      "email address\n",
      "iban\n",
      "credit card expiration date\n",
      "username\n",
      "health insurance number\n",
      "registration number\n",
      "student id number\n",
      "insurance number\n",
      "flight number\n",
      "landline phone number\n",
      "blood type\n",
      "cvv\n",
      "reservation number\n",
      "digital signature\n",
      "social media handle\n",
      "license plate number\n",
      "cnpj\n",
      "postal code\n",
      "passport_number\n",
      "serial number\n",
      "vehicle registration number\n",
      "credit card brand\n",
      "fax number\n",
      "visa number\n",
      "insurance company\n",
      "identity document number\n",
      "transaction number\n",
      "national health insurance number\n",
      "cvc\n",
      "birth certificate number\n",
      "train ticket number\n",
      "passport expiration date\n",
      "social_security_number\n"
     ]
    }
   ],
   "source": [
    "for i in all_labels:\n",
    "  print(i)"
   ]
  },
  {
   "cell_type": "markdown",
   "metadata": {
    "id": "nxCMr9f89rUA"
   },
   "source": [
    "### Labels que talvez não façam sentido no nosso Caso de Uso\n",
    "- social security number (só quem nasce nos EUA que tem)\n",
    "- fax number\n",
    "- insurance company\n",
    "- serial number\n",
    "- credit card brand\n",
    "- train ticket number\n",
    "- flight number\n",
    "- reservation number"
   ]
  },
  {
   "cell_type": "markdown",
   "metadata": {
    "id": "ljqG73IYCSTs"
   },
   "source": [
    "### Labels que talvez estão \"duplicadas\"\n",
    "- health insurance id number -> está mais ligado à identificação do beneficiário.<br>\n",
    "health insurance number -> pode se referir ao contrato ou plano específico.\n",
    "\n",
    "- email<br> email address\n",
    "\n",
    "- identity card number -> Número do RG, DNI (Argentina)<br> national id number -> CPF (Brasil), SSN (EUA), NIN (Reino Unido)<br> identity document number -> Número de passaporte, Número do RG, Número de documento de identidade\n",
    "- cvc<br> cvv\n",
    "- passport number<br> passport_number"
   ]
  },
  {
   "cell_type": "code",
   "execution_count": null,
   "metadata": {
    "id": "cwct1BjP7bpB"
   },
   "outputs": [],
   "source": []
  }
 ],
 "metadata": {
  "colab": {
   "provenance": []
  },
  "kernelspec": {
   "display_name": "Python 3",
   "name": "python3"
  },
  "language_info": {
   "codemirror_mode": {
    "name": "ipython",
    "version": 3
   },
   "file_extension": ".py",
   "mimetype": "text/x-python",
   "name": "python",
   "nbconvert_exporter": "python",
   "pygments_lexer": "ipython3",
   "version": "3.12.6"
  }
 },
 "nbformat": 4,
 "nbformat_minor": 0
}
