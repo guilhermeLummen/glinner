{
 "cells": [
  {
   "cell_type": "code",
   "execution_count": 8,
   "metadata": {},
   "outputs": [],
   "source": [
    "from gliner import GLiNER"
   ]
  },
  {
   "cell_type": "code",
   "execution_count": 9,
   "metadata": {},
   "outputs": [
    {
     "name": "stderr",
     "output_type": "stream",
     "text": [
      "Fetching 4 files: 100%|██████████| 4/4 [00:00<?, ?it/s]\n"
     ]
    }
   ],
   "source": [
    "model = GLiNER.from_pretrained(\"urchade/gliner_multi_pii-v1\")"
   ]
  },
  {
   "cell_type": "code",
   "execution_count": 10,
   "metadata": {},
   "outputs": [],
   "source": [
    "all_labels = [\"person\",\"organization\",\"phone number\",\"address\",\"passport number\",\"email\",\"credit card number\",\"social security number\",\"health insurance id number\",\"date of birth\",\"mobile phone number\",\"bank account number\",\"medication\",\"cpf\",\"driver's license number\",\"tax identification number\",\"medical condition\",\"identity card number\",\"national id number\",\"ip address\",\"email address\",\"iban\",\"credit card expiration date\",\"username\",\"health insurance number\",\"registration number\",\"student id number\",\"insurance number\",\"flight number\",\"landline phone number\",\"blood type\",\"cvv\",\"reservation number\",\"digital signature\",\"social media handle\",\"license plate number\",\"cnpj\",\"postal code\",\"passport_number\",\"serial number\",\"vehicle registration number\",\"credit card brand\",\"fax number\",\"visa number\",\"insurance company\",\"identity document number\",\"transaction number\",\"national health insurance number\",\"cvc\",\"birth certificate number\",\"train ticket number\",\"passport expiration date\",\"social_security_number\"]"
   ]
  },
  {
   "cell_type": "code",
   "execution_count": 11,
   "metadata": {},
   "outputs": [],
   "source": [
    "def predict_entities_from_text(text, labels):\n",
    "    entities = model.predict_entities(text, labels)\n",
    "    for entity in entities:\n",
    "        print(entity[\"text\"], \"=>\", entity[\"label\"])\n",
    "    if len(entities) == 0:\n",
    "        print(\"No entities found\")\n",
    "    print(\"--------------------------------\")"
   ]
  },
  {
   "cell_type": "markdown",
   "metadata": {},
   "source": [
    "### EMAIL"
   ]
  },
  {
   "cell_type": "markdown",
   "metadata": {},
   "source": [
    "#### E-mails explícitos em diferentes formatos"
   ]
  },
  {
   "cell_type": "code",
   "execution_count": 12,
   "metadata": {},
   "outputs": [
    {
     "name": "stderr",
     "output_type": "stream",
     "text": [
      "Asking to truncate to max_length but no maximum length is provided and the model has no predefined maximum length. Default to no truncation.\n"
     ]
    },
    {
     "name": "stdout",
     "output_type": "stream",
     "text": [
      "joao.silva@gmail.com => email\n",
      "--------------------------------\n",
      "joao.silva@gmail.com => email address\n",
      "--------------------------------\n"
     ]
    }
   ],
   "source": [
    "text = \"Meu e-mail pessoal é joao.silva@gmail.com. Por favor, entre em contato.\"\n",
    "labels = [\"email\"]\n",
    "predict_entities_from_text(text, labels)\n",
    "labels = [\"email address\"]\n",
    "predict_entities_from_text(text, labels)"
   ]
  },
  {
   "cell_type": "code",
   "execution_count": 13,
   "metadata": {},
   "outputs": [
    {
     "name": "stdout",
     "output_type": "stream",
     "text": [
      "maria123@empresa.com.br => email\n",
      "--------------------------------\n",
      "maria123@empresa.com.br => email address\n",
      "--------------------------------\n"
     ]
    }
   ],
   "source": [
    "text = \"Você pode me enviar os documentos para maria123@empresa.com.br?\"\n",
    "labels = [\"email\"]\n",
    "predict_entities_from_text(text, labels)\n",
    "labels = [\"email address\"]\n",
    "predict_entities_from_text(text, labels)"
   ]
  },
  {
   "cell_type": "code",
   "execution_count": 14,
   "metadata": {},
   "outputs": [
    {
     "name": "stdout",
     "output_type": "stream",
     "text": [
      "suporte@dominio.org => email\n",
      "--------------------------------\n",
      "suporte@dominio.org => email address\n",
      "--------------------------------\n"
     ]
    }
   ],
   "source": [
    "text = \"O e-mail da empresa é suporte@dominio.org.\"\n",
    "labels = [\"email\"]\n",
    "predict_entities_from_text(text, labels)\n",
    "labels = [\"email address\"]\n",
    "predict_entities_from_text(text, labels)"
   ]
  },
  {
   "cell_type": "markdown",
   "metadata": {},
   "source": [
    "#### E-mails misturados no meio do texto"
   ]
  },
  {
   "cell_type": "code",
   "execution_count": 15,
   "metadata": {},
   "outputs": [
    {
     "name": "stdout",
     "output_type": "stream",
     "text": [
      "carlos.santos@meuprovedor.net => email\n",
      "--------------------------------\n",
      "carlos.santos@meuprovedor.net => email address\n",
      "--------------------------------\n"
     ]
    }
   ],
   "source": [
    "text = \"O contato principal é carlos.santos@meuprovedor.net e ele pode ajudar.\"\n",
    "labels = [\"email\"]\n",
    "predict_entities_from_text(text, labels)\n",
    "labels = [\"email address\"]\n",
    "predict_entities_from_text(text, labels)"
   ]
  },
  {
   "cell_type": "code",
   "execution_count": 16,
   "metadata": {},
   "outputs": [
    {
     "name": "stdout",
     "output_type": "stream",
     "text": [
      "contato@site.com => email\n",
      "marketing@site.com => email\n",
      "--------------------------------\n",
      "contato@site.com => email address\n",
      "marketing@site.com => email address\n",
      "--------------------------------\n"
     ]
    }
   ],
   "source": [
    "text = \"Envie a resposta para contato@site.com ou marketing@site.com.\"\n",
    "labels = [\"email\"]\n",
    "predict_entities_from_text(text, labels)\n",
    "labels = [\"email address\"]\n",
    "predict_entities_from_text(text, labels)"
   ]
  },
  {
   "cell_type": "markdown",
   "metadata": {},
   "source": [
    "#### Formatos atípicos ou confusos"
   ]
  },
  {
   "cell_type": "code",
   "execution_count": 17,
   "metadata": {},
   "outputs": [
    {
     "name": "stdout",
     "output_type": "stream",
     "text": [
      "fulano[at]gmail[dot]com => email\n",
      "--------------------------------\n",
      "fulano[at]gmail[dot]com => email address\n",
      "--------------------------------\n"
     ]
    }
   ],
   "source": [
    "text = \"Meu e-mail é algo como: fulano[at]gmail[dot]com.\"\n",
    "labels = [\"email\"]\n",
    "predict_entities_from_text(text, labels)\n",
    "labels = [\"email address\"]\n",
    "predict_entities_from_text(text, labels)"
   ]
  },
  {
   "cell_type": "code",
   "execution_count": 18,
   "metadata": {},
   "outputs": [
    {
     "name": "stdout",
     "output_type": "stream",
     "text": [
      "maria_souza!@dominio-especial.com => email\n",
      "--------------------------------\n",
      "maria_souza!@dominio-especial.com => email address\n",
      "--------------------------------\n"
     ]
    }
   ],
   "source": [
    "text = \"Entre em contato via e-mail: maria_souza!@dominio-especial.com.\"\n",
    "labels = [\"email\"]\n",
    "predict_entities_from_text(text, labels)\n",
    "labels = [\"email address\"]\n",
    "predict_entities_from_text(text, labels)"
   ]
  },
  {
   "cell_type": "markdown",
   "metadata": {},
   "source": [
    "#### E-mails mascarados ou incompletos"
   ]
  },
  {
   "cell_type": "code",
   "execution_count": 19,
   "metadata": {},
   "outputs": [
    {
     "name": "stdout",
     "output_type": "stream",
     "text": [
      "joao***@gmail.com => email\n",
      "--------------------------------\n",
      "joao***@gmail.com => email address\n",
      "--------------------------------\n"
     ]
    }
   ],
   "source": [
    "text = \"Meu e-mail é joao***@gmail.com.\"\n",
    "labels = [\"email\"]\n",
    "predict_entities_from_text(text, labels)\n",
    "labels = [\"email address\"]\n",
    "predict_entities_from_text(text, labels)"
   ]
  },
  {
   "cell_type": "code",
   "execution_count": 20,
   "metadata": {},
   "outputs": [
    {
     "name": "stdout",
     "output_type": "stream",
     "text": [
      "***@empresa.com => email\n",
      "--------------------------------\n",
      "***@empresa.com => email address\n",
      "--------------------------------\n"
     ]
    }
   ],
   "source": [
    "text = \"Envie para ***@empresa.com.\"\n",
    "labels = [\"email\"]\n",
    "predict_entities_from_text(text, labels)\n",
    "labels = [\"email address\"]\n",
    "predict_entities_from_text(text, labels)"
   ]
  },
  {
   "cell_type": "markdown",
   "metadata": {},
   "source": [
    "#### Texto com palavras relacionadas, mas sem e-mail (teste negativo)"
   ]
  },
  {
   "cell_type": "code",
   "execution_count": 21,
   "metadata": {},
   "outputs": [
    {
     "name": "stdout",
     "output_type": "stream",
     "text": [
      "e-mail => email\n",
      "--------------------------------\n",
      "e-mail => email address\n",
      "--------------------------------\n"
     ]
    }
   ],
   "source": [
    "text = \"Por favor, envie o e-mail assim que possível.\"\n",
    "labels = [\"email\"]\n",
    "predict_entities_from_text(text, labels)\n",
    "labels = [\"email address\"]\n",
    "predict_entities_from_text(text, labels)"
   ]
  },
  {
   "cell_type": "code",
   "execution_count": 22,
   "metadata": {},
   "outputs": [
    {
     "name": "stdout",
     "output_type": "stream",
     "text": [
      "endereço de e-mail => email\n",
      "--------------------------------\n",
      "endereço de e-mail => email address\n",
      "--------------------------------\n"
     ]
    }
   ],
   "source": [
    "text = \"O endereço de e-mail está faltando nos documentos.\"\n",
    "labels = [\"email\"]\n",
    "predict_entities_from_text(text, labels)\n",
    "labels = [\"email address\"]\n",
    "predict_entities_from_text(text, labels)"
   ]
  },
  {
   "cell_type": "markdown",
   "metadata": {},
   "source": [
    "#### Texto ambíguo com palavras semelhantes"
   ]
  },
  {
   "cell_type": "code",
   "execution_count": 23,
   "metadata": {},
   "outputs": [
    {
     "name": "stdout",
     "output_type": "stream",
     "text": [
      "meu email => email\n",
      "--------------------------------\n",
      "meu email => email address\n",
      "--------------------------------\n"
     ]
    }
   ],
   "source": [
    "text = \"Ele mencionou 'meu email' na conversa, mas não deu o endereço.\"\n",
    "labels = [\"email\"]\n",
    "predict_entities_from_text(text, labels)\n",
    "labels = [\"email address\"]\n",
    "predict_entities_from_text(text, labels)"
   ]
  },
  {
   "cell_type": "code",
   "execution_count": 24,
   "metadata": {},
   "outputs": [
    {
     "name": "stdout",
     "output_type": "stream",
     "text": [
      "e-mail marketing => email\n",
      "--------------------------------\n",
      "No entities found\n",
      "--------------------------------\n"
     ]
    }
   ],
   "source": [
    "text = \"O e-mail marketing dessa empresa não é eficiente.\"\n",
    "labels = [\"email\"]\n",
    "predict_entities_from_text(text, labels)\n",
    "labels = [\"email address\"]\n",
    "predict_entities_from_text(text, labels)"
   ]
  },
  {
   "cell_type": "markdown",
   "metadata": {},
   "source": [
    "#### Texto mais longo"
   ]
  },
  {
   "cell_type": "code",
   "execution_count": 25,
   "metadata": {},
   "outputs": [
    {
     "name": "stdout",
     "output_type": "stream",
     "text": [
      "marco.silva@empresa.com => email\n",
      "marcos@empresa.com => email\n",
      "ana.clara@service.net => email\n",
      "joao.souza@corp.com => email\n",
      "--------------------------------\n",
      "marcos@empresa.com => email address\n",
      "joao.souza@corp.com => email address\n",
      "--------------------------------\n",
      "marco.silva@empresa.com => email\n",
      "marcos@empresa.com => email\n",
      "ana.clara@service.net => email\n",
      "joao.souza@corp.com => email\n",
      "joao_souza@yahoo.com.br => email\n",
      "--------------------------------\n"
     ]
    }
   ],
   "source": [
    "text = \"\"\"\n",
    "Por favor, envie a proposta para o endereço marco.silva@empresa.com até o final da semana. O contato direto para o responsável é marcos@empresa.com. Qualquer dúvida adicional, entre em contato conosco pelo email principal suporte@empresa.com.\n",
    "Nossa equipe de atendimento ao cliente, incluindo carla.reis@helpdesk.com e ana.clara@service.net, está disponível de segunda a sexta para atender às solicitações. Para feedbacks, use feedback@service.net.\n",
    "Solicitamos que todos os funcionários atualizem suas informações de contato, incluindo seus emails pessoais e corporativos. João, por exemplo, possui o endereço de email corporativo joao.souza@corp.com e um pessoal no formato joao_souza@yahoo.com.br.\n",
    "\"\"\"\n",
    "labels = [\"email\"]\n",
    "predict_entities_from_text(text, labels)\n",
    "labels = [\"email address\"]\n",
    "predict_entities_from_text(text, labels)\n",
    "labels = [\"email\", \"email address\"]\n",
    "predict_entities_from_text(text, labels)"
   ]
  },
  {
   "cell_type": "markdown",
   "metadata": {},
   "source": [
    "Parece que se você usar as duas labels, o resultado é melhor.<br><br>\n",
    "DECISÃO para EMAIL -> manter os dois"
   ]
  },
  {
   "cell_type": "markdown",
   "metadata": {},
   "source": [
    "### Social Security Number"
   ]
  },
  {
   "cell_type": "code",
   "execution_count": 26,
   "metadata": {},
   "outputs": [
    {
     "name": "stdout",
     "output_type": "stream",
     "text": [
      "123-45-6789 => social security number\n",
      "--------------------------------\n",
      "123-45-6789 => social_security_number\n",
      "--------------------------------\n"
     ]
    }
   ],
   "source": [
    "text = \"Meu número de segurança social é 123-45-6789. Por favor, mantenha isso confidencial.\"\n",
    "labels = [\"social security number\"]\n",
    "predict_entities_from_text(text, labels)\n",
    "labels = [\"social_security_number\"]\n",
    "predict_entities_from_text(text, labels)"
   ]
  },
  {
   "cell_type": "code",
   "execution_count": 27,
   "metadata": {},
   "outputs": [
    {
     "name": "stdout",
     "output_type": "stream",
     "text": [
      "No entities found\n",
      "--------------------------------\n",
      "987-65-4321 => social_security_number\n",
      "--------------------------------\n"
     ]
    }
   ],
   "source": [
    "text = \"\"\"\n",
    "Você pode confirmar se este número de segurança é válido? 987-65-4321.\n",
    "\"\"\"\n",
    "labels = [\"social security number\"]\n",
    "predict_entities_from_text(text, labels)\n",
    "labels = [\"social_security_number\"]\n",
    "predict_entities_from_text(text, labels)"
   ]
  },
  {
   "cell_type": "code",
   "execution_count": 28,
   "metadata": {},
   "outputs": [
    {
     "name": "stdout",
     "output_type": "stream",
     "text": [
      "555-55-5555 => social security number\n",
      "--------------------------------\n",
      "555-55-5555 => social_security_number\n",
      "--------------------------------\n"
     ]
    }
   ],
   "source": [
    "text = \"Os detalhes de João incluem o número de segurança social: 555-55-5555 e sua data de nascimento.\"\n",
    "labels = [\"social security number\"]\n",
    "predict_entities_from_text(text, labels)\n",
    "labels = [\"social_security_number\"]\n",
    "predict_entities_from_text(text, labels)"
   ]
  },
  {
   "cell_type": "code",
   "execution_count": 29,
   "metadata": {},
   "outputs": [
    {
     "name": "stdout",
     "output_type": "stream",
     "text": [
      "No entities found\n",
      "--------------------------------\n",
      "111-22-3333 => social_security_number\n",
      "--------------------------------\n"
     ]
    }
   ],
   "source": [
    "text = \"Para fins de identificação, use o número 111-22-3333.\"\n",
    "labels = [\"social security number\"]\n",
    "predict_entities_from_text(text, labels)\n",
    "labels = [\"social_security_number\"]\n",
    "predict_entities_from_text(text, labels)"
   ]
  },
  {
   "cell_type": "code",
   "execution_count": 30,
   "metadata": {},
   "outputs": [
    {
     "name": "stdout",
     "output_type": "stream",
     "text": [
      "XXX-XX-6789 => social security number\n",
      "--------------------------------\n",
      "XXX-XX-6789 => social_security_number\n",
      "--------------------------------\n"
     ]
    }
   ],
   "source": [
    "text = \"Aqui está o meu número: XXX-XX-6789.\"\n",
    "labels = [\"social security number\"]\n",
    "predict_entities_from_text(text, labels)\n",
    "labels = [\"social_security_number\"]\n",
    "predict_entities_from_text(text, labels)"
   ]
  },
  {
   "cell_type": "code",
   "execution_count": 31,
   "metadata": {},
   "outputs": [
    {
     "name": "stdout",
     "output_type": "stream",
     "text": [
      "4321 => social security number\n",
      "--------------------------------\n",
      "4321 => social_security_number\n",
      "--------------------------------\n"
     ]
    }
   ],
   "source": [
    "text = \"O número termina em 4321.\"\n",
    "labels = [\"social security number\"]\n",
    "predict_entities_from_text(text, labels)\n",
    "labels = [\"social_security_number\"]\n",
    "predict_entities_from_text(text, labels)"
   ]
  },
  {
   "cell_type": "code",
   "execution_count": 32,
   "metadata": {},
   "outputs": [
    {
     "name": "stdout",
     "output_type": "stream",
     "text": [
      "123456789 => social security number\n",
      "--------------------------------\n",
      "123456789 => social_security_number\n",
      "--------------------------------\n"
     ]
    }
   ],
   "source": [
    "text = \"O código 123456789 não é um número de segurança social, mas parece com um.\"\n",
    "labels = [\"social security number\"]\n",
    "predict_entities_from_text(text, labels)\n",
    "labels = [\"social_security_number\"]\n",
    "predict_entities_from_text(text, labels)"
   ]
  },
  {
   "cell_type": "code",
   "execution_count": 33,
   "metadata": {},
   "outputs": [
    {
     "name": "stdout",
     "output_type": "stream",
     "text": [
      "No entities found\n",
      "--------------------------------\n",
      "123.45.6789 => social_security_number\n",
      "--------------------------------\n"
     ]
    }
   ],
   "source": [
    "text = \"Identificação: 123.45.6789 poderia ser confundida com um número oficial\"\n",
    "labels = [\"social security number\"]\n",
    "predict_entities_from_text(text, labels)\n",
    "labels = [\"social_security_number\"]\n",
    "predict_entities_from_text(text, labels)"
   ]
  },
  {
   "cell_type": "code",
   "execution_count": 34,
   "metadata": {},
   "outputs": [
    {
     "name": "stdout",
     "output_type": "stream",
     "text": [
      "No entities found\n",
      "--------------------------------\n",
      "número de segurança => social_security_number\n",
      "--------------------------------\n"
     ]
    }
   ],
   "source": [
    "text = \"Ela mencionou o número de segurança, mas não forneceu detalhes.\"\n",
    "labels = [\"social security number\"]\n",
    "predict_entities_from_text(text, labels)\n",
    "labels = [\"social_security_number\"]\n",
    "predict_entities_from_text(text, labels)"
   ]
  },
  {
   "cell_type": "code",
   "execution_count": 35,
   "metadata": {},
   "outputs": [
    {
     "name": "stdout",
     "output_type": "stream",
     "text": [
      "No entities found\n",
      "--------------------------------\n",
      "No entities found\n",
      "--------------------------------\n"
     ]
    }
   ],
   "source": [
    "text = \"A equipe de segurança precisa verificar o documento.\"\n",
    "labels = [\"social security number\"]\n",
    "predict_entities_from_text(text, labels)\n",
    "labels = [\"social_security_number\"]\n",
    "predict_entities_from_text(text, labels)"
   ]
  },
  {
   "cell_type": "code",
   "execution_count": 36,
   "metadata": {},
   "outputs": [
    {
     "name": "stdout",
     "output_type": "stream",
     "text": [
      "No entities found\n",
      "--------------------------------\n",
      "No entities found\n",
      "--------------------------------\n"
     ]
    }
   ],
   "source": [
    "text = \"Este é apenas um teste para evitar que labels sejam ativadas por engano.\"\n",
    "labels = [\"social security number\"]\n",
    "predict_entities_from_text(text, labels)\n",
    "labels = [\"social_security_number\"]\n",
    "predict_entities_from_text(text, labels)"
   ]
  },
  {
   "cell_type": "code",
   "execution_count": 37,
   "metadata": {},
   "outputs": [
    {
     "name": "stderr",
     "output_type": "stream",
     "text": [
      "c:\\Users\\guilh\\AppData\\Local\\Programs\\Python\\Python312\\Lib\\site-packages\\gliner\\data_processing\\processor.py:269: UserWarning: Sentence of length 432 has been truncated to 384\n",
      "  warnings.warn(f\"Sentence of length {len(tokens)} has been truncated to {max_len}\")\n"
     ]
    },
    {
     "name": "stdout",
     "output_type": "stream",
     "text": [
      "123-45-6789 => social security number\n",
      "987-65-4321 => social security number\n",
      "4321 => social security number\n",
      "--------------------------------\n",
      "123-45-6789 => social_security_number\n",
      "987-65-4321 => social_security_number\n",
      "4321 => social_security_number\n",
      "--------------------------------\n",
      "123-45-6789 => social_security_number\n",
      "987-65-4321 => social security number\n",
      "555-55-5555 => social_security_number\n",
      "111-22-3333 => social_security_number\n",
      "123456789 => social_security_number\n",
      "4321 => social_security_number\n",
      "--------------------------------\n"
     ]
    }
   ],
   "source": [
    "text = \"\"\"\n",
    "John Smith estava preenchendo um formulário de emprego e precisou informar seu Social Security Number (SSN). Ele digitou o número 123-45-6789 no campo apropriado e enviou o documento. Durante o preenchimento, foi solicitado que ele também anexasse uma cópia digitalizada do cartão do SSN para confirmação dos dados. Ele comentou: \"O cartão está um pouco desgastado, mas o número ainda está legível.\"\n",
    "Mais tarde, no departamento de recursos humanos, outro funcionário relatou que seu SSN, 987-65-4321, havia sido usado indevidamente em um pedido de crédito. Ele imediatamente contatou o serviço de proteção ao consumidor para relatar a fraude. A atendente pediu que ele confirmasse o número e fornecesse mais detalhes para registrar a reclamação.\n",
    "Em um contexto diferente, durante o atendimento no hospital, Sarah foi questionada se poderia fornecer seu SSN. Ela respondeu: \"Claro, o número é 555-55-5555, mas também posso usar meu ID do plano de saúde.\" O atendente explicou que o SSN é frequentemente usado como identificação secundária nos sistemas do hospital.\n",
    "Algumas empresas de serviços públicos também solicitam o SSN ao abrir uma conta. Por exemplo, um cliente foi instruído a inserir o número 111-22-3333 ao configurar o serviço de eletricidade. No entanto, o sistema rejeitou o formato e pediu que ele tentasse novamente sem os traços, como 111223333.\n",
    "Em um e-mail enviado para um consultor financeiro, um cliente escreveu: \"Por motivos de segurança, não estou confortável em compartilhar meu SSN completo. Aqui está uma versão truncada: XXX-XX-6789. Espero que isso seja suficiente para a análise preliminar.\"\n",
    "Além disso, ao revisar uma base de dados, foi encontrada uma inconsistência: um dos registros tinha um número que parecia ser um SSN, mas não estava formatado corretamente, como 123456789. A equipe de TI comentou que alguns registros antigos poderiam não seguir o formato padrão e precisariam ser corrigidos manualmente.\n",
    "Em outro caso, um cliente relatou ao suporte de uma instituição bancária: \"Estou tentando atualizar minhas informações de conta, mas meu SSN termina em 4321, e o sistema não está aceitando.\"\n",
    "Finalmente, em uma apresentação de segurança, o especialista lembrou: \"O SSN deve ser protegido. Evite compartilhá-lo em e-mails ou documentos públicos. Em caso de dúvida, use apenas os últimos quatro dígitos, como no exemplo XXX-XX-1234.\n",
    "\"\"\"\n",
    "labels = [\"social security number\"]\n",
    "predict_entities_from_text(text, labels)\n",
    "labels = [\"social_security_number\"]\n",
    "predict_entities_from_text(text, labels)\n",
    "labels = [\"social security number\", \"social_security_number\"]\n",
    "predict_entities_from_text(text, labels)\n"
   ]
  },
  {
   "cell_type": "markdown",
   "metadata": {},
   "source": [
    "Parece que novamente, se você usar as duas labels, o resultado é melhor.<br><br>\n",
    "DECISÃO para SSN -> manter os dois\n"
   ]
  },
  {
   "cell_type": "markdown",
   "metadata": {},
   "source": [
    "### Precisa de social media handle?"
   ]
  },
  {
   "cell_type": "code",
   "execution_count": 38,
   "metadata": {},
   "outputs": [],
   "source": [
    "labels = [\"person\"]"
   ]
  },
  {
   "cell_type": "code",
   "execution_count": 39,
   "metadata": {},
   "outputs": [
    {
     "name": "stdout",
     "output_type": "stream",
     "text": [
      "@time_bi => person\n",
      "@Karen Angelo => person\n",
      "@Katia Lima => person\n",
      "@Karina Freitas de Paula => person\n",
      "@Paula Fogalle => person\n",
      "@Karina Freitas de Paula => person\n",
      "@Karen Angelo => person\n",
      "--------------------------------\n"
     ]
    }
   ],
   "source": [
    "text = \"\"\"melhorar mensagem\n",
    "@time_bi Bom dia!\n",
    "Conforme alinhado na daily dos dashs gerenciais, seguem os prazos de entrega de cada dashboard em prod:\n",
    "Coach - 20/09 - @Karen Angelo\n",
    "Energy - 23/09 - @Katia Lima\n",
    "Nutri - 24/09 - @Karina Freitas de Paula\n",
    "Nao iremos fazer nenhum tipo de padronizacao no momento por conta do tempo que temos ate a disponibilizacao, sendo assim, precisamos que façam apenas os ajustes ja mapeados pela @Paula Fogalle.\n",
    "@Karina Freitas de Paula caso voce nao consiga finalizar o dash de Studios ate amanha, assim que a @Karen Angelo finalizar o Coach, ela vai puxar o dash do Nutri para adiantarmos.\"\"\"\n",
    "predict_entities_from_text(text, labels)"
   ]
  },
  {
   "cell_type": "markdown",
   "metadata": {},
   "source": [
    "A label \"person\" deu conta.<br><br>\n",
    "DECISÃO -> retirar \"social media handle\"\n"
   ]
  },
  {
   "cell_type": "code",
   "execution_count": 40,
   "metadata": {},
   "outputs": [],
   "source": [
    "all_labels = [\"person\",\"organization\",\"phone number\",\"address\",\"passport number\",\"email\",\"credit card number\",\"social security number\",\"health insurance id number\",\"date of birth\",\"mobile phone number\",\"bank account number\",\"medication\",\"cpf\",\"driver's license number\",\"tax identification number\",\"medical condition\",\"identity card number\",\"national id number\",\"ip address\",\"email address\",\"iban\",\"credit card expiration date\",\"username\",\"health insurance number\",\"registration number\",\"student id number\",\"insurance number\",\"flight number\",\"landline phone number\",\"blood type\",\"cvv\",\"reservation number\",\"digital signature\",\"license plate number\",\"cnpj\",\"postal code\",\"passport_number\",\"serial number\",\"vehicle registration number\",\"credit card brand\",\"fax number\",\"visa number\",\"insurance company\",\"identity document number\",\"transaction number\",\"national health insurance number\",\"cvc\",\"birth certificate number\",\"train ticket number\",\"passport expiration date\",\"social_security_number\"]"
   ]
  },
  {
   "cell_type": "markdown",
   "metadata": {},
   "source": [
    "### RG\n",
    "labels: [\"identity card number\",\"national id number\", \"identity document number\", \"identity card\"]"
   ]
  },
  {
   "cell_type": "code",
   "execution_count": 41,
   "metadata": {},
   "outputs": [
    {
     "name": "stdout",
     "output_type": "stream",
     "text": [
      "12.345.678-9 => identity card number\n",
      "--------------------------------\n",
      "12.345.678-9 => national id number\n",
      "--------------------------------\n",
      "12.345.678-9 => identity document number\n",
      "--------------------------------\n"
     ]
    }
   ],
   "source": [
    "text = \"O número do meu RG é 12.345.678-9. Preciso atualizá-lo no sistema.\"\n",
    "labels = [\"identity card number\"]\n",
    "predict_entities_from_text(text, labels)\n",
    "labels = [\"national id number\"]\n",
    "predict_entities_from_text(text, labels)\n",
    "labels = [\"identity document number\"]\n",
    "predict_entities_from_text(text, labels)"
   ]
  },
  {
   "cell_type": "code",
   "execution_count": 42,
   "metadata": {},
   "outputs": [
    {
     "name": "stdout",
     "output_type": "stream",
     "text": [
      "RG, número 98.765.432-1 => identity card number\n",
      "--------------------------------\n",
      "RG, número 98.765.432-1 => national id number\n",
      "--------------------------------\n",
      "RG, número 98.765.432-1 => identity document number\n",
      "--------------------------------\n"
     ]
    }
   ],
   "source": [
    "text = \"Por favor, envie uma cópia do seu RG, número 98.765.432-1, junto com os documentos.\"\n",
    "labels = [\"identity card number\"]\n",
    "predict_entities_from_text(text, labels)\n",
    "labels = [\"national id number\"]\n",
    "predict_entities_from_text(text, labels)\n",
    "labels = [\"identity document number\"]\n",
    "predict_entities_from_text(text, labels)"
   ]
  },
  {
   "cell_type": "code",
   "execution_count": 43,
   "metadata": {},
   "outputs": [
    {
     "name": "stdout",
     "output_type": "stream",
     "text": [
      "RG 34.567.890-1 => identity card number\n",
      "--------------------------------\n",
      "RG 34.567.890-1 => national id number\n",
      "--------------------------------\n",
      "RG 34.567.890-1 => identity document number\n",
      "--------------------------------\n"
     ]
    }
   ],
   "source": [
    "text = \"Maria entregou os documentos: CPF 123.456.789-00 e RG 34.567.890-1.\"\n",
    "labels = [\"identity card number\"]\n",
    "predict_entities_from_text(text, labels)\n",
    "labels = [\"national id number\"]\n",
    "predict_entities_from_text(text, labels)\n",
    "labels = [\"identity document number\"]\n",
    "predict_entities_from_text(text, labels)"
   ]
  },
  {
   "cell_type": "code",
   "execution_count": 44,
   "metadata": {},
   "outputs": [
    {
     "name": "stdout",
     "output_type": "stream",
     "text": [
      "RG: 45.678.901-2 => identity card number\n",
      "--------------------------------\n",
      "RG: 45.678.901-2 => national id number\n",
      "--------------------------------\n",
      "RG: 45.678.901-2 => identity document number\n",
      "--------------------------------\n"
     ]
    }
   ],
   "source": [
    "text = \"Para acessar o serviço, você precisa informar o RG: 45.678.901-2.\"\n",
    "labels = [\"identity card number\"]\n",
    "predict_entities_from_text(text, labels)\n",
    "labels = [\"national id number\"]\n",
    "predict_entities_from_text(text, labels)\n",
    "labels = [\"identity document number\"]\n",
    "predict_entities_from_text(text, labels)"
   ]
  },
  {
   "cell_type": "code",
   "execution_count": 45,
   "metadata": {},
   "outputs": [
    {
     "name": "stdout",
     "output_type": "stream",
     "text": [
      "123456789 => identity card number\n",
      "--------------------------------\n",
      "123456789 => national id number\n",
      "--------------------------------\n",
      "123456789 => identity document number\n",
      "--------------------------------\n"
     ]
    }
   ],
   "source": [
    "text = \"Meu RG é 123456789.\"\n",
    "labels = [\"identity card number\"]\n",
    "predict_entities_from_text(text, labels)\n",
    "labels = [\"national id number\"]\n",
    "predict_entities_from_text(text, labels)\n",
    "labels = [\"identity document number\"]\n",
    "predict_entities_from_text(text, labels)"
   ]
  },
  {
   "cell_type": "code",
   "execution_count": 46,
   "metadata": {},
   "outputs": [
    {
     "name": "stdout",
     "output_type": "stream",
     "text": [
      "9876543210 => identity card number\n",
      "--------------------------------\n",
      "9876543210 => national id number\n",
      "--------------------------------\n",
      "9876543210 => identity document number\n",
      "--------------------------------\n"
     ]
    }
   ],
   "source": [
    "text = \"Insira o número do RG, como 9876543210, sem pontos ou traços.\"\n",
    "labels = [\"identity card number\"]\n",
    "predict_entities_from_text(text, labels)\n",
    "labels = [\"national id number\"]\n",
    "predict_entities_from_text(text, labels)\n",
    "labels = [\"identity document number\"]\n",
    "predict_entities_from_text(text, labels)"
   ]
  },
  {
   "cell_type": "code",
   "execution_count": 47,
   "metadata": {},
   "outputs": [
    {
     "name": "stdout",
     "output_type": "stream",
     "text": [
      "RG => identity card number\n",
      "--------------------------------\n",
      "RG => national id number\n",
      "--------------------------------\n",
      "número do RG => identity document number\n",
      "--------------------------------\n"
     ]
    }
   ],
   "source": [
    "text = \"Preciso do número do RG para completar o cadastro.\"\n",
    "labels = [\"identity card number\"]\n",
    "predict_entities_from_text(text, labels)\n",
    "labels = [\"national id number\"]\n",
    "predict_entities_from_text(text, labels)\n",
    "labels = [\"identity document number\"]\n",
    "predict_entities_from_text(text, labels)"
   ]
  },
  {
   "cell_type": "code",
   "execution_count": 48,
   "metadata": {},
   "outputs": [
    {
     "name": "stdout",
     "output_type": "stream",
     "text": [
      "RG => identity card number\n",
      "--------------------------------\n",
      "RG => national id number\n",
      "--------------------------------\n",
      "RG => identity document number\n",
      "--------------------------------\n"
     ]
    }
   ],
   "source": [
    "text = \"Não se esqueça de enviar a foto do seu RG.\"\n",
    "labels = [\"identity card number\"]\n",
    "predict_entities_from_text(text, labels)\n",
    "labels = [\"national id number\"]\n",
    "predict_entities_from_text(text, labels)\n",
    "labels = [\"identity document number\"]\n",
    "predict_entities_from_text(text, labels)"
   ]
  },
  {
   "cell_type": "code",
   "execution_count": 49,
   "metadata": {},
   "outputs": [
    {
     "name": "stdout",
     "output_type": "stream",
     "text": [
      "No entities found\n",
      "--------------------------------\n",
      "CPF => national id number\n",
      "--------------------------------\n",
      "No entities found\n",
      "--------------------------------\n"
     ]
    }
   ],
   "source": [
    "text = \"Os documentos necessários incluem CPF e comprovante de residência.\"\n",
    "labels = [\"identity card number\"]\n",
    "predict_entities_from_text(text, labels)\n",
    "labels = [\"national id number\"]\n",
    "predict_entities_from_text(text, labels)\n",
    "labels = [\"identity document number\"]\n",
    "predict_entities_from_text(text, labels)"
   ]
  },
  {
   "cell_type": "code",
   "execution_count": 50,
   "metadata": {},
   "outputs": [
    {
     "name": "stdout",
     "output_type": "stream",
     "text": [
      "No entities found\n",
      "--------------------------------\n",
      "No entities found\n",
      "--------------------------------\n",
      "No entities found\n",
      "--------------------------------\n"
     ]
    }
   ],
   "source": [
    "text = \"Nenhum número de documento foi informado na mensagem.\"\n",
    "labels = [\"identity card number\"]\n",
    "predict_entities_from_text(text, labels)\n",
    "labels = [\"national id number\"]\n",
    "predict_entities_from_text(text, labels)\n",
    "labels = [\"identity document number\"]\n",
    "predict_entities_from_text(text, labels)"
   ]
  },
  {
   "cell_type": "code",
   "execution_count": 51,
   "metadata": {},
   "outputs": [
    {
     "name": "stdout",
     "output_type": "stream",
     "text": [
      "12.345.678-9 => identity card number\n",
      "98.765.432-1 => identity card number\n",
      "34.567.890-1 => identity card number\n",
      "45.678.901-2 => identity card number\n",
      "--------------------------------\n",
      "12.345.678-9 => national id number\n",
      "34.567.890-1 => national id number\n",
      "--------------------------------\n",
      "12.345.678-9 => identity document number\n",
      "98.765.432-1 => identity document number\n",
      "34.567.890-1 => identity document number\n",
      "45.678.901-2 => identity document number\n",
      "987654321 => identity document number\n",
      "--------------------------------\n",
      "12.345.678-9 => identity document number\n",
      "98.765.432-1 => identity document number\n",
      "34.567.890-1 => identity card number\n",
      "45.678.901-2 => identity card number\n",
      "--------------------------------\n"
     ]
    }
   ],
   "source": [
    "text = \"\"\"\n",
    "João Silva foi ao cartório para renovar sua identidade. O número do RG dele é 12.345.678-9, e ele mencionou que o documento estava com a validade expirada. Além disso, sua esposa, Maria Oliveira, entregou uma cópia do RG número 98.765.432-1 para complementar o processo de autenticação.\n",
    "Durante o atendimento, a atendente informou que, para a matrícula escolar de seus filhos, seria necessário o RG dos responsáveis. O documento de João já estava cadastrado, mas o RG de Maria ainda não constava no sistema. João questionou: \"Eu posso apresentar o RG dela, mesmo que seja uma cópia simples?\"\n",
    "O sistema também requisitou outros documentos, como CPF (123.456.789-00) e comprovante de residência. Para casos de segunda via, o número do RG antigo deve ser informado, como no exemplo 34.567.890-1.\n",
    "Em outro contexto, Carlos entregou os documentos exigidos pela empresa, incluindo o RG com número 45.678.901-2, mas foi orientado a digitalizar o documento com melhor qualidade. A atendente explicou: \"Os dados do RG devem estar legíveis, especialmente o número.\"\n",
    "Por fim, um cliente emitiu um alerta ao suporte técnico ao informar: \"Tentei cadastrar meu RG no formato sem pontos ou traços, como 987654321, mas o sistema não reconheceu o documento.\" O suporte respondeu que o sistema aceita tanto o formato com pontuação quanto o número limpo.\n",
    "\"\"\"\n",
    "labels = [\"identity card number\"]\n",
    "predict_entities_from_text(text, labels)\n",
    "labels = [\"national id number\"]\n",
    "predict_entities_from_text(text, labels)\n",
    "labels = [\"identity document number\"]\n",
    "predict_entities_from_text(text, labels)\n",
    "labels = [\"identity card number\", \"identity document number\"]\n",
    "predict_entities_from_text(text, labels)"
   ]
  },
  {
   "cell_type": "markdown",
   "metadata": {},
   "source": [
    "CONCLUSÃO -> existem labels que identificam o RG (identity card number, identity document number)"
   ]
  },
  {
   "cell_type": "markdown",
   "metadata": {},
   "source": [
    "### Phone Number\n",
    "Retirando o mobile e fixo, deixando apenas o geral\n"
   ]
  },
  {
   "cell_type": "code",
   "execution_count": 52,
   "metadata": {},
   "outputs": [],
   "source": [
    "all_labels = [\"person\",\"organization\",\"phone number\",\"address\",\"passport number\",\"email\",\"credit card number\",\"social security number\",\"health insurance id number\",\"date of birth\",\"bank account number\",\"medication\",\"cpf\",\"driver's license number\",\"tax identification number\",\"medical condition\",\"identity card number\",\"national id number\",\"ip address\",\"email address\",\"iban\",\"credit card expiration date\",\"username\",\"health insurance number\",\"registration number\",\"student id number\",\"insurance number\",\"flight number\",\"blood type\",\"cvv\",\"reservation number\",\"digital signature\",\"license plate number\",\"cnpj\",\"postal code\",\"passport_number\",\"serial number\",\"vehicle registration number\",\"credit card brand\",\"fax number\",\"visa number\",\"insurance company\",\"identity document number\",\"transaction number\",\"national health insurance number\",\"cvc\",\"birth certificate number\",\"train ticket number\",\"passport expiration date\",\"social_security_number\"]"
   ]
  },
  {
   "cell_type": "markdown",
   "metadata": {},
   "source": [
    "### Vericando SUS, INSS e dados de previdência"
   ]
  },
  {
   "cell_type": "markdown",
   "metadata": {},
   "source": [
    "#### SUS"
   ]
  },
  {
   "cell_type": "code",
   "execution_count": 53,
   "metadata": {},
   "outputs": [
    {
     "name": "stdout",
     "output_type": "stream",
     "text": [
      "Label solo\n",
      "123 4567 8901 2345 => national health insurance number\n",
      "--------------------------------\n",
      "Label solo\n",
      "123 4567 8901 2345 => health insurance number\n",
      "--------------------------------\n",
      "Label solo\n",
      "123 4567 8901 2345 => health insurance id number\n",
      "--------------------------------\n",
      "Todas as labels\n",
      "No entities found\n",
      "--------------------------------\n"
     ]
    }
   ],
   "source": [
    "text = \"O número do meu Cartão Nacional de Saúde é 123 4567 8901 2345, e eu preciso atualizá-lo no sistema.\"\n",
    "labels = [\"national health insurance number\"]\n",
    "print(\"Label solo\")\n",
    "predict_entities_from_text(text, labels)\n",
    "labels = [\"health insurance number\"]\n",
    "print(\"Label solo\")\n",
    "predict_entities_from_text(text, labels)\n",
    "labels = [\"health insurance id number\"]\n",
    "print(\"Label solo\")\n",
    "predict_entities_from_text(text, labels)\n",
    "print(\"Todas as labels\")\n",
    "predict_entities_from_text(text, all_labels)"
   ]
  },
  {
   "cell_type": "code",
   "execution_count": 54,
   "metadata": {},
   "outputs": [
    {
     "name": "stdout",
     "output_type": "stream",
     "text": [
      "Label solo\n",
      "987 6543 2109 8765 => national health insurance number\n",
      "--------------------------------\n",
      "Label solo\n",
      "987 6543 2109 8765 => health insurance number\n",
      "--------------------------------\n",
      "Label solo\n",
      "987 6543 2109 8765 => health insurance id number\n",
      "--------------------------------\n",
      "Todas as labels\n",
      "987 6543 2109 8765 => credit card number\n",
      "--------------------------------\n"
     ]
    }
   ],
   "source": [
    "text = \"Durante o cadastro, solicitei o cartão SUS e recebi o número 987 6543 2109 8765, que agora preciso levar à consulta.\"\n",
    "labels = [\"national health insurance number\"]\n",
    "print(\"Label solo\")\n",
    "predict_entities_from_text(text, labels)\n",
    "labels = [\"health insurance number\"]\n",
    "print(\"Label solo\")\n",
    "predict_entities_from_text(text, labels)\n",
    "labels = [\"health insurance id number\"]\n",
    "print(\"Label solo\")\n",
    "predict_entities_from_text(text, labels)\n",
    "print(\"Todas as labels\")\n",
    "predict_entities_from_text(text, all_labels)"
   ]
  },
  {
   "cell_type": "code",
   "execution_count": 55,
   "metadata": {},
   "outputs": [
    {
     "name": "stdout",
     "output_type": "stream",
     "text": [
      "Label solo\n",
      "345678901234567 => national health insurance number\n",
      "--------------------------------\n",
      "Label solo\n",
      "345678901234567 => health insurance number\n",
      "--------------------------------\n",
      "Label solo\n",
      "345678901234567 => health insurance id number\n",
      "--------------------------------\n",
      "Todas as labels\n",
      "345678901234567 => health insurance id number\n",
      "--------------------------------\n"
     ]
    }
   ],
   "source": [
    "text = \"Por favor, informe seu número do SUS no formato correto: 345678901234567.\"\n",
    "labels = [\"national health insurance number\"]\n",
    "print(\"Label solo\")\n",
    "predict_entities_from_text(text, labels)\n",
    "labels = [\"health insurance number\"]\n",
    "print(\"Label solo\")\n",
    "predict_entities_from_text(text, labels)\n",
    "labels = [\"health insurance id number\"]\n",
    "print(\"Label solo\")\n",
    "predict_entities_from_text(text, labels)\n",
    "print(\"Todas as labels\")\n",
    "predict_entities_from_text(text, all_labels)"
   ]
  },
  {
   "cell_type": "code",
   "execution_count": 56,
   "metadata": {},
   "outputs": [
    {
     "name": "stdout",
     "output_type": "stream",
     "text": [
      "Label solo\n",
      "8765 4321 0987 6543 => national health insurance number\n",
      "--------------------------------\n",
      "Label solo\n",
      "8765 4321 0987 6543 => health insurance number\n",
      "--------------------------------\n",
      "Label solo\n",
      "8765 4321 0987 6543 => health insurance id number\n",
      "--------------------------------\n",
      "Todas as labels\n",
      "médico => person\n",
      "eu => person\n",
      "8765 4321 0987 6543 => health insurance number\n",
      "--------------------------------\n"
     ]
    }
   ],
   "source": [
    "text = \"O médico pediu para eu confirmar o número do SUS: 8765 4321 0987 6543, mas o sistema não reconheceu.\"\n",
    "labels = [\"national health insurance number\"]\n",
    "print(\"Label solo\")\n",
    "predict_entities_from_text(text, labels)\n",
    "labels = [\"health insurance number\"]\n",
    "print(\"Label solo\")\n",
    "predict_entities_from_text(text, labels)\n",
    "labels = [\"health insurance id number\"]\n",
    "print(\"Label solo\")\n",
    "predict_entities_from_text(text, labels)\n",
    "print(\"Todas as labels\")\n",
    "predict_entities_from_text(text, all_labels)"
   ]
  },
  {
   "cell_type": "markdown",
   "metadata": {},
   "source": [
    "Quando usamos todas as labels, o resultado é muito pior, ele não consegue identificar ou confunde com cartão de crédito.<br><br>\n",
    "Porém quando usamos apenas a label \"national health insurance number\", o resultado é OK!"
   ]
  },
  {
   "cell_type": "markdown",
   "metadata": {},
   "source": [
    "#### INSS"
   ]
  },
  {
   "cell_type": "code",
   "execution_count": 68,
   "metadata": {},
   "outputs": [
    {
     "name": "stdout",
     "output_type": "stream",
     "text": [
      "Label solo\n",
      "123.456.789-0 => insurance number\n",
      "--------------------------------\n",
      "Label solo\n",
      "No entities found\n",
      "--------------------------------\n",
      "Todas as labels\n",
      "INSS => organization\n",
      "123.456.789-0 => health insurance id number\n",
      "--------------------------------\n"
     ]
    }
   ],
   "source": [
    "text = \"Meu número de benefício do INSS é 123.456.789-0. Preciso desse dado para acompanhar o pagamento da aposentadoria.\"\n",
    "labels = [\"insurance number\"]\n",
    "print(\"Label solo\")\n",
    "predict_entities_from_text(text, labels)\n",
    "labels = [\"tax identification number\"]\n",
    "print(\"Label solo\")\n",
    "predict_entities_from_text(text, labels)\n",
    "print(\"Todas as labels\")\n",
    "predict_entities_from_text(text, all_labels)"
   ]
  },
  {
   "cell_type": "code",
   "execution_count": 58,
   "metadata": {},
   "outputs": [
    {
     "name": "stdout",
     "output_type": "stream",
     "text": [
      "Label solo\n",
      "9876543210 => insurance number\n",
      "--------------------------------\n",
      "Label solo\n",
      "9876543210 => tax identification number\n",
      "--------------------------------\n",
      "Todas as labels\n",
      "INSS => insurance company\n",
      "--------------------------------\n"
     ]
    }
   ],
   "source": [
    "text = \"Ao solicitar a pensão, informei meu número do INSS: 9876543210, mas disseram que o formato está errado.\"\n",
    "labels = [\"insurance number\"]\n",
    "print(\"Label solo\")\n",
    "predict_entities_from_text(text, labels)\n",
    "labels = [\"tax identification number\"]\n",
    "print(\"Label solo\")\n",
    "predict_entities_from_text(text, labels)\n",
    "print(\"Todas as labels\")\n",
    "predict_entities_from_text(text, all_labels)"
   ]
  },
  {
   "cell_type": "code",
   "execution_count": 59,
   "metadata": {},
   "outputs": [
    {
     "name": "stdout",
     "output_type": "stream",
     "text": [
      "Label solo\n",
      "111.222.333-4 => insurance number\n",
      "--------------------------------\n",
      "Label solo\n",
      "111.222.333-4 => tax identification number\n",
      "--------------------------------\n",
      "Todas as labels\n",
      "INSS => organization\n",
      "111.222.333-4 => registration number\n",
      "--------------------------------\n"
     ]
    }
   ],
   "source": [
    "text = \"O INSS solicitou o envio do número de registro: 111.222.333-4 para continuar com o processo.\"\n",
    "labels = [\"insurance number\"]\n",
    "print(\"Label solo\")\n",
    "predict_entities_from_text(text, labels)\n",
    "labels = [\"tax identification number\"]\n",
    "print(\"Label solo\")\n",
    "predict_entities_from_text(text, labels)\n",
    "print(\"Todas as labels\")\n",
    "predict_entities_from_text(text, all_labels)"
   ]
  },
  {
   "cell_type": "code",
   "execution_count": 60,
   "metadata": {},
   "outputs": [
    {
     "name": "stdout",
     "output_type": "stream",
     "text": [
      "Label solo\n",
      "555.666.777-8 => insurance number\n",
      "--------------------------------\n",
      "Label solo\n",
      "555.666.777-8 => tax identification number\n",
      "--------------------------------\n",
      "Todas as labels\n",
      "INSS => organization\n",
      "--------------------------------\n"
     ]
    }
   ],
   "source": [
    "text = \"A consulta do meu benefício no INSS foi feita pelo número 555.666.777-8, mas o sistema indicou inconsistência.\"\n",
    "labels = [\"insurance number\"]\n",
    "print(\"Label solo\")\n",
    "predict_entities_from_text(text, labels)\n",
    "labels = [\"tax identification number\"]\n",
    "print(\"Label solo\")\n",
    "predict_entities_from_text(text, labels)\n",
    "print(\"Todas as labels\")\n",
    "predict_entities_from_text(text, all_labels)"
   ]
  },
  {
   "cell_type": "markdown",
   "metadata": {},
   "source": [
    "Novamente, quando usamos todas as labels, ele não consegue identificar uma label que se estivesse solo funcionaria.<br><br>"
   ]
  },
  {
   "cell_type": "code",
   "execution_count": 61,
   "metadata": {},
   "outputs": [
    {
     "name": "stdout",
     "output_type": "stream",
     "text": [
      "Label solo\n",
      "No entities found\n",
      "--------------------------------\n",
      "Label solo\n",
      "123.4567.890-12 => tax identification number\n",
      "--------------------------------\n",
      "Todas as labels\n",
      "Previdência Social => organization\n",
      "--------------------------------\n"
     ]
    }
   ],
   "source": [
    "text = \"Ao preencher o cadastro na Previdência Social, foi solicitado o número 123.4567.890-12.\"\n",
    "labels = [\"insurance number\"]\n",
    "print(\"Label solo\")\n",
    "predict_entities_from_text(text, labels)\n",
    "labels = [\"tax identification number\"]\n",
    "print(\"Label solo\")\n",
    "predict_entities_from_text(text, labels)\n",
    "print(\"Todas as labels\")\n",
    "predict_entities_from_text(text, all_labels)"
   ]
  },
  {
   "cell_type": "code",
   "execution_count": 62,
   "metadata": {},
   "outputs": [
    {
     "name": "stdout",
     "output_type": "stream",
     "text": [
      "Label solo\n",
      "987654321-00 => insurance number\n",
      "--------------------------------\n",
      "Label solo\n",
      "No entities found\n",
      "--------------------------------\n",
      "Todas as labels\n",
      "Previdência => organization\n",
      "987654321-00 => registration number\n",
      "--------------------------------\n"
     ]
    }
   ],
   "source": [
    "text = \"Meu número de registro na Previdência é 987654321-00, mas estou com dificuldade de acessar o portal.\"\n",
    "labels = [\"insurance number\"]\n",
    "print(\"Label solo\")\n",
    "predict_entities_from_text(text, labels)\n",
    "labels = [\"tax identification number\"]\n",
    "print(\"Label solo\")\n",
    "predict_entities_from_text(text, labels)\n",
    "print(\"Todas as labels\")\n",
    "predict_entities_from_text(text, all_labels)"
   ]
  },
  {
   "cell_type": "code",
   "execution_count": 63,
   "metadata": {},
   "outputs": [
    {
     "name": "stdout",
     "output_type": "stream",
     "text": [
      "Label solo\n",
      "No entities found\n",
      "--------------------------------\n",
      "Label solo\n",
      "111222333-45 => tax identification number\n",
      "--------------------------------\n",
      "Todas as labels\n",
      "Previdência Social => organization\n",
      "111222333-45 => registration number\n",
      "--------------------------------\n"
     ]
    }
   ],
   "source": [
    "text = \"Por favor, confirme o número de registro da Previdência Social: 111222333-45.\"\n",
    "labels = [\"insurance number\"]\n",
    "print(\"Label solo\")\n",
    "predict_entities_from_text(text, labels)\n",
    "labels = [\"tax identification number\"]\n",
    "print(\"Label solo\")\n",
    "predict_entities_from_text(text, labels)\n",
    "print(\"Todas as labels\")\n",
    "predict_entities_from_text(text, all_labels)"
   ]
  },
  {
   "cell_type": "code",
   "execution_count": 64,
   "metadata": {},
   "outputs": [
    {
     "name": "stdout",
     "output_type": "stream",
     "text": [
      "Label solo\n",
      "No entities found\n",
      "--------------------------------\n",
      "Label solo\n",
      "456.7890.123-67 => tax identification number\n",
      "--------------------------------\n",
      "Todas as labels\n",
      "Previdência Social de Maria => organization\n",
      "--------------------------------\n"
     ]
    }
   ],
   "source": [
    "text = \"Preciso do número da Previdência Social de Maria para incluir no pedido: 456.7890.123-67.\"\n",
    "labels = [\"insurance number\"]\n",
    "print(\"Label solo\")\n",
    "predict_entities_from_text(text, labels)\n",
    "labels = [\"tax identification number\"]\n",
    "print(\"Label solo\")\n",
    "predict_entities_from_text(text, labels)\n",
    "print(\"Todas as labels\")\n",
    "predict_entities_from_text(text, all_labels)"
   ]
  },
  {
   "cell_type": "markdown",
   "metadata": {},
   "source": [
    "Novamente, quando usamos todas as labels, ele não consegue identificar uma label que se estivesse solo funcionaria."
   ]
  }
 ],
 "metadata": {
  "kernelspec": {
   "display_name": "nlp",
   "language": "python",
   "name": "python3"
  },
  "language_info": {
   "codemirror_mode": {
    "name": "ipython",
    "version": 3
   },
   "file_extension": ".py",
   "mimetype": "text/x-python",
   "name": "python",
   "nbconvert_exporter": "python",
   "pygments_lexer": "ipython3",
   "version": "3.12.5"
  }
 },
 "nbformat": 4,
 "nbformat_minor": 2
}
